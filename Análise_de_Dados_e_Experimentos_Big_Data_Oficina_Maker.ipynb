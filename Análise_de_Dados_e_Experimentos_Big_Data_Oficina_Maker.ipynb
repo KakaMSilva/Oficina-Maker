{
  "nbformat": 4,
  "nbformat_minor": 0,
  "metadata": {
    "colab": {
      "provenance": [],
      "collapsed_sections": [
        "BMr3xWIfhFAV",
        "doGgrGV8hLVX",
        "KNTa5qui_sUb",
        "WNZK_ZEVa-C_",
        "IRo0_LXST_Jx",
        "Qf7fpQwuUO5q",
        "F8sAoBEfTn_H",
        "_lLwyDLJtUMe",
        "IX75pzrFjmQm",
        "sX1XDU_YnEF9",
        "MUtoKpTxnX60",
        "d7rCLyprnjcw",
        "tYoI33jp4DwP",
        "M7kQ2T335X7e",
        "XQkkgRAi4my1",
        "ZS0iJ3RZ4-y_",
        "_nJJDs5zTeRt",
        "k3IJHFgirrMF",
        "Y5SjtMfPh_z3",
        "y3Q1_zppiLOE",
        "YbuNHCGYiT4i"
      ]
    },
    "kernelspec": {
      "name": "python3",
      "display_name": "Python 3"
    },
    "language_info": {
      "name": "python"
    }
  },
  "cells": [
    {
      "cell_type": "markdown",
      "source": [
        "# Projeto Oficina Maker\n",
        "## Estudantes: Felipe Ferro Ramires, Michael da Silva e Verônica Scheifer\n",
        "## Análise de Dados e Experimentos Big Data\n"
      ],
      "metadata": {
        "id": "Gp2wQXUZVzUm"
      }
    },
    {
      "cell_type": "markdown",
      "source": [
        "# **Importação**"
      ],
      "metadata": {
        "id": "BMr3xWIfhFAV"
      }
    },
    {
      "cell_type": "code",
      "source": [
        "import numpy as np\n",
        "import pandas as pd\n",
        "import matplotlib.pyplot as plt\n",
        "import seaborn as sns\n",
        "import numpy as np\n",
        "from scipy import stats as sp"
      ],
      "metadata": {
        "id": "PN11YTSzQF8j"
      },
      "execution_count": null,
      "outputs": []
    },
    {
      "cell_type": "code",
      "source": [
        "df = pd.read_csv(\"/content/2022-10-01_sigesguarda_-_Base_de_Dados.csv\", sep=';', encoding='ISO-8859-1')"
      ],
      "metadata": {
        "colab": {
          "base_uri": "https://localhost:8080/"
        },
        "id": "OgVN8VG0QGAY",
        "outputId": "2e7059c3-0f74-475d-aeb8-6c9838145522"
      },
      "execution_count": null,
      "outputs": [
        {
          "output_type": "stream",
          "name": "stderr",
          "text": [
            "/usr/local/lib/python3.7/dist-packages/IPython/core/interactiveshell.py:3326: DtypeWarning: Columns (16,20,21,34) have mixed types.Specify dtype option on import or set low_memory=False.\n",
            "  exec(code_obj, self.user_global_ns, self.user_ns)\n"
          ]
        }
      ]
    },
    {
      "cell_type": "markdown",
      "source": [
        "# **Informação do dataset**"
      ],
      "metadata": {
        "id": "doGgrGV8hLVX"
      }
    },
    {
      "cell_type": "code",
      "source": [
        "df.head()"
      ],
      "metadata": {
        "colab": {
          "base_uri": "https://localhost:8080/",
          "height": 433
        },
        "id": "gbQezY26QGEB",
        "outputId": "bc135629-3a61-4924-a320-17deaaff7069"
      },
      "execution_count": null,
      "outputs": [
        {
          "output_type": "execute_result",
          "data": {
            "text/plain": [
              "   QUANTIDADE_OCORRENCIA  ATENDIMENTO_ANO ATENDIMENTO_BAIRRO_NOME  \\\n",
              "0                      1           2009.0       CIDADE INDUSTRIAL   \n",
              "1                      1           2009.0              FAZENDINHA   \n",
              "2                      1           2009.0                 UBERABA   \n",
              "3                      1           2009.0           SÍTIO CERCADO   \n",
              "4                      1           2009.0               TATUQUARA   \n",
              "\n",
              "                EQUIPAMENTO_URBANO_NOME FLAG_EQUIPAMENTO_URBANO  \\\n",
              "0                                   NaN                     NÃO   \n",
              "1                  BOSQUE DA FAZENDINHA                     SIM   \n",
              "2                                   NaN                     NÃO   \n",
              "3                                   NaN                     NÃO   \n",
              "4  CENTRO DE ESPORTE E LAZER SANTA RITA                     SIM   \n",
              "\n",
              "  FLAG_FLAGRANTE                   LOGRADOURO_NOME  NATUREZA1_DEFESA_CIVIL  \\\n",
              "0            NÃO              DAVI XAVIER DA SILVA                       0   \n",
              "1            NÃO                     CARLOS KLEMTZ                       0   \n",
              "2            NÃO  DOUTOR JOÃO DE PAULA MOURA BRITO                       0   \n",
              "3            NÃO  EDGARD CAVALCANTI DE ALBUQUERQUE                       0   \n",
              "4            NÃO            CARLOS MUNHOZ DA ROCHA                       0   \n",
              "\n",
              "  NATUREZA1_DESCRICAO  NATUREZA2_DEFESA_CIVIL  ... OCORRENCIA_HORA  \\\n",
              "0             Alarmes                     NaN  ...        15:14:00   \n",
              "1               Roubo                     NaN  ...        15:22:00   \n",
              "2             Animais                     NaN  ...        15:59:00   \n",
              "3             Animais                     NaN  ...        16:13:00   \n",
              "4             Alarmes                     NaN  ...        16:29:00   \n",
              "\n",
              "   OCORRENCIA_MES OPERACAO_DESCRICAO  ORIGEM_CHAMADO_DESCRICAO  \\\n",
              "0               1                NaN                         .   \n",
              "1               1                NaN                       153   \n",
              "2               1                NaN                       156   \n",
              "3               1                NaN                       156   \n",
              "4               1                NaN                         .   \n",
              "\n",
              "  REGIONAL_FATO_NOME                     SECRETARIA_NOME SECRETARIA_SIGLA  \\\n",
              "0                CIC             FUNDAÇÃO DE AÇÃO SOCIAL              FAS   \n",
              "1             PORTÃO  SECRETARIA MUNICIPAL MEIO AMBIENTE             SMMA   \n",
              "2             CAJURU       SECRETARIA MUNICIPAL DA SAÚDE              SMS   \n",
              "3        BAIRRO NOVO       SECRETARIA MUNICIPAL DA SAÚDE              SMS   \n",
              "4        PINHEIRINHO             FUNDAÇÃO DE AÇÃO SOCIAL              FAS   \n",
              "\n",
              "  SERVICO_NOME SITUACAO_EQUIPE_DESCRICAO NUMERO_PROTOCOLO_156  \n",
              "0         SIGA                       NaN                  NaN  \n",
              "1       NORMAL                       NaN                  NaN  \n",
              "2        SACAF                       NaN            2640856.0  \n",
              "3        SACAF                       NaN            2640854.0  \n",
              "4         SIGA                       NaN                  NaN  \n",
              "\n",
              "[5 rows x 36 columns]"
            ],
            "text/html": [
              "\n",
              "  <div id=\"df-db0198e3-3db5-4b9d-89e8-3f45f6ed0b9e\">\n",
              "    <div class=\"colab-df-container\">\n",
              "      <div>\n",
              "<style scoped>\n",
              "    .dataframe tbody tr th:only-of-type {\n",
              "        vertical-align: middle;\n",
              "    }\n",
              "\n",
              "    .dataframe tbody tr th {\n",
              "        vertical-align: top;\n",
              "    }\n",
              "\n",
              "    .dataframe thead th {\n",
              "        text-align: right;\n",
              "    }\n",
              "</style>\n",
              "<table border=\"1\" class=\"dataframe\">\n",
              "  <thead>\n",
              "    <tr style=\"text-align: right;\">\n",
              "      <th></th>\n",
              "      <th>QUANTIDADE_OCORRENCIA</th>\n",
              "      <th>ATENDIMENTO_ANO</th>\n",
              "      <th>ATENDIMENTO_BAIRRO_NOME</th>\n",
              "      <th>EQUIPAMENTO_URBANO_NOME</th>\n",
              "      <th>FLAG_EQUIPAMENTO_URBANO</th>\n",
              "      <th>FLAG_FLAGRANTE</th>\n",
              "      <th>LOGRADOURO_NOME</th>\n",
              "      <th>NATUREZA1_DEFESA_CIVIL</th>\n",
              "      <th>NATUREZA1_DESCRICAO</th>\n",
              "      <th>NATUREZA2_DEFESA_CIVIL</th>\n",
              "      <th>...</th>\n",
              "      <th>OCORRENCIA_HORA</th>\n",
              "      <th>OCORRENCIA_MES</th>\n",
              "      <th>OPERACAO_DESCRICAO</th>\n",
              "      <th>ORIGEM_CHAMADO_DESCRICAO</th>\n",
              "      <th>REGIONAL_FATO_NOME</th>\n",
              "      <th>SECRETARIA_NOME</th>\n",
              "      <th>SECRETARIA_SIGLA</th>\n",
              "      <th>SERVICO_NOME</th>\n",
              "      <th>SITUACAO_EQUIPE_DESCRICAO</th>\n",
              "      <th>NUMERO_PROTOCOLO_156</th>\n",
              "    </tr>\n",
              "  </thead>\n",
              "  <tbody>\n",
              "    <tr>\n",
              "      <th>0</th>\n",
              "      <td>1</td>\n",
              "      <td>2009.0</td>\n",
              "      <td>CIDADE INDUSTRIAL</td>\n",
              "      <td>NaN</td>\n",
              "      <td>NÃO</td>\n",
              "      <td>NÃO</td>\n",
              "      <td>DAVI XAVIER DA SILVA</td>\n",
              "      <td>0</td>\n",
              "      <td>Alarmes</td>\n",
              "      <td>NaN</td>\n",
              "      <td>...</td>\n",
              "      <td>15:14:00</td>\n",
              "      <td>1</td>\n",
              "      <td>NaN</td>\n",
              "      <td>.</td>\n",
              "      <td>CIC</td>\n",
              "      <td>FUNDAÇÃO DE AÇÃO SOCIAL</td>\n",
              "      <td>FAS</td>\n",
              "      <td>SIGA</td>\n",
              "      <td>NaN</td>\n",
              "      <td>NaN</td>\n",
              "    </tr>\n",
              "    <tr>\n",
              "      <th>1</th>\n",
              "      <td>1</td>\n",
              "      <td>2009.0</td>\n",
              "      <td>FAZENDINHA</td>\n",
              "      <td>BOSQUE DA FAZENDINHA</td>\n",
              "      <td>SIM</td>\n",
              "      <td>NÃO</td>\n",
              "      <td>CARLOS KLEMTZ</td>\n",
              "      <td>0</td>\n",
              "      <td>Roubo</td>\n",
              "      <td>NaN</td>\n",
              "      <td>...</td>\n",
              "      <td>15:22:00</td>\n",
              "      <td>1</td>\n",
              "      <td>NaN</td>\n",
              "      <td>153</td>\n",
              "      <td>PORTÃO</td>\n",
              "      <td>SECRETARIA MUNICIPAL MEIO AMBIENTE</td>\n",
              "      <td>SMMA</td>\n",
              "      <td>NORMAL</td>\n",
              "      <td>NaN</td>\n",
              "      <td>NaN</td>\n",
              "    </tr>\n",
              "    <tr>\n",
              "      <th>2</th>\n",
              "      <td>1</td>\n",
              "      <td>2009.0</td>\n",
              "      <td>UBERABA</td>\n",
              "      <td>NaN</td>\n",
              "      <td>NÃO</td>\n",
              "      <td>NÃO</td>\n",
              "      <td>DOUTOR JOÃO DE PAULA MOURA BRITO</td>\n",
              "      <td>0</td>\n",
              "      <td>Animais</td>\n",
              "      <td>NaN</td>\n",
              "      <td>...</td>\n",
              "      <td>15:59:00</td>\n",
              "      <td>1</td>\n",
              "      <td>NaN</td>\n",
              "      <td>156</td>\n",
              "      <td>CAJURU</td>\n",
              "      <td>SECRETARIA MUNICIPAL DA SAÚDE</td>\n",
              "      <td>SMS</td>\n",
              "      <td>SACAF</td>\n",
              "      <td>NaN</td>\n",
              "      <td>2640856.0</td>\n",
              "    </tr>\n",
              "    <tr>\n",
              "      <th>3</th>\n",
              "      <td>1</td>\n",
              "      <td>2009.0</td>\n",
              "      <td>SÍTIO CERCADO</td>\n",
              "      <td>NaN</td>\n",
              "      <td>NÃO</td>\n",
              "      <td>NÃO</td>\n",
              "      <td>EDGARD CAVALCANTI DE ALBUQUERQUE</td>\n",
              "      <td>0</td>\n",
              "      <td>Animais</td>\n",
              "      <td>NaN</td>\n",
              "      <td>...</td>\n",
              "      <td>16:13:00</td>\n",
              "      <td>1</td>\n",
              "      <td>NaN</td>\n",
              "      <td>156</td>\n",
              "      <td>BAIRRO NOVO</td>\n",
              "      <td>SECRETARIA MUNICIPAL DA SAÚDE</td>\n",
              "      <td>SMS</td>\n",
              "      <td>SACAF</td>\n",
              "      <td>NaN</td>\n",
              "      <td>2640854.0</td>\n",
              "    </tr>\n",
              "    <tr>\n",
              "      <th>4</th>\n",
              "      <td>1</td>\n",
              "      <td>2009.0</td>\n",
              "      <td>TATUQUARA</td>\n",
              "      <td>CENTRO DE ESPORTE E LAZER SANTA RITA</td>\n",
              "      <td>SIM</td>\n",
              "      <td>NÃO</td>\n",
              "      <td>CARLOS MUNHOZ DA ROCHA</td>\n",
              "      <td>0</td>\n",
              "      <td>Alarmes</td>\n",
              "      <td>NaN</td>\n",
              "      <td>...</td>\n",
              "      <td>16:29:00</td>\n",
              "      <td>1</td>\n",
              "      <td>NaN</td>\n",
              "      <td>.</td>\n",
              "      <td>PINHEIRINHO</td>\n",
              "      <td>FUNDAÇÃO DE AÇÃO SOCIAL</td>\n",
              "      <td>FAS</td>\n",
              "      <td>SIGA</td>\n",
              "      <td>NaN</td>\n",
              "      <td>NaN</td>\n",
              "    </tr>\n",
              "  </tbody>\n",
              "</table>\n",
              "<p>5 rows × 36 columns</p>\n",
              "</div>\n",
              "      <button class=\"colab-df-convert\" onclick=\"convertToInteractive('df-db0198e3-3db5-4b9d-89e8-3f45f6ed0b9e')\"\n",
              "              title=\"Convert this dataframe to an interactive table.\"\n",
              "              style=\"display:none;\">\n",
              "        \n",
              "  <svg xmlns=\"http://www.w3.org/2000/svg\" height=\"24px\"viewBox=\"0 0 24 24\"\n",
              "       width=\"24px\">\n",
              "    <path d=\"M0 0h24v24H0V0z\" fill=\"none\"/>\n",
              "    <path d=\"M18.56 5.44l.94 2.06.94-2.06 2.06-.94-2.06-.94-.94-2.06-.94 2.06-2.06.94zm-11 1L8.5 8.5l.94-2.06 2.06-.94-2.06-.94L8.5 2.5l-.94 2.06-2.06.94zm10 10l.94 2.06.94-2.06 2.06-.94-2.06-.94-.94-2.06-.94 2.06-2.06.94z\"/><path d=\"M17.41 7.96l-1.37-1.37c-.4-.4-.92-.59-1.43-.59-.52 0-1.04.2-1.43.59L10.3 9.45l-7.72 7.72c-.78.78-.78 2.05 0 2.83L4 21.41c.39.39.9.59 1.41.59.51 0 1.02-.2 1.41-.59l7.78-7.78 2.81-2.81c.8-.78.8-2.07 0-2.86zM5.41 20L4 18.59l7.72-7.72 1.47 1.35L5.41 20z\"/>\n",
              "  </svg>\n",
              "      </button>\n",
              "      \n",
              "  <style>\n",
              "    .colab-df-container {\n",
              "      display:flex;\n",
              "      flex-wrap:wrap;\n",
              "      gap: 12px;\n",
              "    }\n",
              "\n",
              "    .colab-df-convert {\n",
              "      background-color: #E8F0FE;\n",
              "      border: none;\n",
              "      border-radius: 50%;\n",
              "      cursor: pointer;\n",
              "      display: none;\n",
              "      fill: #1967D2;\n",
              "      height: 32px;\n",
              "      padding: 0 0 0 0;\n",
              "      width: 32px;\n",
              "    }\n",
              "\n",
              "    .colab-df-convert:hover {\n",
              "      background-color: #E2EBFA;\n",
              "      box-shadow: 0px 1px 2px rgba(60, 64, 67, 0.3), 0px 1px 3px 1px rgba(60, 64, 67, 0.15);\n",
              "      fill: #174EA6;\n",
              "    }\n",
              "\n",
              "    [theme=dark] .colab-df-convert {\n",
              "      background-color: #3B4455;\n",
              "      fill: #D2E3FC;\n",
              "    }\n",
              "\n",
              "    [theme=dark] .colab-df-convert:hover {\n",
              "      background-color: #434B5C;\n",
              "      box-shadow: 0px 1px 3px 1px rgba(0, 0, 0, 0.15);\n",
              "      filter: drop-shadow(0px 1px 2px rgba(0, 0, 0, 0.3));\n",
              "      fill: #FFFFFF;\n",
              "    }\n",
              "  </style>\n",
              "\n",
              "      <script>\n",
              "        const buttonEl =\n",
              "          document.querySelector('#df-db0198e3-3db5-4b9d-89e8-3f45f6ed0b9e button.colab-df-convert');\n",
              "        buttonEl.style.display =\n",
              "          google.colab.kernel.accessAllowed ? 'block' : 'none';\n",
              "\n",
              "        async function convertToInteractive(key) {\n",
              "          const element = document.querySelector('#df-db0198e3-3db5-4b9d-89e8-3f45f6ed0b9e');\n",
              "          const dataTable =\n",
              "            await google.colab.kernel.invokeFunction('convertToInteractive',\n",
              "                                                     [key], {});\n",
              "          if (!dataTable) return;\n",
              "\n",
              "          const docLinkHtml = 'Like what you see? Visit the ' +\n",
              "            '<a target=\"_blank\" href=https://colab.research.google.com/notebooks/data_table.ipynb>data table notebook</a>'\n",
              "            + ' to learn more about interactive tables.';\n",
              "          element.innerHTML = '';\n",
              "          dataTable['output_type'] = 'display_data';\n",
              "          await google.colab.output.renderOutput(dataTable, element);\n",
              "          const docLink = document.createElement('div');\n",
              "          docLink.innerHTML = docLinkHtml;\n",
              "          element.appendChild(docLink);\n",
              "        }\n",
              "      </script>\n",
              "    </div>\n",
              "  </div>\n",
              "  "
            ]
          },
          "metadata": {},
          "execution_count": 3
        }
      ]
    },
    {
      "cell_type": "code",
      "source": [
        "df.info()"
      ],
      "metadata": {
        "colab": {
          "base_uri": "https://localhost:8080/"
        },
        "id": "4NRCym6fVorE",
        "outputId": "08d6c39b-a4a1-4618-8c6b-97247676d5a4"
      },
      "execution_count": null,
      "outputs": [
        {
          "output_type": "stream",
          "name": "stdout",
          "text": [
            "<class 'pandas.core.frame.DataFrame'>\n",
            "RangeIndex: 418052 entries, 0 to 418051\n",
            "Data columns (total 36 columns):\n",
            " #   Column                     Non-Null Count   Dtype  \n",
            "---  ------                     --------------   -----  \n",
            " 0   QUANTIDADE_OCORRENCIA      418052 non-null  int64  \n",
            " 1   ATENDIMENTO_ANO            418031 non-null  float64\n",
            " 2   ATENDIMENTO_BAIRRO_NOME    417907 non-null  object \n",
            " 3   EQUIPAMENTO_URBANO_NOME    149823 non-null  object \n",
            " 4   FLAG_EQUIPAMENTO_URBANO    418052 non-null  object \n",
            " 5   FLAG_FLAGRANTE             418052 non-null  object \n",
            " 6   LOGRADOURO_NOME            418052 non-null  object \n",
            " 7   NATUREZA1_DEFESA_CIVIL     418052 non-null  int64  \n",
            " 8   NATUREZA1_DESCRICAO        418052 non-null  object \n",
            " 9   NATUREZA2_DEFESA_CIVIL     21801 non-null   float64\n",
            " 10  NATUREZA2_DESCRICAO        21801 non-null   object \n",
            " 11  NATUREZA3_DEFESA_CIVIL     1644 non-null    float64\n",
            " 12  NATUREZA3_DESCRICAO        1644 non-null    object \n",
            " 13  NATUREZA4_DEFESA_CIVIL     279 non-null     float64\n",
            " 14  NATUREZA4_DESCRICAO        279 non-null     object \n",
            " 15  NATUREZA5_DEFESA_CIVIL     61 non-null      float64\n",
            " 16  NATUREZA5_DESCRICAO        61 non-null      object \n",
            " 17  SUBCATEGORIA1_DESCRICAO    288962 non-null  object \n",
            " 18  SUBCATEGORIA2_DESCRICAO    13416 non-null   object \n",
            " 19  SUBCATEGORIA3_DESCRICAO    937 non-null     object \n",
            " 20  SUBCATEGORIA4_DESCRICAO    134 non-null     object \n",
            " 21  SUBCATEGORIA5_DESCRICAO    30 non-null      object \n",
            " 22  OCORRENCIA_ANO             418052 non-null  int64  \n",
            " 23  OCORRENCIA_CODIGO          418052 non-null  int64  \n",
            " 24  OCORRENCIA_DATA            418052 non-null  object \n",
            " 25  OCORRENCIA_DIA_SEMANA      418052 non-null  object \n",
            " 26  OCORRENCIA_HORA            418052 non-null  object \n",
            " 27  OCORRENCIA_MES             418052 non-null  int64  \n",
            " 28  OPERACAO_DESCRICAO         305829 non-null  object \n",
            " 29  ORIGEM_CHAMADO_DESCRICAO   418052 non-null  object \n",
            " 30  REGIONAL_FATO_NOME         418041 non-null  object \n",
            " 31  SECRETARIA_NOME            418052 non-null  object \n",
            " 32  SECRETARIA_SIGLA           418051 non-null  object \n",
            " 33  SERVICO_NOME               418051 non-null  object \n",
            " 34  SITUACAO_EQUIPE_DESCRICAO  292374 non-null  object \n",
            " 35  NUMERO_PROTOCOLO_156       12103 non-null   float64\n",
            "dtypes: float64(6), int64(5), object(25)\n",
            "memory usage: 114.8+ MB\n"
          ]
        }
      ]
    },
    {
      "cell_type": "code",
      "source": [
        "df.describe()"
      ],
      "metadata": {
        "colab": {
          "base_uri": "https://localhost:8080/",
          "height": 361
        },
        "id": "ZLeex34ziDsf",
        "outputId": "47334789-6824-4e14-b684-540691db4692"
      },
      "execution_count": null,
      "outputs": [
        {
          "output_type": "execute_result",
          "data": {
            "text/plain": [
              "       QUANTIDADE_OCORRENCIA  ATENDIMENTO_ANO  NATUREZA1_DEFESA_CIVIL  \\\n",
              "count               418052.0    418031.000000           418052.000000   \n",
              "mean                     1.0      2016.639874                0.025923   \n",
              "std                      0.0         4.143803                0.158905   \n",
              "min                      1.0      2009.000000                0.000000   \n",
              "25%                      1.0      2013.000000                0.000000   \n",
              "50%                      1.0      2018.000000                0.000000   \n",
              "75%                      1.0      2020.000000                0.000000   \n",
              "max                      1.0      2022.000000                1.000000   \n",
              "\n",
              "       NATUREZA2_DEFESA_CIVIL  NATUREZA3_DEFESA_CIVIL  NATUREZA4_DEFESA_CIVIL  \\\n",
              "count            21801.000000             1644.000000              279.000000   \n",
              "mean                 0.019999                0.013382                0.014337   \n",
              "std                  0.140000                0.114939                0.119089   \n",
              "min                  0.000000                0.000000                0.000000   \n",
              "25%                  0.000000                0.000000                0.000000   \n",
              "50%                  0.000000                0.000000                0.000000   \n",
              "75%                  0.000000                0.000000                0.000000   \n",
              "max                  1.000000                1.000000                1.000000   \n",
              "\n",
              "       NATUREZA5_DEFESA_CIVIL  OCORRENCIA_ANO  OCORRENCIA_CODIGO  \\\n",
              "count                    61.0   418052.000000      418052.000000   \n",
              "mean                      0.0     2016.639794      209318.183757   \n",
              "std                       0.0        4.143745      120790.597196   \n",
              "min                       0.0     2009.000000           1.000000   \n",
              "25%                       0.0     2013.000000      104701.750000   \n",
              "50%                       0.0     2018.000000      209364.500000   \n",
              "75%                       0.0     2020.000000      313912.250000   \n",
              "max                       0.0     2022.000000      418518.000000   \n",
              "\n",
              "       OCORRENCIA_MES  NUMERO_PROTOCOLO_156  \n",
              "count   418052.000000          1.210300e+04  \n",
              "mean         6.366476          6.218048e+06  \n",
              "std          3.373333          2.481947e+06  \n",
              "min          1.000000          2.640854e+06  \n",
              "25%          3.000000          3.699468e+06  \n",
              "50%          6.000000          6.159427e+06  \n",
              "75%          9.000000          8.738844e+06  \n",
              "max         12.000000          9.698230e+06  "
            ],
            "text/html": [
              "\n",
              "  <div id=\"df-dd9c99ac-c6a9-4258-b690-109027a07384\">\n",
              "    <div class=\"colab-df-container\">\n",
              "      <div>\n",
              "<style scoped>\n",
              "    .dataframe tbody tr th:only-of-type {\n",
              "        vertical-align: middle;\n",
              "    }\n",
              "\n",
              "    .dataframe tbody tr th {\n",
              "        vertical-align: top;\n",
              "    }\n",
              "\n",
              "    .dataframe thead th {\n",
              "        text-align: right;\n",
              "    }\n",
              "</style>\n",
              "<table border=\"1\" class=\"dataframe\">\n",
              "  <thead>\n",
              "    <tr style=\"text-align: right;\">\n",
              "      <th></th>\n",
              "      <th>QUANTIDADE_OCORRENCIA</th>\n",
              "      <th>ATENDIMENTO_ANO</th>\n",
              "      <th>NATUREZA1_DEFESA_CIVIL</th>\n",
              "      <th>NATUREZA2_DEFESA_CIVIL</th>\n",
              "      <th>NATUREZA3_DEFESA_CIVIL</th>\n",
              "      <th>NATUREZA4_DEFESA_CIVIL</th>\n",
              "      <th>NATUREZA5_DEFESA_CIVIL</th>\n",
              "      <th>OCORRENCIA_ANO</th>\n",
              "      <th>OCORRENCIA_CODIGO</th>\n",
              "      <th>OCORRENCIA_MES</th>\n",
              "      <th>NUMERO_PROTOCOLO_156</th>\n",
              "    </tr>\n",
              "  </thead>\n",
              "  <tbody>\n",
              "    <tr>\n",
              "      <th>count</th>\n",
              "      <td>418052.0</td>\n",
              "      <td>418031.000000</td>\n",
              "      <td>418052.000000</td>\n",
              "      <td>21801.000000</td>\n",
              "      <td>1644.000000</td>\n",
              "      <td>279.000000</td>\n",
              "      <td>61.0</td>\n",
              "      <td>418052.000000</td>\n",
              "      <td>418052.000000</td>\n",
              "      <td>418052.000000</td>\n",
              "      <td>1.210300e+04</td>\n",
              "    </tr>\n",
              "    <tr>\n",
              "      <th>mean</th>\n",
              "      <td>1.0</td>\n",
              "      <td>2016.639874</td>\n",
              "      <td>0.025923</td>\n",
              "      <td>0.019999</td>\n",
              "      <td>0.013382</td>\n",
              "      <td>0.014337</td>\n",
              "      <td>0.0</td>\n",
              "      <td>2016.639794</td>\n",
              "      <td>209318.183757</td>\n",
              "      <td>6.366476</td>\n",
              "      <td>6.218048e+06</td>\n",
              "    </tr>\n",
              "    <tr>\n",
              "      <th>std</th>\n",
              "      <td>0.0</td>\n",
              "      <td>4.143803</td>\n",
              "      <td>0.158905</td>\n",
              "      <td>0.140000</td>\n",
              "      <td>0.114939</td>\n",
              "      <td>0.119089</td>\n",
              "      <td>0.0</td>\n",
              "      <td>4.143745</td>\n",
              "      <td>120790.597196</td>\n",
              "      <td>3.373333</td>\n",
              "      <td>2.481947e+06</td>\n",
              "    </tr>\n",
              "    <tr>\n",
              "      <th>min</th>\n",
              "      <td>1.0</td>\n",
              "      <td>2009.000000</td>\n",
              "      <td>0.000000</td>\n",
              "      <td>0.000000</td>\n",
              "      <td>0.000000</td>\n",
              "      <td>0.000000</td>\n",
              "      <td>0.0</td>\n",
              "      <td>2009.000000</td>\n",
              "      <td>1.000000</td>\n",
              "      <td>1.000000</td>\n",
              "      <td>2.640854e+06</td>\n",
              "    </tr>\n",
              "    <tr>\n",
              "      <th>25%</th>\n",
              "      <td>1.0</td>\n",
              "      <td>2013.000000</td>\n",
              "      <td>0.000000</td>\n",
              "      <td>0.000000</td>\n",
              "      <td>0.000000</td>\n",
              "      <td>0.000000</td>\n",
              "      <td>0.0</td>\n",
              "      <td>2013.000000</td>\n",
              "      <td>104701.750000</td>\n",
              "      <td>3.000000</td>\n",
              "      <td>3.699468e+06</td>\n",
              "    </tr>\n",
              "    <tr>\n",
              "      <th>50%</th>\n",
              "      <td>1.0</td>\n",
              "      <td>2018.000000</td>\n",
              "      <td>0.000000</td>\n",
              "      <td>0.000000</td>\n",
              "      <td>0.000000</td>\n",
              "      <td>0.000000</td>\n",
              "      <td>0.0</td>\n",
              "      <td>2018.000000</td>\n",
              "      <td>209364.500000</td>\n",
              "      <td>6.000000</td>\n",
              "      <td>6.159427e+06</td>\n",
              "    </tr>\n",
              "    <tr>\n",
              "      <th>75%</th>\n",
              "      <td>1.0</td>\n",
              "      <td>2020.000000</td>\n",
              "      <td>0.000000</td>\n",
              "      <td>0.000000</td>\n",
              "      <td>0.000000</td>\n",
              "      <td>0.000000</td>\n",
              "      <td>0.0</td>\n",
              "      <td>2020.000000</td>\n",
              "      <td>313912.250000</td>\n",
              "      <td>9.000000</td>\n",
              "      <td>8.738844e+06</td>\n",
              "    </tr>\n",
              "    <tr>\n",
              "      <th>max</th>\n",
              "      <td>1.0</td>\n",
              "      <td>2022.000000</td>\n",
              "      <td>1.000000</td>\n",
              "      <td>1.000000</td>\n",
              "      <td>1.000000</td>\n",
              "      <td>1.000000</td>\n",
              "      <td>0.0</td>\n",
              "      <td>2022.000000</td>\n",
              "      <td>418518.000000</td>\n",
              "      <td>12.000000</td>\n",
              "      <td>9.698230e+06</td>\n",
              "    </tr>\n",
              "  </tbody>\n",
              "</table>\n",
              "</div>\n",
              "      <button class=\"colab-df-convert\" onclick=\"convertToInteractive('df-dd9c99ac-c6a9-4258-b690-109027a07384')\"\n",
              "              title=\"Convert this dataframe to an interactive table.\"\n",
              "              style=\"display:none;\">\n",
              "        \n",
              "  <svg xmlns=\"http://www.w3.org/2000/svg\" height=\"24px\"viewBox=\"0 0 24 24\"\n",
              "       width=\"24px\">\n",
              "    <path d=\"M0 0h24v24H0V0z\" fill=\"none\"/>\n",
              "    <path d=\"M18.56 5.44l.94 2.06.94-2.06 2.06-.94-2.06-.94-.94-2.06-.94 2.06-2.06.94zm-11 1L8.5 8.5l.94-2.06 2.06-.94-2.06-.94L8.5 2.5l-.94 2.06-2.06.94zm10 10l.94 2.06.94-2.06 2.06-.94-2.06-.94-.94-2.06-.94 2.06-2.06.94z\"/><path d=\"M17.41 7.96l-1.37-1.37c-.4-.4-.92-.59-1.43-.59-.52 0-1.04.2-1.43.59L10.3 9.45l-7.72 7.72c-.78.78-.78 2.05 0 2.83L4 21.41c.39.39.9.59 1.41.59.51 0 1.02-.2 1.41-.59l7.78-7.78 2.81-2.81c.8-.78.8-2.07 0-2.86zM5.41 20L4 18.59l7.72-7.72 1.47 1.35L5.41 20z\"/>\n",
              "  </svg>\n",
              "      </button>\n",
              "      \n",
              "  <style>\n",
              "    .colab-df-container {\n",
              "      display:flex;\n",
              "      flex-wrap:wrap;\n",
              "      gap: 12px;\n",
              "    }\n",
              "\n",
              "    .colab-df-convert {\n",
              "      background-color: #E8F0FE;\n",
              "      border: none;\n",
              "      border-radius: 50%;\n",
              "      cursor: pointer;\n",
              "      display: none;\n",
              "      fill: #1967D2;\n",
              "      height: 32px;\n",
              "      padding: 0 0 0 0;\n",
              "      width: 32px;\n",
              "    }\n",
              "\n",
              "    .colab-df-convert:hover {\n",
              "      background-color: #E2EBFA;\n",
              "      box-shadow: 0px 1px 2px rgba(60, 64, 67, 0.3), 0px 1px 3px 1px rgba(60, 64, 67, 0.15);\n",
              "      fill: #174EA6;\n",
              "    }\n",
              "\n",
              "    [theme=dark] .colab-df-convert {\n",
              "      background-color: #3B4455;\n",
              "      fill: #D2E3FC;\n",
              "    }\n",
              "\n",
              "    [theme=dark] .colab-df-convert:hover {\n",
              "      background-color: #434B5C;\n",
              "      box-shadow: 0px 1px 3px 1px rgba(0, 0, 0, 0.15);\n",
              "      filter: drop-shadow(0px 1px 2px rgba(0, 0, 0, 0.3));\n",
              "      fill: #FFFFFF;\n",
              "    }\n",
              "  </style>\n",
              "\n",
              "      <script>\n",
              "        const buttonEl =\n",
              "          document.querySelector('#df-dd9c99ac-c6a9-4258-b690-109027a07384 button.colab-df-convert');\n",
              "        buttonEl.style.display =\n",
              "          google.colab.kernel.accessAllowed ? 'block' : 'none';\n",
              "\n",
              "        async function convertToInteractive(key) {\n",
              "          const element = document.querySelector('#df-dd9c99ac-c6a9-4258-b690-109027a07384');\n",
              "          const dataTable =\n",
              "            await google.colab.kernel.invokeFunction('convertToInteractive',\n",
              "                                                     [key], {});\n",
              "          if (!dataTable) return;\n",
              "\n",
              "          const docLinkHtml = 'Like what you see? Visit the ' +\n",
              "            '<a target=\"_blank\" href=https://colab.research.google.com/notebooks/data_table.ipynb>data table notebook</a>'\n",
              "            + ' to learn more about interactive tables.';\n",
              "          element.innerHTML = '';\n",
              "          dataTable['output_type'] = 'display_data';\n",
              "          await google.colab.output.renderOutput(dataTable, element);\n",
              "          const docLink = document.createElement('div');\n",
              "          docLink.innerHTML = docLinkHtml;\n",
              "          element.appendChild(docLink);\n",
              "        }\n",
              "      </script>\n",
              "    </div>\n",
              "  </div>\n",
              "  "
            ]
          },
          "metadata": {},
          "execution_count": 5
        }
      ]
    },
    {
      "cell_type": "markdown",
      "source": [
        "# **Tratamento de dados**"
      ],
      "metadata": {
        "id": "KNTa5qui_sUb"
      }
    },
    {
      "cell_type": "markdown",
      "source": [
        "Contagem de dados nulos"
      ],
      "metadata": {
        "id": "HR9S5sgRN_h4"
      }
    },
    {
      "cell_type": "code",
      "source": [
        "def contagemNulos(tabela):\n",
        "  for col in tabela.columns:\n",
        "   if tabela[col].isnull().sum():\n",
        "    total_null=tabela[col].isnull().sum() \n",
        "    print('Column: {} total null {}, i.e. {} %'.format(col,total_null,round(total_null*100/len(df),2)))"
      ],
      "metadata": {
        "id": "LStBiVM3H8mM"
      },
      "execution_count": null,
      "outputs": []
    },
    {
      "cell_type": "code",
      "source": [
        "dfContagemNulos = contagemNulos(df)"
      ],
      "metadata": {
        "colab": {
          "base_uri": "https://localhost:8080/"
        },
        "id": "Csfax1y3PEcS",
        "outputId": "3c3a8a7b-ab77-44a2-862a-6a27aaa39d72"
      },
      "execution_count": null,
      "outputs": [
        {
          "output_type": "stream",
          "name": "stdout",
          "text": [
            "Column: ATENDIMENTO_ANO total null 21, i.e. 0.01 %\n",
            "Column: ATENDIMENTO_BAIRRO_NOME total null 145, i.e. 0.03 %\n",
            "Column: EQUIPAMENTO_URBANO_NOME total null 268229, i.e. 64.16 %\n",
            "Column: NATUREZA2_DEFESA_CIVIL total null 396251, i.e. 94.79 %\n",
            "Column: NATUREZA2_DESCRICAO total null 396251, i.e. 94.79 %\n",
            "Column: NATUREZA3_DEFESA_CIVIL total null 416408, i.e. 99.61 %\n",
            "Column: NATUREZA3_DESCRICAO total null 416408, i.e. 99.61 %\n",
            "Column: NATUREZA4_DEFESA_CIVIL total null 417773, i.e. 99.93 %\n",
            "Column: NATUREZA4_DESCRICAO total null 417773, i.e. 99.93 %\n",
            "Column: NATUREZA5_DEFESA_CIVIL total null 417991, i.e. 99.99 %\n",
            "Column: NATUREZA5_DESCRICAO total null 417991, i.e. 99.99 %\n",
            "Column: SUBCATEGORIA1_DESCRICAO total null 129090, i.e. 30.88 %\n",
            "Column: SUBCATEGORIA2_DESCRICAO total null 404636, i.e. 96.79 %\n",
            "Column: SUBCATEGORIA3_DESCRICAO total null 417115, i.e. 99.78 %\n",
            "Column: SUBCATEGORIA4_DESCRICAO total null 417918, i.e. 99.97 %\n",
            "Column: SUBCATEGORIA5_DESCRICAO total null 418022, i.e. 99.99 %\n",
            "Column: OPERACAO_DESCRICAO total null 112223, i.e. 26.84 %\n",
            "Column: REGIONAL_FATO_NOME total null 11, i.e. 0.0 %\n",
            "Column: SECRETARIA_SIGLA total null 1, i.e. 0.0 %\n",
            "Column: SERVICO_NOME total null 1, i.e. 0.0 %\n",
            "Column: SITUACAO_EQUIPE_DESCRICAO total null 125678, i.e. 30.06 %\n",
            "Column: NUMERO_PROTOCOLO_156 total null 405949, i.e. 97.1 %\n"
          ]
        }
      ]
    },
    {
      "cell_type": "markdown",
      "source": [
        "## **Análise de variáveis com quantidades agrupadas**"
      ],
      "metadata": {
        "id": "WrKr3o9VHhOp"
      }
    },
    {
      "cell_type": "markdown",
      "source": [
        "- Tratmentos de dados e criação de um dataframe com as quantidades agrupadas"
      ],
      "metadata": {
        "id": "4GvMnbI6s-HA"
      }
    },
    {
      "cell_type": "code",
      "source": [
        "df['OCORRENCIA_DATA'] = pd.to_datetime(df.OCORRENCIA_DATA, format='%Y-%m-%d')"
      ],
      "metadata": {
        "id": "3f1ridu14ZMA"
      },
      "execution_count": null,
      "outputs": []
    },
    {
      "cell_type": "code",
      "source": [
        "df['OCORRENCIA_DATA'] = df['OCORRENCIA_DATA'].dt.strftime('%Y-%m-%d')"
      ],
      "metadata": {
        "id": "Fgq9_buX4nfx"
      },
      "execution_count": null,
      "outputs": []
    },
    {
      "cell_type": "code",
      "source": [
        "df['OCORRENCIA_DATA']"
      ],
      "metadata": {
        "colab": {
          "base_uri": "https://localhost:8080/"
        },
        "id": "DSgNob-N4iFH",
        "outputId": "fcc6a545-b887-45de-f3a8-83d3539ccc7a"
      },
      "execution_count": null,
      "outputs": [
        {
          "output_type": "execute_result",
          "data": {
            "text/plain": [
              "0         2009-01-01\n",
              "1         2009-01-01\n",
              "2         2009-01-01\n",
              "3         2009-01-01\n",
              "4         2009-01-01\n",
              "             ...    \n",
              "418047    2022-09-23\n",
              "418048    2022-09-23\n",
              "418049    2022-09-23\n",
              "418050    2022-09-23\n",
              "418051    2022-09-23\n",
              "Name: OCORRENCIA_DATA, Length: 418052, dtype: object"
            ]
          },
          "metadata": {},
          "execution_count": 10
        }
      ]
    },
    {
      "cell_type": "code",
      "source": [
        "df2 = df.groupby(['ATENDIMENTO_ANO','OCORRENCIA_ANO', \"ATENDIMENTO_BAIRRO_NOME\", \"FLAG_FLAGRANTE\", \"NATUREZA1_DESCRICAO\", \"OCORRENCIA_DATA\", \"OCORRENCIA_DIA_SEMANA\", \"REGIONAL_FATO_NOME\" ])['QUANTIDADE_OCORRENCIA'].sum().reset_index()"
      ],
      "metadata": {
        "id": "LNjPzAOrHpP2"
      },
      "execution_count": null,
      "outputs": []
    },
    {
      "cell_type": "code",
      "source": [
        "df2"
      ],
      "metadata": {
        "id": "Co6nroOvHpTW",
        "colab": {
          "base_uri": "https://localhost:8080/",
          "height": 551
        },
        "outputId": "b3147a5d-939b-4d5d-8ca4-09f8b1455832"
      },
      "execution_count": null,
      "outputs": [
        {
          "output_type": "execute_result",
          "data": {
            "text/plain": [
              "        ATENDIMENTO_ANO  OCORRENCIA_ANO ATENDIMENTO_BAIRRO_NOME  \\\n",
              "0                2009.0            2009               ABRANCHES   \n",
              "1                2009.0            2009               ABRANCHES   \n",
              "2                2009.0            2009               ABRANCHES   \n",
              "3                2009.0            2009               ABRANCHES   \n",
              "4                2009.0            2009               ABRANCHES   \n",
              "...                 ...             ...                     ...   \n",
              "323776           2022.0            2022              ÁGUA VERDE   \n",
              "323777           2022.0            2022              ÁGUA VERDE   \n",
              "323778           2022.0            2022              ÁGUA VERDE   \n",
              "323779           2022.0            2022              ÁGUA VERDE   \n",
              "323780           2022.0            2022              ÁGUA VERDE   \n",
              "\n",
              "       FLAG_FLAGRANTE                              NATUREZA1_DESCRICAO  \\\n",
              "0                 NÃO                                             AIFU   \n",
              "1                 NÃO                                             AIFU   \n",
              "2                 NÃO                                             AIFU   \n",
              "3                 NÃO                                       Alagamento   \n",
              "4                 NÃO                                          Alarmes   \n",
              "...               ...                                              ...   \n",
              "323776            SIM                                         Trânsito   \n",
              "323777            SIM                                          Veículo   \n",
              "323778            SIM  Violação de Medida Protetiva Lei Maria da Penha   \n",
              "323779            SIM  Violação de Medida Protetiva Lei Maria da Penha   \n",
              "323780            SIM                                 ZELADORIA URBANA   \n",
              "\n",
              "       OCORRENCIA_DATA OCORRENCIA_DIA_SEMANA REGIONAL_FATO_NOME  \\\n",
              "0           2009-05-17               DOMINGO          BOA VISTA   \n",
              "1           2009-05-28                QUINTA          BOA VISTA   \n",
              "2           2009-07-23                QUINTA          BOA VISTA   \n",
              "3           2009-11-16               SEGUNDA          BOA VISTA   \n",
              "4           2009-09-03                QUINTA          BOA VISTA   \n",
              "...                ...                   ...                ...   \n",
              "323776      2022-05-07                SÁBADO             PORTÃO   \n",
              "323777      2022-03-24                QUINTA             PORTÃO   \n",
              "323778      2022-03-26                SÁBADO             PORTÃO   \n",
              "323779      2022-04-11               SEGUNDA             PORTÃO   \n",
              "323780      2022-03-16                QUARTA             PORTÃO   \n",
              "\n",
              "        QUANTIDADE_OCORRENCIA  \n",
              "0                           1  \n",
              "1                           1  \n",
              "2                           1  \n",
              "3                           1  \n",
              "4                           1  \n",
              "...                       ...  \n",
              "323776                      1  \n",
              "323777                      1  \n",
              "323778                      1  \n",
              "323779                      1  \n",
              "323780                      1  \n",
              "\n",
              "[323781 rows x 9 columns]"
            ],
            "text/html": [
              "\n",
              "  <div id=\"df-c09904eb-18bc-423d-98d3-b38660654fd6\">\n",
              "    <div class=\"colab-df-container\">\n",
              "      <div>\n",
              "<style scoped>\n",
              "    .dataframe tbody tr th:only-of-type {\n",
              "        vertical-align: middle;\n",
              "    }\n",
              "\n",
              "    .dataframe tbody tr th {\n",
              "        vertical-align: top;\n",
              "    }\n",
              "\n",
              "    .dataframe thead th {\n",
              "        text-align: right;\n",
              "    }\n",
              "</style>\n",
              "<table border=\"1\" class=\"dataframe\">\n",
              "  <thead>\n",
              "    <tr style=\"text-align: right;\">\n",
              "      <th></th>\n",
              "      <th>ATENDIMENTO_ANO</th>\n",
              "      <th>OCORRENCIA_ANO</th>\n",
              "      <th>ATENDIMENTO_BAIRRO_NOME</th>\n",
              "      <th>FLAG_FLAGRANTE</th>\n",
              "      <th>NATUREZA1_DESCRICAO</th>\n",
              "      <th>OCORRENCIA_DATA</th>\n",
              "      <th>OCORRENCIA_DIA_SEMANA</th>\n",
              "      <th>REGIONAL_FATO_NOME</th>\n",
              "      <th>QUANTIDADE_OCORRENCIA</th>\n",
              "    </tr>\n",
              "  </thead>\n",
              "  <tbody>\n",
              "    <tr>\n",
              "      <th>0</th>\n",
              "      <td>2009.0</td>\n",
              "      <td>2009</td>\n",
              "      <td>ABRANCHES</td>\n",
              "      <td>NÃO</td>\n",
              "      <td>AIFU</td>\n",
              "      <td>2009-05-17</td>\n",
              "      <td>DOMINGO</td>\n",
              "      <td>BOA VISTA</td>\n",
              "      <td>1</td>\n",
              "    </tr>\n",
              "    <tr>\n",
              "      <th>1</th>\n",
              "      <td>2009.0</td>\n",
              "      <td>2009</td>\n",
              "      <td>ABRANCHES</td>\n",
              "      <td>NÃO</td>\n",
              "      <td>AIFU</td>\n",
              "      <td>2009-05-28</td>\n",
              "      <td>QUINTA</td>\n",
              "      <td>BOA VISTA</td>\n",
              "      <td>1</td>\n",
              "    </tr>\n",
              "    <tr>\n",
              "      <th>2</th>\n",
              "      <td>2009.0</td>\n",
              "      <td>2009</td>\n",
              "      <td>ABRANCHES</td>\n",
              "      <td>NÃO</td>\n",
              "      <td>AIFU</td>\n",
              "      <td>2009-07-23</td>\n",
              "      <td>QUINTA</td>\n",
              "      <td>BOA VISTA</td>\n",
              "      <td>1</td>\n",
              "    </tr>\n",
              "    <tr>\n",
              "      <th>3</th>\n",
              "      <td>2009.0</td>\n",
              "      <td>2009</td>\n",
              "      <td>ABRANCHES</td>\n",
              "      <td>NÃO</td>\n",
              "      <td>Alagamento</td>\n",
              "      <td>2009-11-16</td>\n",
              "      <td>SEGUNDA</td>\n",
              "      <td>BOA VISTA</td>\n",
              "      <td>1</td>\n",
              "    </tr>\n",
              "    <tr>\n",
              "      <th>4</th>\n",
              "      <td>2009.0</td>\n",
              "      <td>2009</td>\n",
              "      <td>ABRANCHES</td>\n",
              "      <td>NÃO</td>\n",
              "      <td>Alarmes</td>\n",
              "      <td>2009-09-03</td>\n",
              "      <td>QUINTA</td>\n",
              "      <td>BOA VISTA</td>\n",
              "      <td>1</td>\n",
              "    </tr>\n",
              "    <tr>\n",
              "      <th>...</th>\n",
              "      <td>...</td>\n",
              "      <td>...</td>\n",
              "      <td>...</td>\n",
              "      <td>...</td>\n",
              "      <td>...</td>\n",
              "      <td>...</td>\n",
              "      <td>...</td>\n",
              "      <td>...</td>\n",
              "      <td>...</td>\n",
              "    </tr>\n",
              "    <tr>\n",
              "      <th>323776</th>\n",
              "      <td>2022.0</td>\n",
              "      <td>2022</td>\n",
              "      <td>ÁGUA VERDE</td>\n",
              "      <td>SIM</td>\n",
              "      <td>Trânsito</td>\n",
              "      <td>2022-05-07</td>\n",
              "      <td>SÁBADO</td>\n",
              "      <td>PORTÃO</td>\n",
              "      <td>1</td>\n",
              "    </tr>\n",
              "    <tr>\n",
              "      <th>323777</th>\n",
              "      <td>2022.0</td>\n",
              "      <td>2022</td>\n",
              "      <td>ÁGUA VERDE</td>\n",
              "      <td>SIM</td>\n",
              "      <td>Veículo</td>\n",
              "      <td>2022-03-24</td>\n",
              "      <td>QUINTA</td>\n",
              "      <td>PORTÃO</td>\n",
              "      <td>1</td>\n",
              "    </tr>\n",
              "    <tr>\n",
              "      <th>323778</th>\n",
              "      <td>2022.0</td>\n",
              "      <td>2022</td>\n",
              "      <td>ÁGUA VERDE</td>\n",
              "      <td>SIM</td>\n",
              "      <td>Violação de Medida Protetiva Lei Maria da Penha</td>\n",
              "      <td>2022-03-26</td>\n",
              "      <td>SÁBADO</td>\n",
              "      <td>PORTÃO</td>\n",
              "      <td>1</td>\n",
              "    </tr>\n",
              "    <tr>\n",
              "      <th>323779</th>\n",
              "      <td>2022.0</td>\n",
              "      <td>2022</td>\n",
              "      <td>ÁGUA VERDE</td>\n",
              "      <td>SIM</td>\n",
              "      <td>Violação de Medida Protetiva Lei Maria da Penha</td>\n",
              "      <td>2022-04-11</td>\n",
              "      <td>SEGUNDA</td>\n",
              "      <td>PORTÃO</td>\n",
              "      <td>1</td>\n",
              "    </tr>\n",
              "    <tr>\n",
              "      <th>323780</th>\n",
              "      <td>2022.0</td>\n",
              "      <td>2022</td>\n",
              "      <td>ÁGUA VERDE</td>\n",
              "      <td>SIM</td>\n",
              "      <td>ZELADORIA URBANA</td>\n",
              "      <td>2022-03-16</td>\n",
              "      <td>QUARTA</td>\n",
              "      <td>PORTÃO</td>\n",
              "      <td>1</td>\n",
              "    </tr>\n",
              "  </tbody>\n",
              "</table>\n",
              "<p>323781 rows × 9 columns</p>\n",
              "</div>\n",
              "      <button class=\"colab-df-convert\" onclick=\"convertToInteractive('df-c09904eb-18bc-423d-98d3-b38660654fd6')\"\n",
              "              title=\"Convert this dataframe to an interactive table.\"\n",
              "              style=\"display:none;\">\n",
              "        \n",
              "  <svg xmlns=\"http://www.w3.org/2000/svg\" height=\"24px\"viewBox=\"0 0 24 24\"\n",
              "       width=\"24px\">\n",
              "    <path d=\"M0 0h24v24H0V0z\" fill=\"none\"/>\n",
              "    <path d=\"M18.56 5.44l.94 2.06.94-2.06 2.06-.94-2.06-.94-.94-2.06-.94 2.06-2.06.94zm-11 1L8.5 8.5l.94-2.06 2.06-.94-2.06-.94L8.5 2.5l-.94 2.06-2.06.94zm10 10l.94 2.06.94-2.06 2.06-.94-2.06-.94-.94-2.06-.94 2.06-2.06.94z\"/><path d=\"M17.41 7.96l-1.37-1.37c-.4-.4-.92-.59-1.43-.59-.52 0-1.04.2-1.43.59L10.3 9.45l-7.72 7.72c-.78.78-.78 2.05 0 2.83L4 21.41c.39.39.9.59 1.41.59.51 0 1.02-.2 1.41-.59l7.78-7.78 2.81-2.81c.8-.78.8-2.07 0-2.86zM5.41 20L4 18.59l7.72-7.72 1.47 1.35L5.41 20z\"/>\n",
              "  </svg>\n",
              "      </button>\n",
              "      \n",
              "  <style>\n",
              "    .colab-df-container {\n",
              "      display:flex;\n",
              "      flex-wrap:wrap;\n",
              "      gap: 12px;\n",
              "    }\n",
              "\n",
              "    .colab-df-convert {\n",
              "      background-color: #E8F0FE;\n",
              "      border: none;\n",
              "      border-radius: 50%;\n",
              "      cursor: pointer;\n",
              "      display: none;\n",
              "      fill: #1967D2;\n",
              "      height: 32px;\n",
              "      padding: 0 0 0 0;\n",
              "      width: 32px;\n",
              "    }\n",
              "\n",
              "    .colab-df-convert:hover {\n",
              "      background-color: #E2EBFA;\n",
              "      box-shadow: 0px 1px 2px rgba(60, 64, 67, 0.3), 0px 1px 3px 1px rgba(60, 64, 67, 0.15);\n",
              "      fill: #174EA6;\n",
              "    }\n",
              "\n",
              "    [theme=dark] .colab-df-convert {\n",
              "      background-color: #3B4455;\n",
              "      fill: #D2E3FC;\n",
              "    }\n",
              "\n",
              "    [theme=dark] .colab-df-convert:hover {\n",
              "      background-color: #434B5C;\n",
              "      box-shadow: 0px 1px 3px 1px rgba(0, 0, 0, 0.15);\n",
              "      filter: drop-shadow(0px 1px 2px rgba(0, 0, 0, 0.3));\n",
              "      fill: #FFFFFF;\n",
              "    }\n",
              "  </style>\n",
              "\n",
              "      <script>\n",
              "        const buttonEl =\n",
              "          document.querySelector('#df-c09904eb-18bc-423d-98d3-b38660654fd6 button.colab-df-convert');\n",
              "        buttonEl.style.display =\n",
              "          google.colab.kernel.accessAllowed ? 'block' : 'none';\n",
              "\n",
              "        async function convertToInteractive(key) {\n",
              "          const element = document.querySelector('#df-c09904eb-18bc-423d-98d3-b38660654fd6');\n",
              "          const dataTable =\n",
              "            await google.colab.kernel.invokeFunction('convertToInteractive',\n",
              "                                                     [key], {});\n",
              "          if (!dataTable) return;\n",
              "\n",
              "          const docLinkHtml = 'Like what you see? Visit the ' +\n",
              "            '<a target=\"_blank\" href=https://colab.research.google.com/notebooks/data_table.ipynb>data table notebook</a>'\n",
              "            + ' to learn more about interactive tables.';\n",
              "          element.innerHTML = '';\n",
              "          dataTable['output_type'] = 'display_data';\n",
              "          await google.colab.output.renderOutput(dataTable, element);\n",
              "          const docLink = document.createElement('div');\n",
              "          docLink.innerHTML = docLinkHtml;\n",
              "          element.appendChild(docLink);\n",
              "        }\n",
              "      </script>\n",
              "    </div>\n",
              "  </div>\n",
              "  "
            ]
          },
          "metadata": {},
          "execution_count": 12
        }
      ]
    },
    {
      "cell_type": "markdown",
      "source": [
        "- Quantidade de ocorrencias atendidas por ano (ATENDIMENTO_ANO)"
      ],
      "metadata": {
        "id": "1hc01n_Rx9pa"
      }
    },
    {
      "cell_type": "code",
      "source": [
        "ocorrenciasAtendidasPorAno = df.groupby(['ATENDIMENTO_ANO'])['QUANTIDADE_OCORRENCIA'].sum().reset_index()"
      ],
      "metadata": {
        "id": "dUiWGS5SHpXV"
      },
      "execution_count": null,
      "outputs": []
    },
    {
      "cell_type": "code",
      "source": [
        "ocorrenciasAtendidasPorAno = ocorrenciasAtendidasPorAno.rename({'QUANTIDADE_OCORRENCIA': 'Quantidade_Ocorrencias_Atendidas_Por_Ano'}, axis=1)"
      ],
      "metadata": {
        "id": "Eze_lKjTdFQi"
      },
      "execution_count": null,
      "outputs": []
    },
    {
      "cell_type": "code",
      "source": [
        "ocorrenciasAtendidasPorAno"
      ],
      "metadata": {
        "id": "D4SWRa_EHpbi",
        "colab": {
          "base_uri": "https://localhost:8080/",
          "height": 483
        },
        "outputId": "a8b0fb51-f26b-4cb2-ce90-41af66c72c92"
      },
      "execution_count": null,
      "outputs": [
        {
          "output_type": "execute_result",
          "data": {
            "text/plain": [
              "    ATENDIMENTO_ANO  Quantidade_Ocorrencias_Atendidas_Por_Ano\n",
              "0            2009.0                                     24903\n",
              "1            2010.0                                     22531\n",
              "2            2011.0                                     21481\n",
              "3            2012.0                                     19778\n",
              "4            2013.0                                     24468\n",
              "5            2014.0                                     25292\n",
              "6            2015.0                                     25566\n",
              "7            2016.0                                     21470\n",
              "8            2017.0                                     22133\n",
              "9            2018.0                                     24155\n",
              "10           2019.0                                     33754\n",
              "11           2020.0                                     57457\n",
              "12           2021.0                                     58726\n",
              "13           2022.0                                     36317"
            ],
            "text/html": [
              "\n",
              "  <div id=\"df-d950ccb7-e72c-4981-aaed-b681b8856450\">\n",
              "    <div class=\"colab-df-container\">\n",
              "      <div>\n",
              "<style scoped>\n",
              "    .dataframe tbody tr th:only-of-type {\n",
              "        vertical-align: middle;\n",
              "    }\n",
              "\n",
              "    .dataframe tbody tr th {\n",
              "        vertical-align: top;\n",
              "    }\n",
              "\n",
              "    .dataframe thead th {\n",
              "        text-align: right;\n",
              "    }\n",
              "</style>\n",
              "<table border=\"1\" class=\"dataframe\">\n",
              "  <thead>\n",
              "    <tr style=\"text-align: right;\">\n",
              "      <th></th>\n",
              "      <th>ATENDIMENTO_ANO</th>\n",
              "      <th>Quantidade_Ocorrencias_Atendidas_Por_Ano</th>\n",
              "    </tr>\n",
              "  </thead>\n",
              "  <tbody>\n",
              "    <tr>\n",
              "      <th>0</th>\n",
              "      <td>2009.0</td>\n",
              "      <td>24903</td>\n",
              "    </tr>\n",
              "    <tr>\n",
              "      <th>1</th>\n",
              "      <td>2010.0</td>\n",
              "      <td>22531</td>\n",
              "    </tr>\n",
              "    <tr>\n",
              "      <th>2</th>\n",
              "      <td>2011.0</td>\n",
              "      <td>21481</td>\n",
              "    </tr>\n",
              "    <tr>\n",
              "      <th>3</th>\n",
              "      <td>2012.0</td>\n",
              "      <td>19778</td>\n",
              "    </tr>\n",
              "    <tr>\n",
              "      <th>4</th>\n",
              "      <td>2013.0</td>\n",
              "      <td>24468</td>\n",
              "    </tr>\n",
              "    <tr>\n",
              "      <th>5</th>\n",
              "      <td>2014.0</td>\n",
              "      <td>25292</td>\n",
              "    </tr>\n",
              "    <tr>\n",
              "      <th>6</th>\n",
              "      <td>2015.0</td>\n",
              "      <td>25566</td>\n",
              "    </tr>\n",
              "    <tr>\n",
              "      <th>7</th>\n",
              "      <td>2016.0</td>\n",
              "      <td>21470</td>\n",
              "    </tr>\n",
              "    <tr>\n",
              "      <th>8</th>\n",
              "      <td>2017.0</td>\n",
              "      <td>22133</td>\n",
              "    </tr>\n",
              "    <tr>\n",
              "      <th>9</th>\n",
              "      <td>2018.0</td>\n",
              "      <td>24155</td>\n",
              "    </tr>\n",
              "    <tr>\n",
              "      <th>10</th>\n",
              "      <td>2019.0</td>\n",
              "      <td>33754</td>\n",
              "    </tr>\n",
              "    <tr>\n",
              "      <th>11</th>\n",
              "      <td>2020.0</td>\n",
              "      <td>57457</td>\n",
              "    </tr>\n",
              "    <tr>\n",
              "      <th>12</th>\n",
              "      <td>2021.0</td>\n",
              "      <td>58726</td>\n",
              "    </tr>\n",
              "    <tr>\n",
              "      <th>13</th>\n",
              "      <td>2022.0</td>\n",
              "      <td>36317</td>\n",
              "    </tr>\n",
              "  </tbody>\n",
              "</table>\n",
              "</div>\n",
              "      <button class=\"colab-df-convert\" onclick=\"convertToInteractive('df-d950ccb7-e72c-4981-aaed-b681b8856450')\"\n",
              "              title=\"Convert this dataframe to an interactive table.\"\n",
              "              style=\"display:none;\">\n",
              "        \n",
              "  <svg xmlns=\"http://www.w3.org/2000/svg\" height=\"24px\"viewBox=\"0 0 24 24\"\n",
              "       width=\"24px\">\n",
              "    <path d=\"M0 0h24v24H0V0z\" fill=\"none\"/>\n",
              "    <path d=\"M18.56 5.44l.94 2.06.94-2.06 2.06-.94-2.06-.94-.94-2.06-.94 2.06-2.06.94zm-11 1L8.5 8.5l.94-2.06 2.06-.94-2.06-.94L8.5 2.5l-.94 2.06-2.06.94zm10 10l.94 2.06.94-2.06 2.06-.94-2.06-.94-.94-2.06-.94 2.06-2.06.94z\"/><path d=\"M17.41 7.96l-1.37-1.37c-.4-.4-.92-.59-1.43-.59-.52 0-1.04.2-1.43.59L10.3 9.45l-7.72 7.72c-.78.78-.78 2.05 0 2.83L4 21.41c.39.39.9.59 1.41.59.51 0 1.02-.2 1.41-.59l7.78-7.78 2.81-2.81c.8-.78.8-2.07 0-2.86zM5.41 20L4 18.59l7.72-7.72 1.47 1.35L5.41 20z\"/>\n",
              "  </svg>\n",
              "      </button>\n",
              "      \n",
              "  <style>\n",
              "    .colab-df-container {\n",
              "      display:flex;\n",
              "      flex-wrap:wrap;\n",
              "      gap: 12px;\n",
              "    }\n",
              "\n",
              "    .colab-df-convert {\n",
              "      background-color: #E8F0FE;\n",
              "      border: none;\n",
              "      border-radius: 50%;\n",
              "      cursor: pointer;\n",
              "      display: none;\n",
              "      fill: #1967D2;\n",
              "      height: 32px;\n",
              "      padding: 0 0 0 0;\n",
              "      width: 32px;\n",
              "    }\n",
              "\n",
              "    .colab-df-convert:hover {\n",
              "      background-color: #E2EBFA;\n",
              "      box-shadow: 0px 1px 2px rgba(60, 64, 67, 0.3), 0px 1px 3px 1px rgba(60, 64, 67, 0.15);\n",
              "      fill: #174EA6;\n",
              "    }\n",
              "\n",
              "    [theme=dark] .colab-df-convert {\n",
              "      background-color: #3B4455;\n",
              "      fill: #D2E3FC;\n",
              "    }\n",
              "\n",
              "    [theme=dark] .colab-df-convert:hover {\n",
              "      background-color: #434B5C;\n",
              "      box-shadow: 0px 1px 3px 1px rgba(0, 0, 0, 0.15);\n",
              "      filter: drop-shadow(0px 1px 2px rgba(0, 0, 0, 0.3));\n",
              "      fill: #FFFFFF;\n",
              "    }\n",
              "  </style>\n",
              "\n",
              "      <script>\n",
              "        const buttonEl =\n",
              "          document.querySelector('#df-d950ccb7-e72c-4981-aaed-b681b8856450 button.colab-df-convert');\n",
              "        buttonEl.style.display =\n",
              "          google.colab.kernel.accessAllowed ? 'block' : 'none';\n",
              "\n",
              "        async function convertToInteractive(key) {\n",
              "          const element = document.querySelector('#df-d950ccb7-e72c-4981-aaed-b681b8856450');\n",
              "          const dataTable =\n",
              "            await google.colab.kernel.invokeFunction('convertToInteractive',\n",
              "                                                     [key], {});\n",
              "          if (!dataTable) return;\n",
              "\n",
              "          const docLinkHtml = 'Like what you see? Visit the ' +\n",
              "            '<a target=\"_blank\" href=https://colab.research.google.com/notebooks/data_table.ipynb>data table notebook</a>'\n",
              "            + ' to learn more about interactive tables.';\n",
              "          element.innerHTML = '';\n",
              "          dataTable['output_type'] = 'display_data';\n",
              "          await google.colab.output.renderOutput(dataTable, element);\n",
              "          const docLink = document.createElement('div');\n",
              "          docLink.innerHTML = docLinkHtml;\n",
              "          element.appendChild(docLink);\n",
              "        }\n",
              "      </script>\n",
              "    </div>\n",
              "  </div>\n",
              "  "
            ]
          },
          "metadata": {},
          "execution_count": 15
        }
      ]
    },
    {
      "cell_type": "code",
      "source": [
        "ocorrenciasAtendidasPorAno.describe()"
      ],
      "metadata": {
        "colab": {
          "base_uri": "https://localhost:8080/",
          "height": 297
        },
        "id": "4jXX5bmuvP44",
        "outputId": "0fa00ee9-28af-4eb6-931e-d95c82e6c173"
      },
      "execution_count": null,
      "outputs": [
        {
          "output_type": "execute_result",
          "data": {
            "text/plain": [
              "       ATENDIMENTO_ANO  Quantidade_Ocorrencias_Atendidas_Por_Ano\n",
              "count          14.0000                                 14.000000\n",
              "mean         2015.5000                              29859.357143\n",
              "std             4.1833                              12808.834923\n",
              "min          2009.0000                              19778.000000\n",
              "25%          2012.2500                              22232.500000\n",
              "50%          2015.5000                              24685.500000\n",
              "75%          2018.7500                              31707.000000\n",
              "max          2022.0000                              58726.000000"
            ],
            "text/html": [
              "\n",
              "  <div id=\"df-8d180fe4-9cd5-4c74-a0a9-a6b30bd54fd2\">\n",
              "    <div class=\"colab-df-container\">\n",
              "      <div>\n",
              "<style scoped>\n",
              "    .dataframe tbody tr th:only-of-type {\n",
              "        vertical-align: middle;\n",
              "    }\n",
              "\n",
              "    .dataframe tbody tr th {\n",
              "        vertical-align: top;\n",
              "    }\n",
              "\n",
              "    .dataframe thead th {\n",
              "        text-align: right;\n",
              "    }\n",
              "</style>\n",
              "<table border=\"1\" class=\"dataframe\">\n",
              "  <thead>\n",
              "    <tr style=\"text-align: right;\">\n",
              "      <th></th>\n",
              "      <th>ATENDIMENTO_ANO</th>\n",
              "      <th>Quantidade_Ocorrencias_Atendidas_Por_Ano</th>\n",
              "    </tr>\n",
              "  </thead>\n",
              "  <tbody>\n",
              "    <tr>\n",
              "      <th>count</th>\n",
              "      <td>14.0000</td>\n",
              "      <td>14.000000</td>\n",
              "    </tr>\n",
              "    <tr>\n",
              "      <th>mean</th>\n",
              "      <td>2015.5000</td>\n",
              "      <td>29859.357143</td>\n",
              "    </tr>\n",
              "    <tr>\n",
              "      <th>std</th>\n",
              "      <td>4.1833</td>\n",
              "      <td>12808.834923</td>\n",
              "    </tr>\n",
              "    <tr>\n",
              "      <th>min</th>\n",
              "      <td>2009.0000</td>\n",
              "      <td>19778.000000</td>\n",
              "    </tr>\n",
              "    <tr>\n",
              "      <th>25%</th>\n",
              "      <td>2012.2500</td>\n",
              "      <td>22232.500000</td>\n",
              "    </tr>\n",
              "    <tr>\n",
              "      <th>50%</th>\n",
              "      <td>2015.5000</td>\n",
              "      <td>24685.500000</td>\n",
              "    </tr>\n",
              "    <tr>\n",
              "      <th>75%</th>\n",
              "      <td>2018.7500</td>\n",
              "      <td>31707.000000</td>\n",
              "    </tr>\n",
              "    <tr>\n",
              "      <th>max</th>\n",
              "      <td>2022.0000</td>\n",
              "      <td>58726.000000</td>\n",
              "    </tr>\n",
              "  </tbody>\n",
              "</table>\n",
              "</div>\n",
              "      <button class=\"colab-df-convert\" onclick=\"convertToInteractive('df-8d180fe4-9cd5-4c74-a0a9-a6b30bd54fd2')\"\n",
              "              title=\"Convert this dataframe to an interactive table.\"\n",
              "              style=\"display:none;\">\n",
              "        \n",
              "  <svg xmlns=\"http://www.w3.org/2000/svg\" height=\"24px\"viewBox=\"0 0 24 24\"\n",
              "       width=\"24px\">\n",
              "    <path d=\"M0 0h24v24H0V0z\" fill=\"none\"/>\n",
              "    <path d=\"M18.56 5.44l.94 2.06.94-2.06 2.06-.94-2.06-.94-.94-2.06-.94 2.06-2.06.94zm-11 1L8.5 8.5l.94-2.06 2.06-.94-2.06-.94L8.5 2.5l-.94 2.06-2.06.94zm10 10l.94 2.06.94-2.06 2.06-.94-2.06-.94-.94-2.06-.94 2.06-2.06.94z\"/><path d=\"M17.41 7.96l-1.37-1.37c-.4-.4-.92-.59-1.43-.59-.52 0-1.04.2-1.43.59L10.3 9.45l-7.72 7.72c-.78.78-.78 2.05 0 2.83L4 21.41c.39.39.9.59 1.41.59.51 0 1.02-.2 1.41-.59l7.78-7.78 2.81-2.81c.8-.78.8-2.07 0-2.86zM5.41 20L4 18.59l7.72-7.72 1.47 1.35L5.41 20z\"/>\n",
              "  </svg>\n",
              "      </button>\n",
              "      \n",
              "  <style>\n",
              "    .colab-df-container {\n",
              "      display:flex;\n",
              "      flex-wrap:wrap;\n",
              "      gap: 12px;\n",
              "    }\n",
              "\n",
              "    .colab-df-convert {\n",
              "      background-color: #E8F0FE;\n",
              "      border: none;\n",
              "      border-radius: 50%;\n",
              "      cursor: pointer;\n",
              "      display: none;\n",
              "      fill: #1967D2;\n",
              "      height: 32px;\n",
              "      padding: 0 0 0 0;\n",
              "      width: 32px;\n",
              "    }\n",
              "\n",
              "    .colab-df-convert:hover {\n",
              "      background-color: #E2EBFA;\n",
              "      box-shadow: 0px 1px 2px rgba(60, 64, 67, 0.3), 0px 1px 3px 1px rgba(60, 64, 67, 0.15);\n",
              "      fill: #174EA6;\n",
              "    }\n",
              "\n",
              "    [theme=dark] .colab-df-convert {\n",
              "      background-color: #3B4455;\n",
              "      fill: #D2E3FC;\n",
              "    }\n",
              "\n",
              "    [theme=dark] .colab-df-convert:hover {\n",
              "      background-color: #434B5C;\n",
              "      box-shadow: 0px 1px 3px 1px rgba(0, 0, 0, 0.15);\n",
              "      filter: drop-shadow(0px 1px 2px rgba(0, 0, 0, 0.3));\n",
              "      fill: #FFFFFF;\n",
              "    }\n",
              "  </style>\n",
              "\n",
              "      <script>\n",
              "        const buttonEl =\n",
              "          document.querySelector('#df-8d180fe4-9cd5-4c74-a0a9-a6b30bd54fd2 button.colab-df-convert');\n",
              "        buttonEl.style.display =\n",
              "          google.colab.kernel.accessAllowed ? 'block' : 'none';\n",
              "\n",
              "        async function convertToInteractive(key) {\n",
              "          const element = document.querySelector('#df-8d180fe4-9cd5-4c74-a0a9-a6b30bd54fd2');\n",
              "          const dataTable =\n",
              "            await google.colab.kernel.invokeFunction('convertToInteractive',\n",
              "                                                     [key], {});\n",
              "          if (!dataTable) return;\n",
              "\n",
              "          const docLinkHtml = 'Like what you see? Visit the ' +\n",
              "            '<a target=\"_blank\" href=https://colab.research.google.com/notebooks/data_table.ipynb>data table notebook</a>'\n",
              "            + ' to learn more about interactive tables.';\n",
              "          element.innerHTML = '';\n",
              "          dataTable['output_type'] = 'display_data';\n",
              "          await google.colab.output.renderOutput(dataTable, element);\n",
              "          const docLink = document.createElement('div');\n",
              "          docLink.innerHTML = docLinkHtml;\n",
              "          element.appendChild(docLink);\n",
              "        }\n",
              "      </script>\n",
              "    </div>\n",
              "  </div>\n",
              "  "
            ]
          },
          "metadata": {},
          "execution_count": 16
        }
      ]
    },
    {
      "cell_type": "markdown",
      "source": [
        "- Quantidade de ocorrencias registradas por ano (OCORRENCIA_ANO)"
      ],
      "metadata": {
        "id": "Rgz3DhzxyVtR"
      }
    },
    {
      "cell_type": "code",
      "source": [
        "ocorrenciasRegistradasPorAno = df.groupby(['OCORRENCIA_ANO'])['QUANTIDADE_OCORRENCIA'].sum().reset_index()"
      ],
      "metadata": {
        "id": "lglhjuLNHpgH"
      },
      "execution_count": null,
      "outputs": []
    },
    {
      "cell_type": "code",
      "source": [
        "ocorrenciasRegistradasPorAno = ocorrenciasRegistradasPorAno.rename({'QUANTIDADE_OCORRENCIA': 'Quantidade_Ocorrencias_Registradas_Por_Ano'}, axis=1)"
      ],
      "metadata": {
        "id": "XsvsaKTmdVN-"
      },
      "execution_count": null,
      "outputs": []
    },
    {
      "cell_type": "code",
      "source": [
        "ocorrenciasRegistradasPorAno"
      ],
      "metadata": {
        "id": "EJNUZcrDHpkp",
        "colab": {
          "base_uri": "https://localhost:8080/",
          "height": 483
        },
        "outputId": "4963deda-c5f1-43bf-a844-6bd1272bd34c"
      },
      "execution_count": null,
      "outputs": [
        {
          "output_type": "execute_result",
          "data": {
            "text/plain": [
              "    OCORRENCIA_ANO  Quantidade_Ocorrencias_Registradas_Por_Ano\n",
              "0             2009                                       24903\n",
              "1             2010                                       22531\n",
              "2             2011                                       21484\n",
              "3             2012                                       19776\n",
              "4             2013                                       24470\n",
              "5             2014                                       25303\n",
              "6             2015                                       25566\n",
              "7             2016                                       21469\n",
              "8             2017                                       22137\n",
              "9             2018                                       24153\n",
              "10            2019                                       33762\n",
              "11            2020                                       57453\n",
              "12            2021                                       58731\n",
              "13            2022                                       36314"
            ],
            "text/html": [
              "\n",
              "  <div id=\"df-914f4f6e-98b8-41e3-bec7-bdb3395d090a\">\n",
              "    <div class=\"colab-df-container\">\n",
              "      <div>\n",
              "<style scoped>\n",
              "    .dataframe tbody tr th:only-of-type {\n",
              "        vertical-align: middle;\n",
              "    }\n",
              "\n",
              "    .dataframe tbody tr th {\n",
              "        vertical-align: top;\n",
              "    }\n",
              "\n",
              "    .dataframe thead th {\n",
              "        text-align: right;\n",
              "    }\n",
              "</style>\n",
              "<table border=\"1\" class=\"dataframe\">\n",
              "  <thead>\n",
              "    <tr style=\"text-align: right;\">\n",
              "      <th></th>\n",
              "      <th>OCORRENCIA_ANO</th>\n",
              "      <th>Quantidade_Ocorrencias_Registradas_Por_Ano</th>\n",
              "    </tr>\n",
              "  </thead>\n",
              "  <tbody>\n",
              "    <tr>\n",
              "      <th>0</th>\n",
              "      <td>2009</td>\n",
              "      <td>24903</td>\n",
              "    </tr>\n",
              "    <tr>\n",
              "      <th>1</th>\n",
              "      <td>2010</td>\n",
              "      <td>22531</td>\n",
              "    </tr>\n",
              "    <tr>\n",
              "      <th>2</th>\n",
              "      <td>2011</td>\n",
              "      <td>21484</td>\n",
              "    </tr>\n",
              "    <tr>\n",
              "      <th>3</th>\n",
              "      <td>2012</td>\n",
              "      <td>19776</td>\n",
              "    </tr>\n",
              "    <tr>\n",
              "      <th>4</th>\n",
              "      <td>2013</td>\n",
              "      <td>24470</td>\n",
              "    </tr>\n",
              "    <tr>\n",
              "      <th>5</th>\n",
              "      <td>2014</td>\n",
              "      <td>25303</td>\n",
              "    </tr>\n",
              "    <tr>\n",
              "      <th>6</th>\n",
              "      <td>2015</td>\n",
              "      <td>25566</td>\n",
              "    </tr>\n",
              "    <tr>\n",
              "      <th>7</th>\n",
              "      <td>2016</td>\n",
              "      <td>21469</td>\n",
              "    </tr>\n",
              "    <tr>\n",
              "      <th>8</th>\n",
              "      <td>2017</td>\n",
              "      <td>22137</td>\n",
              "    </tr>\n",
              "    <tr>\n",
              "      <th>9</th>\n",
              "      <td>2018</td>\n",
              "      <td>24153</td>\n",
              "    </tr>\n",
              "    <tr>\n",
              "      <th>10</th>\n",
              "      <td>2019</td>\n",
              "      <td>33762</td>\n",
              "    </tr>\n",
              "    <tr>\n",
              "      <th>11</th>\n",
              "      <td>2020</td>\n",
              "      <td>57453</td>\n",
              "    </tr>\n",
              "    <tr>\n",
              "      <th>12</th>\n",
              "      <td>2021</td>\n",
              "      <td>58731</td>\n",
              "    </tr>\n",
              "    <tr>\n",
              "      <th>13</th>\n",
              "      <td>2022</td>\n",
              "      <td>36314</td>\n",
              "    </tr>\n",
              "  </tbody>\n",
              "</table>\n",
              "</div>\n",
              "      <button class=\"colab-df-convert\" onclick=\"convertToInteractive('df-914f4f6e-98b8-41e3-bec7-bdb3395d090a')\"\n",
              "              title=\"Convert this dataframe to an interactive table.\"\n",
              "              style=\"display:none;\">\n",
              "        \n",
              "  <svg xmlns=\"http://www.w3.org/2000/svg\" height=\"24px\"viewBox=\"0 0 24 24\"\n",
              "       width=\"24px\">\n",
              "    <path d=\"M0 0h24v24H0V0z\" fill=\"none\"/>\n",
              "    <path d=\"M18.56 5.44l.94 2.06.94-2.06 2.06-.94-2.06-.94-.94-2.06-.94 2.06-2.06.94zm-11 1L8.5 8.5l.94-2.06 2.06-.94-2.06-.94L8.5 2.5l-.94 2.06-2.06.94zm10 10l.94 2.06.94-2.06 2.06-.94-2.06-.94-.94-2.06-.94 2.06-2.06.94z\"/><path d=\"M17.41 7.96l-1.37-1.37c-.4-.4-.92-.59-1.43-.59-.52 0-1.04.2-1.43.59L10.3 9.45l-7.72 7.72c-.78.78-.78 2.05 0 2.83L4 21.41c.39.39.9.59 1.41.59.51 0 1.02-.2 1.41-.59l7.78-7.78 2.81-2.81c.8-.78.8-2.07 0-2.86zM5.41 20L4 18.59l7.72-7.72 1.47 1.35L5.41 20z\"/>\n",
              "  </svg>\n",
              "      </button>\n",
              "      \n",
              "  <style>\n",
              "    .colab-df-container {\n",
              "      display:flex;\n",
              "      flex-wrap:wrap;\n",
              "      gap: 12px;\n",
              "    }\n",
              "\n",
              "    .colab-df-convert {\n",
              "      background-color: #E8F0FE;\n",
              "      border: none;\n",
              "      border-radius: 50%;\n",
              "      cursor: pointer;\n",
              "      display: none;\n",
              "      fill: #1967D2;\n",
              "      height: 32px;\n",
              "      padding: 0 0 0 0;\n",
              "      width: 32px;\n",
              "    }\n",
              "\n",
              "    .colab-df-convert:hover {\n",
              "      background-color: #E2EBFA;\n",
              "      box-shadow: 0px 1px 2px rgba(60, 64, 67, 0.3), 0px 1px 3px 1px rgba(60, 64, 67, 0.15);\n",
              "      fill: #174EA6;\n",
              "    }\n",
              "\n",
              "    [theme=dark] .colab-df-convert {\n",
              "      background-color: #3B4455;\n",
              "      fill: #D2E3FC;\n",
              "    }\n",
              "\n",
              "    [theme=dark] .colab-df-convert:hover {\n",
              "      background-color: #434B5C;\n",
              "      box-shadow: 0px 1px 3px 1px rgba(0, 0, 0, 0.15);\n",
              "      filter: drop-shadow(0px 1px 2px rgba(0, 0, 0, 0.3));\n",
              "      fill: #FFFFFF;\n",
              "    }\n",
              "  </style>\n",
              "\n",
              "      <script>\n",
              "        const buttonEl =\n",
              "          document.querySelector('#df-914f4f6e-98b8-41e3-bec7-bdb3395d090a button.colab-df-convert');\n",
              "        buttonEl.style.display =\n",
              "          google.colab.kernel.accessAllowed ? 'block' : 'none';\n",
              "\n",
              "        async function convertToInteractive(key) {\n",
              "          const element = document.querySelector('#df-914f4f6e-98b8-41e3-bec7-bdb3395d090a');\n",
              "          const dataTable =\n",
              "            await google.colab.kernel.invokeFunction('convertToInteractive',\n",
              "                                                     [key], {});\n",
              "          if (!dataTable) return;\n",
              "\n",
              "          const docLinkHtml = 'Like what you see? Visit the ' +\n",
              "            '<a target=\"_blank\" href=https://colab.research.google.com/notebooks/data_table.ipynb>data table notebook</a>'\n",
              "            + ' to learn more about interactive tables.';\n",
              "          element.innerHTML = '';\n",
              "          dataTable['output_type'] = 'display_data';\n",
              "          await google.colab.output.renderOutput(dataTable, element);\n",
              "          const docLink = document.createElement('div');\n",
              "          docLink.innerHTML = docLinkHtml;\n",
              "          element.appendChild(docLink);\n",
              "        }\n",
              "      </script>\n",
              "    </div>\n",
              "  </div>\n",
              "  "
            ]
          },
          "metadata": {},
          "execution_count": 19
        }
      ]
    },
    {
      "cell_type": "code",
      "source": [
        "ocorrenciasRegistradasPorAno.describe()"
      ],
      "metadata": {
        "colab": {
          "base_uri": "https://localhost:8080/",
          "height": 297
        },
        "id": "sF8IP1U4vZfi",
        "outputId": "97cedd2a-c4a5-40d2-c651-c0f190b316ff"
      },
      "execution_count": null,
      "outputs": [
        {
          "output_type": "execute_result",
          "data": {
            "text/plain": [
              "       OCORRENCIA_ANO  Quantidade_Ocorrencias_Registradas_Por_Ano\n",
              "count         14.0000                                   14.000000\n",
              "mean        2015.5000                                29860.857143\n",
              "std            4.1833                                12808.647216\n",
              "min         2009.0000                                19776.000000\n",
              "25%         2012.2500                                22235.500000\n",
              "50%         2015.5000                                24686.500000\n",
              "75%         2018.7500                                31713.000000\n",
              "max         2022.0000                                58731.000000"
            ],
            "text/html": [
              "\n",
              "  <div id=\"df-f03d00fd-f0ec-4d69-af66-f685c5523ee2\">\n",
              "    <div class=\"colab-df-container\">\n",
              "      <div>\n",
              "<style scoped>\n",
              "    .dataframe tbody tr th:only-of-type {\n",
              "        vertical-align: middle;\n",
              "    }\n",
              "\n",
              "    .dataframe tbody tr th {\n",
              "        vertical-align: top;\n",
              "    }\n",
              "\n",
              "    .dataframe thead th {\n",
              "        text-align: right;\n",
              "    }\n",
              "</style>\n",
              "<table border=\"1\" class=\"dataframe\">\n",
              "  <thead>\n",
              "    <tr style=\"text-align: right;\">\n",
              "      <th></th>\n",
              "      <th>OCORRENCIA_ANO</th>\n",
              "      <th>Quantidade_Ocorrencias_Registradas_Por_Ano</th>\n",
              "    </tr>\n",
              "  </thead>\n",
              "  <tbody>\n",
              "    <tr>\n",
              "      <th>count</th>\n",
              "      <td>14.0000</td>\n",
              "      <td>14.000000</td>\n",
              "    </tr>\n",
              "    <tr>\n",
              "      <th>mean</th>\n",
              "      <td>2015.5000</td>\n",
              "      <td>29860.857143</td>\n",
              "    </tr>\n",
              "    <tr>\n",
              "      <th>std</th>\n",
              "      <td>4.1833</td>\n",
              "      <td>12808.647216</td>\n",
              "    </tr>\n",
              "    <tr>\n",
              "      <th>min</th>\n",
              "      <td>2009.0000</td>\n",
              "      <td>19776.000000</td>\n",
              "    </tr>\n",
              "    <tr>\n",
              "      <th>25%</th>\n",
              "      <td>2012.2500</td>\n",
              "      <td>22235.500000</td>\n",
              "    </tr>\n",
              "    <tr>\n",
              "      <th>50%</th>\n",
              "      <td>2015.5000</td>\n",
              "      <td>24686.500000</td>\n",
              "    </tr>\n",
              "    <tr>\n",
              "      <th>75%</th>\n",
              "      <td>2018.7500</td>\n",
              "      <td>31713.000000</td>\n",
              "    </tr>\n",
              "    <tr>\n",
              "      <th>max</th>\n",
              "      <td>2022.0000</td>\n",
              "      <td>58731.000000</td>\n",
              "    </tr>\n",
              "  </tbody>\n",
              "</table>\n",
              "</div>\n",
              "      <button class=\"colab-df-convert\" onclick=\"convertToInteractive('df-f03d00fd-f0ec-4d69-af66-f685c5523ee2')\"\n",
              "              title=\"Convert this dataframe to an interactive table.\"\n",
              "              style=\"display:none;\">\n",
              "        \n",
              "  <svg xmlns=\"http://www.w3.org/2000/svg\" height=\"24px\"viewBox=\"0 0 24 24\"\n",
              "       width=\"24px\">\n",
              "    <path d=\"M0 0h24v24H0V0z\" fill=\"none\"/>\n",
              "    <path d=\"M18.56 5.44l.94 2.06.94-2.06 2.06-.94-2.06-.94-.94-2.06-.94 2.06-2.06.94zm-11 1L8.5 8.5l.94-2.06 2.06-.94-2.06-.94L8.5 2.5l-.94 2.06-2.06.94zm10 10l.94 2.06.94-2.06 2.06-.94-2.06-.94-.94-2.06-.94 2.06-2.06.94z\"/><path d=\"M17.41 7.96l-1.37-1.37c-.4-.4-.92-.59-1.43-.59-.52 0-1.04.2-1.43.59L10.3 9.45l-7.72 7.72c-.78.78-.78 2.05 0 2.83L4 21.41c.39.39.9.59 1.41.59.51 0 1.02-.2 1.41-.59l7.78-7.78 2.81-2.81c.8-.78.8-2.07 0-2.86zM5.41 20L4 18.59l7.72-7.72 1.47 1.35L5.41 20z\"/>\n",
              "  </svg>\n",
              "      </button>\n",
              "      \n",
              "  <style>\n",
              "    .colab-df-container {\n",
              "      display:flex;\n",
              "      flex-wrap:wrap;\n",
              "      gap: 12px;\n",
              "    }\n",
              "\n",
              "    .colab-df-convert {\n",
              "      background-color: #E8F0FE;\n",
              "      border: none;\n",
              "      border-radius: 50%;\n",
              "      cursor: pointer;\n",
              "      display: none;\n",
              "      fill: #1967D2;\n",
              "      height: 32px;\n",
              "      padding: 0 0 0 0;\n",
              "      width: 32px;\n",
              "    }\n",
              "\n",
              "    .colab-df-convert:hover {\n",
              "      background-color: #E2EBFA;\n",
              "      box-shadow: 0px 1px 2px rgba(60, 64, 67, 0.3), 0px 1px 3px 1px rgba(60, 64, 67, 0.15);\n",
              "      fill: #174EA6;\n",
              "    }\n",
              "\n",
              "    [theme=dark] .colab-df-convert {\n",
              "      background-color: #3B4455;\n",
              "      fill: #D2E3FC;\n",
              "    }\n",
              "\n",
              "    [theme=dark] .colab-df-convert:hover {\n",
              "      background-color: #434B5C;\n",
              "      box-shadow: 0px 1px 3px 1px rgba(0, 0, 0, 0.15);\n",
              "      filter: drop-shadow(0px 1px 2px rgba(0, 0, 0, 0.3));\n",
              "      fill: #FFFFFF;\n",
              "    }\n",
              "  </style>\n",
              "\n",
              "      <script>\n",
              "        const buttonEl =\n",
              "          document.querySelector('#df-f03d00fd-f0ec-4d69-af66-f685c5523ee2 button.colab-df-convert');\n",
              "        buttonEl.style.display =\n",
              "          google.colab.kernel.accessAllowed ? 'block' : 'none';\n",
              "\n",
              "        async function convertToInteractive(key) {\n",
              "          const element = document.querySelector('#df-f03d00fd-f0ec-4d69-af66-f685c5523ee2');\n",
              "          const dataTable =\n",
              "            await google.colab.kernel.invokeFunction('convertToInteractive',\n",
              "                                                     [key], {});\n",
              "          if (!dataTable) return;\n",
              "\n",
              "          const docLinkHtml = 'Like what you see? Visit the ' +\n",
              "            '<a target=\"_blank\" href=https://colab.research.google.com/notebooks/data_table.ipynb>data table notebook</a>'\n",
              "            + ' to learn more about interactive tables.';\n",
              "          element.innerHTML = '';\n",
              "          dataTable['output_type'] = 'display_data';\n",
              "          await google.colab.output.renderOutput(dataTable, element);\n",
              "          const docLink = document.createElement('div');\n",
              "          docLink.innerHTML = docLinkHtml;\n",
              "          element.appendChild(docLink);\n",
              "        }\n",
              "      </script>\n",
              "    </div>\n",
              "  </div>\n",
              "  "
            ]
          },
          "metadata": {},
          "execution_count": 20
        }
      ]
    },
    {
      "cell_type": "markdown",
      "source": [
        "- Quantidade de ocorrencias por bairro (ATENDIMENTO_BAIRRO_NOME)"
      ],
      "metadata": {
        "id": "mwAh8Dcwy9rk"
      }
    },
    {
      "cell_type": "code",
      "source": [
        "ocorrenciasPorBairro = df.groupby(['ATENDIMENTO_BAIRRO_NOME'])['QUANTIDADE_OCORRENCIA'].sum().reset_index()"
      ],
      "metadata": {
        "id": "wX0pd6Pgy4SL"
      },
      "execution_count": null,
      "outputs": []
    },
    {
      "cell_type": "code",
      "source": [
        "ocorrenciasPorBairro = ocorrenciasPorBairro.rename({'QUANTIDADE_OCORRENCIA': 'Quantidade_Ocorrencias_Registradas_Por_Bairro'}, axis=1)"
      ],
      "metadata": {
        "id": "Lk7bCeP6df60"
      },
      "execution_count": null,
      "outputs": []
    },
    {
      "cell_type": "code",
      "source": [
        "ocorrenciasPorBairro"
      ],
      "metadata": {
        "colab": {
          "base_uri": "https://localhost:8080/",
          "height": 419
        },
        "id": "PsFpNBPL0gY5",
        "outputId": "ce018b1f-1fef-474e-d617-7ecfa42fa173"
      },
      "execution_count": null,
      "outputs": [
        {
          "output_type": "execute_result",
          "data": {
            "text/plain": [
              "    ATENDIMENTO_BAIRRO_NOME  Quantidade_Ocorrencias_Registradas_Por_Bairro\n",
              "0             JARDIM OSASCO                                              1\n",
              "1       JARDIM PEDRO DEMETE                                              1\n",
              "2                 ABRANCHES                                           2134\n",
              "3               AFONSO PENA                                              1\n",
              "4              AFONSO PENA                                               1\n",
              "..                      ...                                            ...\n",
              "184            VISTA ALEGRE                                           1498\n",
              "185                   XAXIM                                           6742\n",
              "186                   fanny                                              1\n",
              "187              ÁGUA VERDE                                           7616\n",
              "188             ÁGUAS BELAS                                              3\n",
              "\n",
              "[189 rows x 2 columns]"
            ],
            "text/html": [
              "\n",
              "  <div id=\"df-4e7f3c94-8719-42e9-9d17-d8c82dfcc66c\">\n",
              "    <div class=\"colab-df-container\">\n",
              "      <div>\n",
              "<style scoped>\n",
              "    .dataframe tbody tr th:only-of-type {\n",
              "        vertical-align: middle;\n",
              "    }\n",
              "\n",
              "    .dataframe tbody tr th {\n",
              "        vertical-align: top;\n",
              "    }\n",
              "\n",
              "    .dataframe thead th {\n",
              "        text-align: right;\n",
              "    }\n",
              "</style>\n",
              "<table border=\"1\" class=\"dataframe\">\n",
              "  <thead>\n",
              "    <tr style=\"text-align: right;\">\n",
              "      <th></th>\n",
              "      <th>ATENDIMENTO_BAIRRO_NOME</th>\n",
              "      <th>Quantidade_Ocorrencias_Registradas_Por_Bairro</th>\n",
              "    </tr>\n",
              "  </thead>\n",
              "  <tbody>\n",
              "    <tr>\n",
              "      <th>0</th>\n",
              "      <td>JARDIM OSASCO</td>\n",
              "      <td>1</td>\n",
              "    </tr>\n",
              "    <tr>\n",
              "      <th>1</th>\n",
              "      <td>JARDIM PEDRO DEMETE</td>\n",
              "      <td>1</td>\n",
              "    </tr>\n",
              "    <tr>\n",
              "      <th>2</th>\n",
              "      <td>ABRANCHES</td>\n",
              "      <td>2134</td>\n",
              "    </tr>\n",
              "    <tr>\n",
              "      <th>3</th>\n",
              "      <td>AFONSO PENA</td>\n",
              "      <td>1</td>\n",
              "    </tr>\n",
              "    <tr>\n",
              "      <th>4</th>\n",
              "      <td>AFONSO PENA</td>\n",
              "      <td>1</td>\n",
              "    </tr>\n",
              "    <tr>\n",
              "      <th>...</th>\n",
              "      <td>...</td>\n",
              "      <td>...</td>\n",
              "    </tr>\n",
              "    <tr>\n",
              "      <th>184</th>\n",
              "      <td>VISTA ALEGRE</td>\n",
              "      <td>1498</td>\n",
              "    </tr>\n",
              "    <tr>\n",
              "      <th>185</th>\n",
              "      <td>XAXIM</td>\n",
              "      <td>6742</td>\n",
              "    </tr>\n",
              "    <tr>\n",
              "      <th>186</th>\n",
              "      <td>fanny</td>\n",
              "      <td>1</td>\n",
              "    </tr>\n",
              "    <tr>\n",
              "      <th>187</th>\n",
              "      <td>ÁGUA VERDE</td>\n",
              "      <td>7616</td>\n",
              "    </tr>\n",
              "    <tr>\n",
              "      <th>188</th>\n",
              "      <td>ÁGUAS BELAS</td>\n",
              "      <td>3</td>\n",
              "    </tr>\n",
              "  </tbody>\n",
              "</table>\n",
              "<p>189 rows × 2 columns</p>\n",
              "</div>\n",
              "      <button class=\"colab-df-convert\" onclick=\"convertToInteractive('df-4e7f3c94-8719-42e9-9d17-d8c82dfcc66c')\"\n",
              "              title=\"Convert this dataframe to an interactive table.\"\n",
              "              style=\"display:none;\">\n",
              "        \n",
              "  <svg xmlns=\"http://www.w3.org/2000/svg\" height=\"24px\"viewBox=\"0 0 24 24\"\n",
              "       width=\"24px\">\n",
              "    <path d=\"M0 0h24v24H0V0z\" fill=\"none\"/>\n",
              "    <path d=\"M18.56 5.44l.94 2.06.94-2.06 2.06-.94-2.06-.94-.94-2.06-.94 2.06-2.06.94zm-11 1L8.5 8.5l.94-2.06 2.06-.94-2.06-.94L8.5 2.5l-.94 2.06-2.06.94zm10 10l.94 2.06.94-2.06 2.06-.94-2.06-.94-.94-2.06-.94 2.06-2.06.94z\"/><path d=\"M17.41 7.96l-1.37-1.37c-.4-.4-.92-.59-1.43-.59-.52 0-1.04.2-1.43.59L10.3 9.45l-7.72 7.72c-.78.78-.78 2.05 0 2.83L4 21.41c.39.39.9.59 1.41.59.51 0 1.02-.2 1.41-.59l7.78-7.78 2.81-2.81c.8-.78.8-2.07 0-2.86zM5.41 20L4 18.59l7.72-7.72 1.47 1.35L5.41 20z\"/>\n",
              "  </svg>\n",
              "      </button>\n",
              "      \n",
              "  <style>\n",
              "    .colab-df-container {\n",
              "      display:flex;\n",
              "      flex-wrap:wrap;\n",
              "      gap: 12px;\n",
              "    }\n",
              "\n",
              "    .colab-df-convert {\n",
              "      background-color: #E8F0FE;\n",
              "      border: none;\n",
              "      border-radius: 50%;\n",
              "      cursor: pointer;\n",
              "      display: none;\n",
              "      fill: #1967D2;\n",
              "      height: 32px;\n",
              "      padding: 0 0 0 0;\n",
              "      width: 32px;\n",
              "    }\n",
              "\n",
              "    .colab-df-convert:hover {\n",
              "      background-color: #E2EBFA;\n",
              "      box-shadow: 0px 1px 2px rgba(60, 64, 67, 0.3), 0px 1px 3px 1px rgba(60, 64, 67, 0.15);\n",
              "      fill: #174EA6;\n",
              "    }\n",
              "\n",
              "    [theme=dark] .colab-df-convert {\n",
              "      background-color: #3B4455;\n",
              "      fill: #D2E3FC;\n",
              "    }\n",
              "\n",
              "    [theme=dark] .colab-df-convert:hover {\n",
              "      background-color: #434B5C;\n",
              "      box-shadow: 0px 1px 3px 1px rgba(0, 0, 0, 0.15);\n",
              "      filter: drop-shadow(0px 1px 2px rgba(0, 0, 0, 0.3));\n",
              "      fill: #FFFFFF;\n",
              "    }\n",
              "  </style>\n",
              "\n",
              "      <script>\n",
              "        const buttonEl =\n",
              "          document.querySelector('#df-4e7f3c94-8719-42e9-9d17-d8c82dfcc66c button.colab-df-convert');\n",
              "        buttonEl.style.display =\n",
              "          google.colab.kernel.accessAllowed ? 'block' : 'none';\n",
              "\n",
              "        async function convertToInteractive(key) {\n",
              "          const element = document.querySelector('#df-4e7f3c94-8719-42e9-9d17-d8c82dfcc66c');\n",
              "          const dataTable =\n",
              "            await google.colab.kernel.invokeFunction('convertToInteractive',\n",
              "                                                     [key], {});\n",
              "          if (!dataTable) return;\n",
              "\n",
              "          const docLinkHtml = 'Like what you see? Visit the ' +\n",
              "            '<a target=\"_blank\" href=https://colab.research.google.com/notebooks/data_table.ipynb>data table notebook</a>'\n",
              "            + ' to learn more about interactive tables.';\n",
              "          element.innerHTML = '';\n",
              "          dataTable['output_type'] = 'display_data';\n",
              "          await google.colab.output.renderOutput(dataTable, element);\n",
              "          const docLink = document.createElement('div');\n",
              "          docLink.innerHTML = docLinkHtml;\n",
              "          element.appendChild(docLink);\n",
              "        }\n",
              "      </script>\n",
              "    </div>\n",
              "  </div>\n",
              "  "
            ]
          },
          "metadata": {},
          "execution_count": 23
        }
      ]
    },
    {
      "cell_type": "code",
      "source": [
        "ocorrenciasPorBairro.describe()"
      ],
      "metadata": {
        "colab": {
          "base_uri": "https://localhost:8080/",
          "height": 297
        },
        "id": "-o-3hIyovfsd",
        "outputId": "d7048f4c-036c-4b21-a389-4461be8e894c"
      },
      "execution_count": null,
      "outputs": [
        {
          "output_type": "execute_result",
          "data": {
            "text/plain": [
              "       Quantidade_Ocorrencias_Registradas_Por_Bairro\n",
              "count                                     189.000000\n",
              "mean                                     2211.148148\n",
              "std                                      6522.940097\n",
              "min                                         1.000000\n",
              "25%                                         1.000000\n",
              "50%                                         2.000000\n",
              "75%                                      2043.000000\n",
              "max                                     72118.000000"
            ],
            "text/html": [
              "\n",
              "  <div id=\"df-e79d1ede-87b7-4115-a764-9513739c0e67\">\n",
              "    <div class=\"colab-df-container\">\n",
              "      <div>\n",
              "<style scoped>\n",
              "    .dataframe tbody tr th:only-of-type {\n",
              "        vertical-align: middle;\n",
              "    }\n",
              "\n",
              "    .dataframe tbody tr th {\n",
              "        vertical-align: top;\n",
              "    }\n",
              "\n",
              "    .dataframe thead th {\n",
              "        text-align: right;\n",
              "    }\n",
              "</style>\n",
              "<table border=\"1\" class=\"dataframe\">\n",
              "  <thead>\n",
              "    <tr style=\"text-align: right;\">\n",
              "      <th></th>\n",
              "      <th>Quantidade_Ocorrencias_Registradas_Por_Bairro</th>\n",
              "    </tr>\n",
              "  </thead>\n",
              "  <tbody>\n",
              "    <tr>\n",
              "      <th>count</th>\n",
              "      <td>189.000000</td>\n",
              "    </tr>\n",
              "    <tr>\n",
              "      <th>mean</th>\n",
              "      <td>2211.148148</td>\n",
              "    </tr>\n",
              "    <tr>\n",
              "      <th>std</th>\n",
              "      <td>6522.940097</td>\n",
              "    </tr>\n",
              "    <tr>\n",
              "      <th>min</th>\n",
              "      <td>1.000000</td>\n",
              "    </tr>\n",
              "    <tr>\n",
              "      <th>25%</th>\n",
              "      <td>1.000000</td>\n",
              "    </tr>\n",
              "    <tr>\n",
              "      <th>50%</th>\n",
              "      <td>2.000000</td>\n",
              "    </tr>\n",
              "    <tr>\n",
              "      <th>75%</th>\n",
              "      <td>2043.000000</td>\n",
              "    </tr>\n",
              "    <tr>\n",
              "      <th>max</th>\n",
              "      <td>72118.000000</td>\n",
              "    </tr>\n",
              "  </tbody>\n",
              "</table>\n",
              "</div>\n",
              "      <button class=\"colab-df-convert\" onclick=\"convertToInteractive('df-e79d1ede-87b7-4115-a764-9513739c0e67')\"\n",
              "              title=\"Convert this dataframe to an interactive table.\"\n",
              "              style=\"display:none;\">\n",
              "        \n",
              "  <svg xmlns=\"http://www.w3.org/2000/svg\" height=\"24px\"viewBox=\"0 0 24 24\"\n",
              "       width=\"24px\">\n",
              "    <path d=\"M0 0h24v24H0V0z\" fill=\"none\"/>\n",
              "    <path d=\"M18.56 5.44l.94 2.06.94-2.06 2.06-.94-2.06-.94-.94-2.06-.94 2.06-2.06.94zm-11 1L8.5 8.5l.94-2.06 2.06-.94-2.06-.94L8.5 2.5l-.94 2.06-2.06.94zm10 10l.94 2.06.94-2.06 2.06-.94-2.06-.94-.94-2.06-.94 2.06-2.06.94z\"/><path d=\"M17.41 7.96l-1.37-1.37c-.4-.4-.92-.59-1.43-.59-.52 0-1.04.2-1.43.59L10.3 9.45l-7.72 7.72c-.78.78-.78 2.05 0 2.83L4 21.41c.39.39.9.59 1.41.59.51 0 1.02-.2 1.41-.59l7.78-7.78 2.81-2.81c.8-.78.8-2.07 0-2.86zM5.41 20L4 18.59l7.72-7.72 1.47 1.35L5.41 20z\"/>\n",
              "  </svg>\n",
              "      </button>\n",
              "      \n",
              "  <style>\n",
              "    .colab-df-container {\n",
              "      display:flex;\n",
              "      flex-wrap:wrap;\n",
              "      gap: 12px;\n",
              "    }\n",
              "\n",
              "    .colab-df-convert {\n",
              "      background-color: #E8F0FE;\n",
              "      border: none;\n",
              "      border-radius: 50%;\n",
              "      cursor: pointer;\n",
              "      display: none;\n",
              "      fill: #1967D2;\n",
              "      height: 32px;\n",
              "      padding: 0 0 0 0;\n",
              "      width: 32px;\n",
              "    }\n",
              "\n",
              "    .colab-df-convert:hover {\n",
              "      background-color: #E2EBFA;\n",
              "      box-shadow: 0px 1px 2px rgba(60, 64, 67, 0.3), 0px 1px 3px 1px rgba(60, 64, 67, 0.15);\n",
              "      fill: #174EA6;\n",
              "    }\n",
              "\n",
              "    [theme=dark] .colab-df-convert {\n",
              "      background-color: #3B4455;\n",
              "      fill: #D2E3FC;\n",
              "    }\n",
              "\n",
              "    [theme=dark] .colab-df-convert:hover {\n",
              "      background-color: #434B5C;\n",
              "      box-shadow: 0px 1px 3px 1px rgba(0, 0, 0, 0.15);\n",
              "      filter: drop-shadow(0px 1px 2px rgba(0, 0, 0, 0.3));\n",
              "      fill: #FFFFFF;\n",
              "    }\n",
              "  </style>\n",
              "\n",
              "      <script>\n",
              "        const buttonEl =\n",
              "          document.querySelector('#df-e79d1ede-87b7-4115-a764-9513739c0e67 button.colab-df-convert');\n",
              "        buttonEl.style.display =\n",
              "          google.colab.kernel.accessAllowed ? 'block' : 'none';\n",
              "\n",
              "        async function convertToInteractive(key) {\n",
              "          const element = document.querySelector('#df-e79d1ede-87b7-4115-a764-9513739c0e67');\n",
              "          const dataTable =\n",
              "            await google.colab.kernel.invokeFunction('convertToInteractive',\n",
              "                                                     [key], {});\n",
              "          if (!dataTable) return;\n",
              "\n",
              "          const docLinkHtml = 'Like what you see? Visit the ' +\n",
              "            '<a target=\"_blank\" href=https://colab.research.google.com/notebooks/data_table.ipynb>data table notebook</a>'\n",
              "            + ' to learn more about interactive tables.';\n",
              "          element.innerHTML = '';\n",
              "          dataTable['output_type'] = 'display_data';\n",
              "          await google.colab.output.renderOutput(dataTable, element);\n",
              "          const docLink = document.createElement('div');\n",
              "          docLink.innerHTML = docLinkHtml;\n",
              "          element.appendChild(docLink);\n",
              "        }\n",
              "      </script>\n",
              "    </div>\n",
              "  </div>\n",
              "  "
            ]
          },
          "metadata": {},
          "execution_count": 24
        }
      ]
    },
    {
      "cell_type": "markdown",
      "source": [
        "- Quantidade de ocorrencias com flagrante (FLAG_FLAGRANTE)"
      ],
      "metadata": {
        "id": "ZO4EooEX03I9"
      }
    },
    {
      "cell_type": "code",
      "source": [
        "ocorrenciasFlagrante = df.groupby(['FLAG_FLAGRANTE'])['QUANTIDADE_OCORRENCIA'].sum().reset_index()"
      ],
      "metadata": {
        "id": "imItnK9Qy4tT"
      },
      "execution_count": null,
      "outputs": []
    },
    {
      "cell_type": "code",
      "source": [
        "ocorrenciasFlagrante = ocorrenciasFlagrante.rename({'QUANTIDADE_OCORRENCIA': 'Quantidade_Ocorrencias_Flagrante'}, axis=1)"
      ],
      "metadata": {
        "id": "ARkSd-NDd8lO"
      },
      "execution_count": null,
      "outputs": []
    },
    {
      "cell_type": "code",
      "source": [
        "ocorrenciasFlagrante"
      ],
      "metadata": {
        "colab": {
          "base_uri": "https://localhost:8080/",
          "height": 111
        },
        "id": "dSqnZoNZy4zR",
        "outputId": "497077b0-fb1f-4e21-f016-0394a589f0e9"
      },
      "execution_count": null,
      "outputs": [
        {
          "output_type": "execute_result",
          "data": {
            "text/plain": [
              "  FLAG_FLAGRANTE  Quantidade_Ocorrencias_Flagrante\n",
              "0            NÃO                            399224\n",
              "1            SIM                             18828"
            ],
            "text/html": [
              "\n",
              "  <div id=\"df-b20fdb24-4b34-4e7c-865b-b653d4bf972f\">\n",
              "    <div class=\"colab-df-container\">\n",
              "      <div>\n",
              "<style scoped>\n",
              "    .dataframe tbody tr th:only-of-type {\n",
              "        vertical-align: middle;\n",
              "    }\n",
              "\n",
              "    .dataframe tbody tr th {\n",
              "        vertical-align: top;\n",
              "    }\n",
              "\n",
              "    .dataframe thead th {\n",
              "        text-align: right;\n",
              "    }\n",
              "</style>\n",
              "<table border=\"1\" class=\"dataframe\">\n",
              "  <thead>\n",
              "    <tr style=\"text-align: right;\">\n",
              "      <th></th>\n",
              "      <th>FLAG_FLAGRANTE</th>\n",
              "      <th>Quantidade_Ocorrencias_Flagrante</th>\n",
              "    </tr>\n",
              "  </thead>\n",
              "  <tbody>\n",
              "    <tr>\n",
              "      <th>0</th>\n",
              "      <td>NÃO</td>\n",
              "      <td>399224</td>\n",
              "    </tr>\n",
              "    <tr>\n",
              "      <th>1</th>\n",
              "      <td>SIM</td>\n",
              "      <td>18828</td>\n",
              "    </tr>\n",
              "  </tbody>\n",
              "</table>\n",
              "</div>\n",
              "      <button class=\"colab-df-convert\" onclick=\"convertToInteractive('df-b20fdb24-4b34-4e7c-865b-b653d4bf972f')\"\n",
              "              title=\"Convert this dataframe to an interactive table.\"\n",
              "              style=\"display:none;\">\n",
              "        \n",
              "  <svg xmlns=\"http://www.w3.org/2000/svg\" height=\"24px\"viewBox=\"0 0 24 24\"\n",
              "       width=\"24px\">\n",
              "    <path d=\"M0 0h24v24H0V0z\" fill=\"none\"/>\n",
              "    <path d=\"M18.56 5.44l.94 2.06.94-2.06 2.06-.94-2.06-.94-.94-2.06-.94 2.06-2.06.94zm-11 1L8.5 8.5l.94-2.06 2.06-.94-2.06-.94L8.5 2.5l-.94 2.06-2.06.94zm10 10l.94 2.06.94-2.06 2.06-.94-2.06-.94-.94-2.06-.94 2.06-2.06.94z\"/><path d=\"M17.41 7.96l-1.37-1.37c-.4-.4-.92-.59-1.43-.59-.52 0-1.04.2-1.43.59L10.3 9.45l-7.72 7.72c-.78.78-.78 2.05 0 2.83L4 21.41c.39.39.9.59 1.41.59.51 0 1.02-.2 1.41-.59l7.78-7.78 2.81-2.81c.8-.78.8-2.07 0-2.86zM5.41 20L4 18.59l7.72-7.72 1.47 1.35L5.41 20z\"/>\n",
              "  </svg>\n",
              "      </button>\n",
              "      \n",
              "  <style>\n",
              "    .colab-df-container {\n",
              "      display:flex;\n",
              "      flex-wrap:wrap;\n",
              "      gap: 12px;\n",
              "    }\n",
              "\n",
              "    .colab-df-convert {\n",
              "      background-color: #E8F0FE;\n",
              "      border: none;\n",
              "      border-radius: 50%;\n",
              "      cursor: pointer;\n",
              "      display: none;\n",
              "      fill: #1967D2;\n",
              "      height: 32px;\n",
              "      padding: 0 0 0 0;\n",
              "      width: 32px;\n",
              "    }\n",
              "\n",
              "    .colab-df-convert:hover {\n",
              "      background-color: #E2EBFA;\n",
              "      box-shadow: 0px 1px 2px rgba(60, 64, 67, 0.3), 0px 1px 3px 1px rgba(60, 64, 67, 0.15);\n",
              "      fill: #174EA6;\n",
              "    }\n",
              "\n",
              "    [theme=dark] .colab-df-convert {\n",
              "      background-color: #3B4455;\n",
              "      fill: #D2E3FC;\n",
              "    }\n",
              "\n",
              "    [theme=dark] .colab-df-convert:hover {\n",
              "      background-color: #434B5C;\n",
              "      box-shadow: 0px 1px 3px 1px rgba(0, 0, 0, 0.15);\n",
              "      filter: drop-shadow(0px 1px 2px rgba(0, 0, 0, 0.3));\n",
              "      fill: #FFFFFF;\n",
              "    }\n",
              "  </style>\n",
              "\n",
              "      <script>\n",
              "        const buttonEl =\n",
              "          document.querySelector('#df-b20fdb24-4b34-4e7c-865b-b653d4bf972f button.colab-df-convert');\n",
              "        buttonEl.style.display =\n",
              "          google.colab.kernel.accessAllowed ? 'block' : 'none';\n",
              "\n",
              "        async function convertToInteractive(key) {\n",
              "          const element = document.querySelector('#df-b20fdb24-4b34-4e7c-865b-b653d4bf972f');\n",
              "          const dataTable =\n",
              "            await google.colab.kernel.invokeFunction('convertToInteractive',\n",
              "                                                     [key], {});\n",
              "          if (!dataTable) return;\n",
              "\n",
              "          const docLinkHtml = 'Like what you see? Visit the ' +\n",
              "            '<a target=\"_blank\" href=https://colab.research.google.com/notebooks/data_table.ipynb>data table notebook</a>'\n",
              "            + ' to learn more about interactive tables.';\n",
              "          element.innerHTML = '';\n",
              "          dataTable['output_type'] = 'display_data';\n",
              "          await google.colab.output.renderOutput(dataTable, element);\n",
              "          const docLink = document.createElement('div');\n",
              "          docLink.innerHTML = docLinkHtml;\n",
              "          element.appendChild(docLink);\n",
              "        }\n",
              "      </script>\n",
              "    </div>\n",
              "  </div>\n",
              "  "
            ]
          },
          "metadata": {},
          "execution_count": 27
        }
      ]
    },
    {
      "cell_type": "markdown",
      "source": [
        "- Quantidade de ocorrencias por tipo (NATUREZA1_DESCRICAO)"
      ],
      "metadata": {
        "id": "zB1B0j9j1afL"
      }
    },
    {
      "cell_type": "code",
      "source": [
        "ocorrenciasPorTipo = df.groupby(['NATUREZA1_DESCRICAO'])['QUANTIDADE_OCORRENCIA'].sum().reset_index()"
      ],
      "metadata": {
        "id": "QJX6G0O3y45B"
      },
      "execution_count": null,
      "outputs": []
    },
    {
      "cell_type": "code",
      "source": [
        "ocorrenciasPorTipo = ocorrenciasPorTipo.rename({'QUANTIDADE_OCORRENCIA': 'Quantidade_Ocorrencias_Por_Tipo'}, axis=1)"
      ],
      "metadata": {
        "id": "K8vNCEA5eG4I"
      },
      "execution_count": null,
      "outputs": []
    },
    {
      "cell_type": "code",
      "source": [
        "ocorrenciasPorTipo"
      ],
      "metadata": {
        "colab": {
          "base_uri": "https://localhost:8080/",
          "height": 419
        },
        "id": "Tz9G52wi4s_u",
        "outputId": "58bd623a-553a-40ff-eb77-883833825656"
      },
      "execution_count": null,
      "outputs": [
        {
          "output_type": "execute_result",
          "data": {
            "text/plain": [
              "      NATUREZA1_DESCRICAO  Quantidade_Ocorrencias_Por_Tipo\n",
              "0                    AIFU                              662\n",
              "1           Abalo Sísmico                                2\n",
              "2      Abandono de função                                4\n",
              "3     Abandono de incapaz                              157\n",
              "4      Abuso de incapazes                               51\n",
              "..                    ...                              ...\n",
              "182              Vistoria                             3741\n",
              "183      ZELADORIA URBANA                             1377\n",
              "184                 Óbito                              156\n",
              "185  Óbito (Defesa Civil)                                1\n",
              "186      Órgãos acionados                               76\n",
              "\n",
              "[187 rows x 2 columns]"
            ],
            "text/html": [
              "\n",
              "  <div id=\"df-a951365e-72cc-445d-a4c3-bf178bdb524f\">\n",
              "    <div class=\"colab-df-container\">\n",
              "      <div>\n",
              "<style scoped>\n",
              "    .dataframe tbody tr th:only-of-type {\n",
              "        vertical-align: middle;\n",
              "    }\n",
              "\n",
              "    .dataframe tbody tr th {\n",
              "        vertical-align: top;\n",
              "    }\n",
              "\n",
              "    .dataframe thead th {\n",
              "        text-align: right;\n",
              "    }\n",
              "</style>\n",
              "<table border=\"1\" class=\"dataframe\">\n",
              "  <thead>\n",
              "    <tr style=\"text-align: right;\">\n",
              "      <th></th>\n",
              "      <th>NATUREZA1_DESCRICAO</th>\n",
              "      <th>Quantidade_Ocorrencias_Por_Tipo</th>\n",
              "    </tr>\n",
              "  </thead>\n",
              "  <tbody>\n",
              "    <tr>\n",
              "      <th>0</th>\n",
              "      <td>AIFU</td>\n",
              "      <td>662</td>\n",
              "    </tr>\n",
              "    <tr>\n",
              "      <th>1</th>\n",
              "      <td>Abalo Sísmico</td>\n",
              "      <td>2</td>\n",
              "    </tr>\n",
              "    <tr>\n",
              "      <th>2</th>\n",
              "      <td>Abandono de função</td>\n",
              "      <td>4</td>\n",
              "    </tr>\n",
              "    <tr>\n",
              "      <th>3</th>\n",
              "      <td>Abandono de incapaz</td>\n",
              "      <td>157</td>\n",
              "    </tr>\n",
              "    <tr>\n",
              "      <th>4</th>\n",
              "      <td>Abuso de incapazes</td>\n",
              "      <td>51</td>\n",
              "    </tr>\n",
              "    <tr>\n",
              "      <th>...</th>\n",
              "      <td>...</td>\n",
              "      <td>...</td>\n",
              "    </tr>\n",
              "    <tr>\n",
              "      <th>182</th>\n",
              "      <td>Vistoria</td>\n",
              "      <td>3741</td>\n",
              "    </tr>\n",
              "    <tr>\n",
              "      <th>183</th>\n",
              "      <td>ZELADORIA URBANA</td>\n",
              "      <td>1377</td>\n",
              "    </tr>\n",
              "    <tr>\n",
              "      <th>184</th>\n",
              "      <td>Óbito</td>\n",
              "      <td>156</td>\n",
              "    </tr>\n",
              "    <tr>\n",
              "      <th>185</th>\n",
              "      <td>Óbito (Defesa Civil)</td>\n",
              "      <td>1</td>\n",
              "    </tr>\n",
              "    <tr>\n",
              "      <th>186</th>\n",
              "      <td>Órgãos acionados</td>\n",
              "      <td>76</td>\n",
              "    </tr>\n",
              "  </tbody>\n",
              "</table>\n",
              "<p>187 rows × 2 columns</p>\n",
              "</div>\n",
              "      <button class=\"colab-df-convert\" onclick=\"convertToInteractive('df-a951365e-72cc-445d-a4c3-bf178bdb524f')\"\n",
              "              title=\"Convert this dataframe to an interactive table.\"\n",
              "              style=\"display:none;\">\n",
              "        \n",
              "  <svg xmlns=\"http://www.w3.org/2000/svg\" height=\"24px\"viewBox=\"0 0 24 24\"\n",
              "       width=\"24px\">\n",
              "    <path d=\"M0 0h24v24H0V0z\" fill=\"none\"/>\n",
              "    <path d=\"M18.56 5.44l.94 2.06.94-2.06 2.06-.94-2.06-.94-.94-2.06-.94 2.06-2.06.94zm-11 1L8.5 8.5l.94-2.06 2.06-.94-2.06-.94L8.5 2.5l-.94 2.06-2.06.94zm10 10l.94 2.06.94-2.06 2.06-.94-2.06-.94-.94-2.06-.94 2.06-2.06.94z\"/><path d=\"M17.41 7.96l-1.37-1.37c-.4-.4-.92-.59-1.43-.59-.52 0-1.04.2-1.43.59L10.3 9.45l-7.72 7.72c-.78.78-.78 2.05 0 2.83L4 21.41c.39.39.9.59 1.41.59.51 0 1.02-.2 1.41-.59l7.78-7.78 2.81-2.81c.8-.78.8-2.07 0-2.86zM5.41 20L4 18.59l7.72-7.72 1.47 1.35L5.41 20z\"/>\n",
              "  </svg>\n",
              "      </button>\n",
              "      \n",
              "  <style>\n",
              "    .colab-df-container {\n",
              "      display:flex;\n",
              "      flex-wrap:wrap;\n",
              "      gap: 12px;\n",
              "    }\n",
              "\n",
              "    .colab-df-convert {\n",
              "      background-color: #E8F0FE;\n",
              "      border: none;\n",
              "      border-radius: 50%;\n",
              "      cursor: pointer;\n",
              "      display: none;\n",
              "      fill: #1967D2;\n",
              "      height: 32px;\n",
              "      padding: 0 0 0 0;\n",
              "      width: 32px;\n",
              "    }\n",
              "\n",
              "    .colab-df-convert:hover {\n",
              "      background-color: #E2EBFA;\n",
              "      box-shadow: 0px 1px 2px rgba(60, 64, 67, 0.3), 0px 1px 3px 1px rgba(60, 64, 67, 0.15);\n",
              "      fill: #174EA6;\n",
              "    }\n",
              "\n",
              "    [theme=dark] .colab-df-convert {\n",
              "      background-color: #3B4455;\n",
              "      fill: #D2E3FC;\n",
              "    }\n",
              "\n",
              "    [theme=dark] .colab-df-convert:hover {\n",
              "      background-color: #434B5C;\n",
              "      box-shadow: 0px 1px 3px 1px rgba(0, 0, 0, 0.15);\n",
              "      filter: drop-shadow(0px 1px 2px rgba(0, 0, 0, 0.3));\n",
              "      fill: #FFFFFF;\n",
              "    }\n",
              "  </style>\n",
              "\n",
              "      <script>\n",
              "        const buttonEl =\n",
              "          document.querySelector('#df-a951365e-72cc-445d-a4c3-bf178bdb524f button.colab-df-convert');\n",
              "        buttonEl.style.display =\n",
              "          google.colab.kernel.accessAllowed ? 'block' : 'none';\n",
              "\n",
              "        async function convertToInteractive(key) {\n",
              "          const element = document.querySelector('#df-a951365e-72cc-445d-a4c3-bf178bdb524f');\n",
              "          const dataTable =\n",
              "            await google.colab.kernel.invokeFunction('convertToInteractive',\n",
              "                                                     [key], {});\n",
              "          if (!dataTable) return;\n",
              "\n",
              "          const docLinkHtml = 'Like what you see? Visit the ' +\n",
              "            '<a target=\"_blank\" href=https://colab.research.google.com/notebooks/data_table.ipynb>data table notebook</a>'\n",
              "            + ' to learn more about interactive tables.';\n",
              "          element.innerHTML = '';\n",
              "          dataTable['output_type'] = 'display_data';\n",
              "          await google.colab.output.renderOutput(dataTable, element);\n",
              "          const docLink = document.createElement('div');\n",
              "          docLink.innerHTML = docLinkHtml;\n",
              "          element.appendChild(docLink);\n",
              "        }\n",
              "      </script>\n",
              "    </div>\n",
              "  </div>\n",
              "  "
            ]
          },
          "metadata": {},
          "execution_count": 30
        }
      ]
    },
    {
      "cell_type": "code",
      "source": [
        "ocorrenciasPorTipo.describe()"
      ],
      "metadata": {
        "colab": {
          "base_uri": "https://localhost:8080/",
          "height": 297
        },
        "id": "3JBvRJF6vtsd",
        "outputId": "5b93e70f-7d5d-4b3d-f7da-4599d216d5ca"
      },
      "execution_count": null,
      "outputs": [
        {
          "output_type": "execute_result",
          "data": {
            "text/plain": [
              "       Quantidade_Ocorrencias_Por_Tipo\n",
              "count                       187.000000\n",
              "mean                       2235.572193\n",
              "std                        7640.708392\n",
              "min                           1.000000\n",
              "25%                          11.000000\n",
              "50%                          69.000000\n",
              "75%                         553.500000\n",
              "max                       67774.000000"
            ],
            "text/html": [
              "\n",
              "  <div id=\"df-b488dfdf-2596-4772-949a-99a02d07825d\">\n",
              "    <div class=\"colab-df-container\">\n",
              "      <div>\n",
              "<style scoped>\n",
              "    .dataframe tbody tr th:only-of-type {\n",
              "        vertical-align: middle;\n",
              "    }\n",
              "\n",
              "    .dataframe tbody tr th {\n",
              "        vertical-align: top;\n",
              "    }\n",
              "\n",
              "    .dataframe thead th {\n",
              "        text-align: right;\n",
              "    }\n",
              "</style>\n",
              "<table border=\"1\" class=\"dataframe\">\n",
              "  <thead>\n",
              "    <tr style=\"text-align: right;\">\n",
              "      <th></th>\n",
              "      <th>Quantidade_Ocorrencias_Por_Tipo</th>\n",
              "    </tr>\n",
              "  </thead>\n",
              "  <tbody>\n",
              "    <tr>\n",
              "      <th>count</th>\n",
              "      <td>187.000000</td>\n",
              "    </tr>\n",
              "    <tr>\n",
              "      <th>mean</th>\n",
              "      <td>2235.572193</td>\n",
              "    </tr>\n",
              "    <tr>\n",
              "      <th>std</th>\n",
              "      <td>7640.708392</td>\n",
              "    </tr>\n",
              "    <tr>\n",
              "      <th>min</th>\n",
              "      <td>1.000000</td>\n",
              "    </tr>\n",
              "    <tr>\n",
              "      <th>25%</th>\n",
              "      <td>11.000000</td>\n",
              "    </tr>\n",
              "    <tr>\n",
              "      <th>50%</th>\n",
              "      <td>69.000000</td>\n",
              "    </tr>\n",
              "    <tr>\n",
              "      <th>75%</th>\n",
              "      <td>553.500000</td>\n",
              "    </tr>\n",
              "    <tr>\n",
              "      <th>max</th>\n",
              "      <td>67774.000000</td>\n",
              "    </tr>\n",
              "  </tbody>\n",
              "</table>\n",
              "</div>\n",
              "      <button class=\"colab-df-convert\" onclick=\"convertToInteractive('df-b488dfdf-2596-4772-949a-99a02d07825d')\"\n",
              "              title=\"Convert this dataframe to an interactive table.\"\n",
              "              style=\"display:none;\">\n",
              "        \n",
              "  <svg xmlns=\"http://www.w3.org/2000/svg\" height=\"24px\"viewBox=\"0 0 24 24\"\n",
              "       width=\"24px\">\n",
              "    <path d=\"M0 0h24v24H0V0z\" fill=\"none\"/>\n",
              "    <path d=\"M18.56 5.44l.94 2.06.94-2.06 2.06-.94-2.06-.94-.94-2.06-.94 2.06-2.06.94zm-11 1L8.5 8.5l.94-2.06 2.06-.94-2.06-.94L8.5 2.5l-.94 2.06-2.06.94zm10 10l.94 2.06.94-2.06 2.06-.94-2.06-.94-.94-2.06-.94 2.06-2.06.94z\"/><path d=\"M17.41 7.96l-1.37-1.37c-.4-.4-.92-.59-1.43-.59-.52 0-1.04.2-1.43.59L10.3 9.45l-7.72 7.72c-.78.78-.78 2.05 0 2.83L4 21.41c.39.39.9.59 1.41.59.51 0 1.02-.2 1.41-.59l7.78-7.78 2.81-2.81c.8-.78.8-2.07 0-2.86zM5.41 20L4 18.59l7.72-7.72 1.47 1.35L5.41 20z\"/>\n",
              "  </svg>\n",
              "      </button>\n",
              "      \n",
              "  <style>\n",
              "    .colab-df-container {\n",
              "      display:flex;\n",
              "      flex-wrap:wrap;\n",
              "      gap: 12px;\n",
              "    }\n",
              "\n",
              "    .colab-df-convert {\n",
              "      background-color: #E8F0FE;\n",
              "      border: none;\n",
              "      border-radius: 50%;\n",
              "      cursor: pointer;\n",
              "      display: none;\n",
              "      fill: #1967D2;\n",
              "      height: 32px;\n",
              "      padding: 0 0 0 0;\n",
              "      width: 32px;\n",
              "    }\n",
              "\n",
              "    .colab-df-convert:hover {\n",
              "      background-color: #E2EBFA;\n",
              "      box-shadow: 0px 1px 2px rgba(60, 64, 67, 0.3), 0px 1px 3px 1px rgba(60, 64, 67, 0.15);\n",
              "      fill: #174EA6;\n",
              "    }\n",
              "\n",
              "    [theme=dark] .colab-df-convert {\n",
              "      background-color: #3B4455;\n",
              "      fill: #D2E3FC;\n",
              "    }\n",
              "\n",
              "    [theme=dark] .colab-df-convert:hover {\n",
              "      background-color: #434B5C;\n",
              "      box-shadow: 0px 1px 3px 1px rgba(0, 0, 0, 0.15);\n",
              "      filter: drop-shadow(0px 1px 2px rgba(0, 0, 0, 0.3));\n",
              "      fill: #FFFFFF;\n",
              "    }\n",
              "  </style>\n",
              "\n",
              "      <script>\n",
              "        const buttonEl =\n",
              "          document.querySelector('#df-b488dfdf-2596-4772-949a-99a02d07825d button.colab-df-convert');\n",
              "        buttonEl.style.display =\n",
              "          google.colab.kernel.accessAllowed ? 'block' : 'none';\n",
              "\n",
              "        async function convertToInteractive(key) {\n",
              "          const element = document.querySelector('#df-b488dfdf-2596-4772-949a-99a02d07825d');\n",
              "          const dataTable =\n",
              "            await google.colab.kernel.invokeFunction('convertToInteractive',\n",
              "                                                     [key], {});\n",
              "          if (!dataTable) return;\n",
              "\n",
              "          const docLinkHtml = 'Like what you see? Visit the ' +\n",
              "            '<a target=\"_blank\" href=https://colab.research.google.com/notebooks/data_table.ipynb>data table notebook</a>'\n",
              "            + ' to learn more about interactive tables.';\n",
              "          element.innerHTML = '';\n",
              "          dataTable['output_type'] = 'display_data';\n",
              "          await google.colab.output.renderOutput(dataTable, element);\n",
              "          const docLink = document.createElement('div');\n",
              "          docLink.innerHTML = docLinkHtml;\n",
              "          element.appendChild(docLink);\n",
              "        }\n",
              "      </script>\n",
              "    </div>\n",
              "  </div>\n",
              "  "
            ]
          },
          "metadata": {},
          "execution_count": 31
        }
      ]
    },
    {
      "cell_type": "markdown",
      "source": [
        "- Quantidade de ocorrencias por dia (OCORRENCIA_DATA)"
      ],
      "metadata": {
        "id": "RpPsNvl04pT1"
      }
    },
    {
      "cell_type": "code",
      "source": [
        "ocorrenciasPorDia = df.groupby(['OCORRENCIA_DATA'])['QUANTIDADE_OCORRENCIA'].sum().reset_index()"
      ],
      "metadata": {
        "id": "j2mEWxcB2Kd-"
      },
      "execution_count": null,
      "outputs": []
    },
    {
      "cell_type": "code",
      "source": [
        "ocorrenciasPorDia = ocorrenciasPorDia.rename({'QUANTIDADE_OCORRENCIA': 'Quantidade_Ocorrencias_Por_Dia'}, axis=1)"
      ],
      "metadata": {
        "id": "2w0t22HgevvA"
      },
      "execution_count": null,
      "outputs": []
    },
    {
      "cell_type": "code",
      "source": [
        "ocorrenciasPorDia"
      ],
      "metadata": {
        "colab": {
          "base_uri": "https://localhost:8080/",
          "height": 419
        },
        "id": "-DPOfpUt48wn",
        "outputId": "023667ea-7175-4daf-ce6f-9ae7de32e5d0"
      },
      "execution_count": null,
      "outputs": [
        {
          "output_type": "execute_result",
          "data": {
            "text/plain": [
              "     OCORRENCIA_DATA  Quantidade_Ocorrencias_Por_Dia\n",
              "0         2009-01-01                              30\n",
              "1         2009-01-02                              81\n",
              "2         2009-01-03                              96\n",
              "3         2009-01-04                              93\n",
              "4         2009-01-05                              59\n",
              "...              ...                             ...\n",
              "5009      2022-09-19                             122\n",
              "5010      2022-09-20                             161\n",
              "5011      2022-09-21                             138\n",
              "5012      2022-09-22                             159\n",
              "5013      2022-09-23                              90\n",
              "\n",
              "[5014 rows x 2 columns]"
            ],
            "text/html": [
              "\n",
              "  <div id=\"df-f69228d7-9c64-4dd7-af2a-59519ff1faa1\">\n",
              "    <div class=\"colab-df-container\">\n",
              "      <div>\n",
              "<style scoped>\n",
              "    .dataframe tbody tr th:only-of-type {\n",
              "        vertical-align: middle;\n",
              "    }\n",
              "\n",
              "    .dataframe tbody tr th {\n",
              "        vertical-align: top;\n",
              "    }\n",
              "\n",
              "    .dataframe thead th {\n",
              "        text-align: right;\n",
              "    }\n",
              "</style>\n",
              "<table border=\"1\" class=\"dataframe\">\n",
              "  <thead>\n",
              "    <tr style=\"text-align: right;\">\n",
              "      <th></th>\n",
              "      <th>OCORRENCIA_DATA</th>\n",
              "      <th>Quantidade_Ocorrencias_Por_Dia</th>\n",
              "    </tr>\n",
              "  </thead>\n",
              "  <tbody>\n",
              "    <tr>\n",
              "      <th>0</th>\n",
              "      <td>2009-01-01</td>\n",
              "      <td>30</td>\n",
              "    </tr>\n",
              "    <tr>\n",
              "      <th>1</th>\n",
              "      <td>2009-01-02</td>\n",
              "      <td>81</td>\n",
              "    </tr>\n",
              "    <tr>\n",
              "      <th>2</th>\n",
              "      <td>2009-01-03</td>\n",
              "      <td>96</td>\n",
              "    </tr>\n",
              "    <tr>\n",
              "      <th>3</th>\n",
              "      <td>2009-01-04</td>\n",
              "      <td>93</td>\n",
              "    </tr>\n",
              "    <tr>\n",
              "      <th>4</th>\n",
              "      <td>2009-01-05</td>\n",
              "      <td>59</td>\n",
              "    </tr>\n",
              "    <tr>\n",
              "      <th>...</th>\n",
              "      <td>...</td>\n",
              "      <td>...</td>\n",
              "    </tr>\n",
              "    <tr>\n",
              "      <th>5009</th>\n",
              "      <td>2022-09-19</td>\n",
              "      <td>122</td>\n",
              "    </tr>\n",
              "    <tr>\n",
              "      <th>5010</th>\n",
              "      <td>2022-09-20</td>\n",
              "      <td>161</td>\n",
              "    </tr>\n",
              "    <tr>\n",
              "      <th>5011</th>\n",
              "      <td>2022-09-21</td>\n",
              "      <td>138</td>\n",
              "    </tr>\n",
              "    <tr>\n",
              "      <th>5012</th>\n",
              "      <td>2022-09-22</td>\n",
              "      <td>159</td>\n",
              "    </tr>\n",
              "    <tr>\n",
              "      <th>5013</th>\n",
              "      <td>2022-09-23</td>\n",
              "      <td>90</td>\n",
              "    </tr>\n",
              "  </tbody>\n",
              "</table>\n",
              "<p>5014 rows × 2 columns</p>\n",
              "</div>\n",
              "      <button class=\"colab-df-convert\" onclick=\"convertToInteractive('df-f69228d7-9c64-4dd7-af2a-59519ff1faa1')\"\n",
              "              title=\"Convert this dataframe to an interactive table.\"\n",
              "              style=\"display:none;\">\n",
              "        \n",
              "  <svg xmlns=\"http://www.w3.org/2000/svg\" height=\"24px\"viewBox=\"0 0 24 24\"\n",
              "       width=\"24px\">\n",
              "    <path d=\"M0 0h24v24H0V0z\" fill=\"none\"/>\n",
              "    <path d=\"M18.56 5.44l.94 2.06.94-2.06 2.06-.94-2.06-.94-.94-2.06-.94 2.06-2.06.94zm-11 1L8.5 8.5l.94-2.06 2.06-.94-2.06-.94L8.5 2.5l-.94 2.06-2.06.94zm10 10l.94 2.06.94-2.06 2.06-.94-2.06-.94-.94-2.06-.94 2.06-2.06.94z\"/><path d=\"M17.41 7.96l-1.37-1.37c-.4-.4-.92-.59-1.43-.59-.52 0-1.04.2-1.43.59L10.3 9.45l-7.72 7.72c-.78.78-.78 2.05 0 2.83L4 21.41c.39.39.9.59 1.41.59.51 0 1.02-.2 1.41-.59l7.78-7.78 2.81-2.81c.8-.78.8-2.07 0-2.86zM5.41 20L4 18.59l7.72-7.72 1.47 1.35L5.41 20z\"/>\n",
              "  </svg>\n",
              "      </button>\n",
              "      \n",
              "  <style>\n",
              "    .colab-df-container {\n",
              "      display:flex;\n",
              "      flex-wrap:wrap;\n",
              "      gap: 12px;\n",
              "    }\n",
              "\n",
              "    .colab-df-convert {\n",
              "      background-color: #E8F0FE;\n",
              "      border: none;\n",
              "      border-radius: 50%;\n",
              "      cursor: pointer;\n",
              "      display: none;\n",
              "      fill: #1967D2;\n",
              "      height: 32px;\n",
              "      padding: 0 0 0 0;\n",
              "      width: 32px;\n",
              "    }\n",
              "\n",
              "    .colab-df-convert:hover {\n",
              "      background-color: #E2EBFA;\n",
              "      box-shadow: 0px 1px 2px rgba(60, 64, 67, 0.3), 0px 1px 3px 1px rgba(60, 64, 67, 0.15);\n",
              "      fill: #174EA6;\n",
              "    }\n",
              "\n",
              "    [theme=dark] .colab-df-convert {\n",
              "      background-color: #3B4455;\n",
              "      fill: #D2E3FC;\n",
              "    }\n",
              "\n",
              "    [theme=dark] .colab-df-convert:hover {\n",
              "      background-color: #434B5C;\n",
              "      box-shadow: 0px 1px 3px 1px rgba(0, 0, 0, 0.15);\n",
              "      filter: drop-shadow(0px 1px 2px rgba(0, 0, 0, 0.3));\n",
              "      fill: #FFFFFF;\n",
              "    }\n",
              "  </style>\n",
              "\n",
              "      <script>\n",
              "        const buttonEl =\n",
              "          document.querySelector('#df-f69228d7-9c64-4dd7-af2a-59519ff1faa1 button.colab-df-convert');\n",
              "        buttonEl.style.display =\n",
              "          google.colab.kernel.accessAllowed ? 'block' : 'none';\n",
              "\n",
              "        async function convertToInteractive(key) {\n",
              "          const element = document.querySelector('#df-f69228d7-9c64-4dd7-af2a-59519ff1faa1');\n",
              "          const dataTable =\n",
              "            await google.colab.kernel.invokeFunction('convertToInteractive',\n",
              "                                                     [key], {});\n",
              "          if (!dataTable) return;\n",
              "\n",
              "          const docLinkHtml = 'Like what you see? Visit the ' +\n",
              "            '<a target=\"_blank\" href=https://colab.research.google.com/notebooks/data_table.ipynb>data table notebook</a>'\n",
              "            + ' to learn more about interactive tables.';\n",
              "          element.innerHTML = '';\n",
              "          dataTable['output_type'] = 'display_data';\n",
              "          await google.colab.output.renderOutput(dataTable, element);\n",
              "          const docLink = document.createElement('div');\n",
              "          docLink.innerHTML = docLinkHtml;\n",
              "          element.appendChild(docLink);\n",
              "        }\n",
              "      </script>\n",
              "    </div>\n",
              "  </div>\n",
              "  "
            ]
          },
          "metadata": {},
          "execution_count": 34
        }
      ]
    },
    {
      "cell_type": "code",
      "source": [
        "ocorrenciasPorDia.describe()"
      ],
      "metadata": {
        "colab": {
          "base_uri": "https://localhost:8080/",
          "height": 297
        },
        "id": "6ZrjQpL8wpQf",
        "outputId": "5c4adeea-dd9b-465e-fff5-2c53e80622f3"
      },
      "execution_count": null,
      "outputs": [
        {
          "output_type": "execute_result",
          "data": {
            "text/plain": [
              "       Quantidade_Ocorrencias_Por_Dia\n",
              "count                     5014.000000\n",
              "mean                        83.376945\n",
              "std                         44.581395\n",
              "min                          2.000000\n",
              "25%                         56.000000\n",
              "50%                         69.000000\n",
              "75%                         95.000000\n",
              "max                        606.000000"
            ],
            "text/html": [
              "\n",
              "  <div id=\"df-30b09167-2729-43d0-9f20-36796ab24649\">\n",
              "    <div class=\"colab-df-container\">\n",
              "      <div>\n",
              "<style scoped>\n",
              "    .dataframe tbody tr th:only-of-type {\n",
              "        vertical-align: middle;\n",
              "    }\n",
              "\n",
              "    .dataframe tbody tr th {\n",
              "        vertical-align: top;\n",
              "    }\n",
              "\n",
              "    .dataframe thead th {\n",
              "        text-align: right;\n",
              "    }\n",
              "</style>\n",
              "<table border=\"1\" class=\"dataframe\">\n",
              "  <thead>\n",
              "    <tr style=\"text-align: right;\">\n",
              "      <th></th>\n",
              "      <th>Quantidade_Ocorrencias_Por_Dia</th>\n",
              "    </tr>\n",
              "  </thead>\n",
              "  <tbody>\n",
              "    <tr>\n",
              "      <th>count</th>\n",
              "      <td>5014.000000</td>\n",
              "    </tr>\n",
              "    <tr>\n",
              "      <th>mean</th>\n",
              "      <td>83.376945</td>\n",
              "    </tr>\n",
              "    <tr>\n",
              "      <th>std</th>\n",
              "      <td>44.581395</td>\n",
              "    </tr>\n",
              "    <tr>\n",
              "      <th>min</th>\n",
              "      <td>2.000000</td>\n",
              "    </tr>\n",
              "    <tr>\n",
              "      <th>25%</th>\n",
              "      <td>56.000000</td>\n",
              "    </tr>\n",
              "    <tr>\n",
              "      <th>50%</th>\n",
              "      <td>69.000000</td>\n",
              "    </tr>\n",
              "    <tr>\n",
              "      <th>75%</th>\n",
              "      <td>95.000000</td>\n",
              "    </tr>\n",
              "    <tr>\n",
              "      <th>max</th>\n",
              "      <td>606.000000</td>\n",
              "    </tr>\n",
              "  </tbody>\n",
              "</table>\n",
              "</div>\n",
              "      <button class=\"colab-df-convert\" onclick=\"convertToInteractive('df-30b09167-2729-43d0-9f20-36796ab24649')\"\n",
              "              title=\"Convert this dataframe to an interactive table.\"\n",
              "              style=\"display:none;\">\n",
              "        \n",
              "  <svg xmlns=\"http://www.w3.org/2000/svg\" height=\"24px\"viewBox=\"0 0 24 24\"\n",
              "       width=\"24px\">\n",
              "    <path d=\"M0 0h24v24H0V0z\" fill=\"none\"/>\n",
              "    <path d=\"M18.56 5.44l.94 2.06.94-2.06 2.06-.94-2.06-.94-.94-2.06-.94 2.06-2.06.94zm-11 1L8.5 8.5l.94-2.06 2.06-.94-2.06-.94L8.5 2.5l-.94 2.06-2.06.94zm10 10l.94 2.06.94-2.06 2.06-.94-2.06-.94-.94-2.06-.94 2.06-2.06.94z\"/><path d=\"M17.41 7.96l-1.37-1.37c-.4-.4-.92-.59-1.43-.59-.52 0-1.04.2-1.43.59L10.3 9.45l-7.72 7.72c-.78.78-.78 2.05 0 2.83L4 21.41c.39.39.9.59 1.41.59.51 0 1.02-.2 1.41-.59l7.78-7.78 2.81-2.81c.8-.78.8-2.07 0-2.86zM5.41 20L4 18.59l7.72-7.72 1.47 1.35L5.41 20z\"/>\n",
              "  </svg>\n",
              "      </button>\n",
              "      \n",
              "  <style>\n",
              "    .colab-df-container {\n",
              "      display:flex;\n",
              "      flex-wrap:wrap;\n",
              "      gap: 12px;\n",
              "    }\n",
              "\n",
              "    .colab-df-convert {\n",
              "      background-color: #E8F0FE;\n",
              "      border: none;\n",
              "      border-radius: 50%;\n",
              "      cursor: pointer;\n",
              "      display: none;\n",
              "      fill: #1967D2;\n",
              "      height: 32px;\n",
              "      padding: 0 0 0 0;\n",
              "      width: 32px;\n",
              "    }\n",
              "\n",
              "    .colab-df-convert:hover {\n",
              "      background-color: #E2EBFA;\n",
              "      box-shadow: 0px 1px 2px rgba(60, 64, 67, 0.3), 0px 1px 3px 1px rgba(60, 64, 67, 0.15);\n",
              "      fill: #174EA6;\n",
              "    }\n",
              "\n",
              "    [theme=dark] .colab-df-convert {\n",
              "      background-color: #3B4455;\n",
              "      fill: #D2E3FC;\n",
              "    }\n",
              "\n",
              "    [theme=dark] .colab-df-convert:hover {\n",
              "      background-color: #434B5C;\n",
              "      box-shadow: 0px 1px 3px 1px rgba(0, 0, 0, 0.15);\n",
              "      filter: drop-shadow(0px 1px 2px rgba(0, 0, 0, 0.3));\n",
              "      fill: #FFFFFF;\n",
              "    }\n",
              "  </style>\n",
              "\n",
              "      <script>\n",
              "        const buttonEl =\n",
              "          document.querySelector('#df-30b09167-2729-43d0-9f20-36796ab24649 button.colab-df-convert');\n",
              "        buttonEl.style.display =\n",
              "          google.colab.kernel.accessAllowed ? 'block' : 'none';\n",
              "\n",
              "        async function convertToInteractive(key) {\n",
              "          const element = document.querySelector('#df-30b09167-2729-43d0-9f20-36796ab24649');\n",
              "          const dataTable =\n",
              "            await google.colab.kernel.invokeFunction('convertToInteractive',\n",
              "                                                     [key], {});\n",
              "          if (!dataTable) return;\n",
              "\n",
              "          const docLinkHtml = 'Like what you see? Visit the ' +\n",
              "            '<a target=\"_blank\" href=https://colab.research.google.com/notebooks/data_table.ipynb>data table notebook</a>'\n",
              "            + ' to learn more about interactive tables.';\n",
              "          element.innerHTML = '';\n",
              "          dataTable['output_type'] = 'display_data';\n",
              "          await google.colab.output.renderOutput(dataTable, element);\n",
              "          const docLink = document.createElement('div');\n",
              "          docLink.innerHTML = docLinkHtml;\n",
              "          element.appendChild(docLink);\n",
              "        }\n",
              "      </script>\n",
              "    </div>\n",
              "  </div>\n",
              "  "
            ]
          },
          "metadata": {},
          "execution_count": 35
        }
      ]
    },
    {
      "cell_type": "markdown",
      "source": [
        "- Quantidade de ocorrencias por dia da semana (OCORRENCIA_DIA_SEMANA)"
      ],
      "metadata": {
        "id": "5BLQmLVM4uS_"
      }
    },
    {
      "cell_type": "code",
      "source": [
        "ocorrenciasPorDiaDaSemana = df.groupby(['OCORRENCIA_DIA_SEMANA'])['QUANTIDADE_OCORRENCIA'].sum().reset_index()"
      ],
      "metadata": {
        "id": "MVekVf-q2KaW"
      },
      "execution_count": null,
      "outputs": []
    },
    {
      "cell_type": "code",
      "source": [
        "ocorrenciasPorDiaDaSemana = ocorrenciasPorDiaDaSemana.rename({'QUANTIDADE_OCORRENCIA': 'Quantidade_Ocorrencias_Por_Dia_Da_Semana'}, axis=1)"
      ],
      "metadata": {
        "id": "ZiqM-TenfEKd"
      },
      "execution_count": null,
      "outputs": []
    },
    {
      "cell_type": "code",
      "source": [
        "ocorrenciasPorDiaDaSemana"
      ],
      "metadata": {
        "colab": {
          "base_uri": "https://localhost:8080/",
          "height": 266
        },
        "id": "su2qqK-o5IBW",
        "outputId": "dbed1793-7099-4e29-8de8-c4f058ccb823"
      },
      "execution_count": null,
      "outputs": [
        {
          "output_type": "execute_result",
          "data": {
            "text/plain": [
              "  OCORRENCIA_DIA_SEMANA  Quantidade_Ocorrencias_Por_Dia_Da_Semana\n",
              "0               DOMINGO                                     64434\n",
              "1                QUARTA                                     57052\n",
              "2                QUINTA                                     59400\n",
              "3               SEGUNDA                                     53347\n",
              "4                 SEXTA                                     61296\n",
              "5                SÁBADO                                     67534\n",
              "6                 TERÇA                                     54989"
            ],
            "text/html": [
              "\n",
              "  <div id=\"df-542fac9e-d772-4a79-afff-50d5798b3c2f\">\n",
              "    <div class=\"colab-df-container\">\n",
              "      <div>\n",
              "<style scoped>\n",
              "    .dataframe tbody tr th:only-of-type {\n",
              "        vertical-align: middle;\n",
              "    }\n",
              "\n",
              "    .dataframe tbody tr th {\n",
              "        vertical-align: top;\n",
              "    }\n",
              "\n",
              "    .dataframe thead th {\n",
              "        text-align: right;\n",
              "    }\n",
              "</style>\n",
              "<table border=\"1\" class=\"dataframe\">\n",
              "  <thead>\n",
              "    <tr style=\"text-align: right;\">\n",
              "      <th></th>\n",
              "      <th>OCORRENCIA_DIA_SEMANA</th>\n",
              "      <th>Quantidade_Ocorrencias_Por_Dia_Da_Semana</th>\n",
              "    </tr>\n",
              "  </thead>\n",
              "  <tbody>\n",
              "    <tr>\n",
              "      <th>0</th>\n",
              "      <td>DOMINGO</td>\n",
              "      <td>64434</td>\n",
              "    </tr>\n",
              "    <tr>\n",
              "      <th>1</th>\n",
              "      <td>QUARTA</td>\n",
              "      <td>57052</td>\n",
              "    </tr>\n",
              "    <tr>\n",
              "      <th>2</th>\n",
              "      <td>QUINTA</td>\n",
              "      <td>59400</td>\n",
              "    </tr>\n",
              "    <tr>\n",
              "      <th>3</th>\n",
              "      <td>SEGUNDA</td>\n",
              "      <td>53347</td>\n",
              "    </tr>\n",
              "    <tr>\n",
              "      <th>4</th>\n",
              "      <td>SEXTA</td>\n",
              "      <td>61296</td>\n",
              "    </tr>\n",
              "    <tr>\n",
              "      <th>5</th>\n",
              "      <td>SÁBADO</td>\n",
              "      <td>67534</td>\n",
              "    </tr>\n",
              "    <tr>\n",
              "      <th>6</th>\n",
              "      <td>TERÇA</td>\n",
              "      <td>54989</td>\n",
              "    </tr>\n",
              "  </tbody>\n",
              "</table>\n",
              "</div>\n",
              "      <button class=\"colab-df-convert\" onclick=\"convertToInteractive('df-542fac9e-d772-4a79-afff-50d5798b3c2f')\"\n",
              "              title=\"Convert this dataframe to an interactive table.\"\n",
              "              style=\"display:none;\">\n",
              "        \n",
              "  <svg xmlns=\"http://www.w3.org/2000/svg\" height=\"24px\"viewBox=\"0 0 24 24\"\n",
              "       width=\"24px\">\n",
              "    <path d=\"M0 0h24v24H0V0z\" fill=\"none\"/>\n",
              "    <path d=\"M18.56 5.44l.94 2.06.94-2.06 2.06-.94-2.06-.94-.94-2.06-.94 2.06-2.06.94zm-11 1L8.5 8.5l.94-2.06 2.06-.94-2.06-.94L8.5 2.5l-.94 2.06-2.06.94zm10 10l.94 2.06.94-2.06 2.06-.94-2.06-.94-.94-2.06-.94 2.06-2.06.94z\"/><path d=\"M17.41 7.96l-1.37-1.37c-.4-.4-.92-.59-1.43-.59-.52 0-1.04.2-1.43.59L10.3 9.45l-7.72 7.72c-.78.78-.78 2.05 0 2.83L4 21.41c.39.39.9.59 1.41.59.51 0 1.02-.2 1.41-.59l7.78-7.78 2.81-2.81c.8-.78.8-2.07 0-2.86zM5.41 20L4 18.59l7.72-7.72 1.47 1.35L5.41 20z\"/>\n",
              "  </svg>\n",
              "      </button>\n",
              "      \n",
              "  <style>\n",
              "    .colab-df-container {\n",
              "      display:flex;\n",
              "      flex-wrap:wrap;\n",
              "      gap: 12px;\n",
              "    }\n",
              "\n",
              "    .colab-df-convert {\n",
              "      background-color: #E8F0FE;\n",
              "      border: none;\n",
              "      border-radius: 50%;\n",
              "      cursor: pointer;\n",
              "      display: none;\n",
              "      fill: #1967D2;\n",
              "      height: 32px;\n",
              "      padding: 0 0 0 0;\n",
              "      width: 32px;\n",
              "    }\n",
              "\n",
              "    .colab-df-convert:hover {\n",
              "      background-color: #E2EBFA;\n",
              "      box-shadow: 0px 1px 2px rgba(60, 64, 67, 0.3), 0px 1px 3px 1px rgba(60, 64, 67, 0.15);\n",
              "      fill: #174EA6;\n",
              "    }\n",
              "\n",
              "    [theme=dark] .colab-df-convert {\n",
              "      background-color: #3B4455;\n",
              "      fill: #D2E3FC;\n",
              "    }\n",
              "\n",
              "    [theme=dark] .colab-df-convert:hover {\n",
              "      background-color: #434B5C;\n",
              "      box-shadow: 0px 1px 3px 1px rgba(0, 0, 0, 0.15);\n",
              "      filter: drop-shadow(0px 1px 2px rgba(0, 0, 0, 0.3));\n",
              "      fill: #FFFFFF;\n",
              "    }\n",
              "  </style>\n",
              "\n",
              "      <script>\n",
              "        const buttonEl =\n",
              "          document.querySelector('#df-542fac9e-d772-4a79-afff-50d5798b3c2f button.colab-df-convert');\n",
              "        buttonEl.style.display =\n",
              "          google.colab.kernel.accessAllowed ? 'block' : 'none';\n",
              "\n",
              "        async function convertToInteractive(key) {\n",
              "          const element = document.querySelector('#df-542fac9e-d772-4a79-afff-50d5798b3c2f');\n",
              "          const dataTable =\n",
              "            await google.colab.kernel.invokeFunction('convertToInteractive',\n",
              "                                                     [key], {});\n",
              "          if (!dataTable) return;\n",
              "\n",
              "          const docLinkHtml = 'Like what you see? Visit the ' +\n",
              "            '<a target=\"_blank\" href=https://colab.research.google.com/notebooks/data_table.ipynb>data table notebook</a>'\n",
              "            + ' to learn more about interactive tables.';\n",
              "          element.innerHTML = '';\n",
              "          dataTable['output_type'] = 'display_data';\n",
              "          await google.colab.output.renderOutput(dataTable, element);\n",
              "          const docLink = document.createElement('div');\n",
              "          docLink.innerHTML = docLinkHtml;\n",
              "          element.appendChild(docLink);\n",
              "        }\n",
              "      </script>\n",
              "    </div>\n",
              "  </div>\n",
              "  "
            ]
          },
          "metadata": {},
          "execution_count": 38
        }
      ]
    },
    {
      "cell_type": "markdown",
      "source": [
        "- Quantidade de ocorrencias por regional (REGIONAL_FATO_NOME)"
      ],
      "metadata": {
        "id": "D3aHCBA440Ny"
      }
    },
    {
      "cell_type": "code",
      "source": [
        "ocorrenciasPorRegional = df.groupby(['REGIONAL_FATO_NOME'])['QUANTIDADE_OCORRENCIA'].sum().reset_index()"
      ],
      "metadata": {
        "id": "sJ00qlBI2KWz"
      },
      "execution_count": null,
      "outputs": []
    },
    {
      "cell_type": "code",
      "source": [
        "ocorrenciasPorRegional = ocorrenciasPorRegional.rename({'QUANTIDADE_OCORRENCIA': 'Quantidade_Ocorrencias_Por_Regional'}, axis=1)"
      ],
      "metadata": {
        "id": "fgUmFWKlZh7g"
      },
      "execution_count": null,
      "outputs": []
    },
    {
      "cell_type": "code",
      "source": [
        "ocorrenciasPorRegional"
      ],
      "metadata": {
        "colab": {
          "base_uri": "https://localhost:8080/",
          "height": 483
        },
        "id": "QI4O1Wy-2KSp",
        "outputId": "168cbe0a-6527-4b9c-da47-7e0decfe4e47"
      },
      "execution_count": null,
      "outputs": [
        {
          "output_type": "execute_result",
          "data": {
            "text/plain": [
              "      REGIONAL_FATO_NOME  Quantidade_Ocorrencias_Por_Regional\n",
              "0            BAIRRO NOVO                                29759\n",
              "1              BOA VISTA                                42943\n",
              "2              BOQUEIRÃO                                38760\n",
              "3                 CAJURU                                36205\n",
              "4                    CIC                                31450\n",
              "5                 Cajuru                                    1\n",
              "6                 MATRIZ                               131676\n",
              "7            PINHEIRINHO                                29208\n",
              "8                 PORTÃO                                37994\n",
              "9            Pinheirinho                                    1\n",
              "10                Portão                                    1\n",
              "11  REGIÃO METROPOLITANA                                  429\n",
              "12      SANTA FELICIDADE                                29910\n",
              "13             TATUQUARA                                 9704"
            ],
            "text/html": [
              "\n",
              "  <div id=\"df-2e65cb2d-0edc-4fab-848f-e173aef404d0\">\n",
              "    <div class=\"colab-df-container\">\n",
              "      <div>\n",
              "<style scoped>\n",
              "    .dataframe tbody tr th:only-of-type {\n",
              "        vertical-align: middle;\n",
              "    }\n",
              "\n",
              "    .dataframe tbody tr th {\n",
              "        vertical-align: top;\n",
              "    }\n",
              "\n",
              "    .dataframe thead th {\n",
              "        text-align: right;\n",
              "    }\n",
              "</style>\n",
              "<table border=\"1\" class=\"dataframe\">\n",
              "  <thead>\n",
              "    <tr style=\"text-align: right;\">\n",
              "      <th></th>\n",
              "      <th>REGIONAL_FATO_NOME</th>\n",
              "      <th>Quantidade_Ocorrencias_Por_Regional</th>\n",
              "    </tr>\n",
              "  </thead>\n",
              "  <tbody>\n",
              "    <tr>\n",
              "      <th>0</th>\n",
              "      <td>BAIRRO NOVO</td>\n",
              "      <td>29759</td>\n",
              "    </tr>\n",
              "    <tr>\n",
              "      <th>1</th>\n",
              "      <td>BOA VISTA</td>\n",
              "      <td>42943</td>\n",
              "    </tr>\n",
              "    <tr>\n",
              "      <th>2</th>\n",
              "      <td>BOQUEIRÃO</td>\n",
              "      <td>38760</td>\n",
              "    </tr>\n",
              "    <tr>\n",
              "      <th>3</th>\n",
              "      <td>CAJURU</td>\n",
              "      <td>36205</td>\n",
              "    </tr>\n",
              "    <tr>\n",
              "      <th>4</th>\n",
              "      <td>CIC</td>\n",
              "      <td>31450</td>\n",
              "    </tr>\n",
              "    <tr>\n",
              "      <th>5</th>\n",
              "      <td>Cajuru</td>\n",
              "      <td>1</td>\n",
              "    </tr>\n",
              "    <tr>\n",
              "      <th>6</th>\n",
              "      <td>MATRIZ</td>\n",
              "      <td>131676</td>\n",
              "    </tr>\n",
              "    <tr>\n",
              "      <th>7</th>\n",
              "      <td>PINHEIRINHO</td>\n",
              "      <td>29208</td>\n",
              "    </tr>\n",
              "    <tr>\n",
              "      <th>8</th>\n",
              "      <td>PORTÃO</td>\n",
              "      <td>37994</td>\n",
              "    </tr>\n",
              "    <tr>\n",
              "      <th>9</th>\n",
              "      <td>Pinheirinho</td>\n",
              "      <td>1</td>\n",
              "    </tr>\n",
              "    <tr>\n",
              "      <th>10</th>\n",
              "      <td>Portão</td>\n",
              "      <td>1</td>\n",
              "    </tr>\n",
              "    <tr>\n",
              "      <th>11</th>\n",
              "      <td>REGIÃO METROPOLITANA</td>\n",
              "      <td>429</td>\n",
              "    </tr>\n",
              "    <tr>\n",
              "      <th>12</th>\n",
              "      <td>SANTA FELICIDADE</td>\n",
              "      <td>29910</td>\n",
              "    </tr>\n",
              "    <tr>\n",
              "      <th>13</th>\n",
              "      <td>TATUQUARA</td>\n",
              "      <td>9704</td>\n",
              "    </tr>\n",
              "  </tbody>\n",
              "</table>\n",
              "</div>\n",
              "      <button class=\"colab-df-convert\" onclick=\"convertToInteractive('df-2e65cb2d-0edc-4fab-848f-e173aef404d0')\"\n",
              "              title=\"Convert this dataframe to an interactive table.\"\n",
              "              style=\"display:none;\">\n",
              "        \n",
              "  <svg xmlns=\"http://www.w3.org/2000/svg\" height=\"24px\"viewBox=\"0 0 24 24\"\n",
              "       width=\"24px\">\n",
              "    <path d=\"M0 0h24v24H0V0z\" fill=\"none\"/>\n",
              "    <path d=\"M18.56 5.44l.94 2.06.94-2.06 2.06-.94-2.06-.94-.94-2.06-.94 2.06-2.06.94zm-11 1L8.5 8.5l.94-2.06 2.06-.94-2.06-.94L8.5 2.5l-.94 2.06-2.06.94zm10 10l.94 2.06.94-2.06 2.06-.94-2.06-.94-.94-2.06-.94 2.06-2.06.94z\"/><path d=\"M17.41 7.96l-1.37-1.37c-.4-.4-.92-.59-1.43-.59-.52 0-1.04.2-1.43.59L10.3 9.45l-7.72 7.72c-.78.78-.78 2.05 0 2.83L4 21.41c.39.39.9.59 1.41.59.51 0 1.02-.2 1.41-.59l7.78-7.78 2.81-2.81c.8-.78.8-2.07 0-2.86zM5.41 20L4 18.59l7.72-7.72 1.47 1.35L5.41 20z\"/>\n",
              "  </svg>\n",
              "      </button>\n",
              "      \n",
              "  <style>\n",
              "    .colab-df-container {\n",
              "      display:flex;\n",
              "      flex-wrap:wrap;\n",
              "      gap: 12px;\n",
              "    }\n",
              "\n",
              "    .colab-df-convert {\n",
              "      background-color: #E8F0FE;\n",
              "      border: none;\n",
              "      border-radius: 50%;\n",
              "      cursor: pointer;\n",
              "      display: none;\n",
              "      fill: #1967D2;\n",
              "      height: 32px;\n",
              "      padding: 0 0 0 0;\n",
              "      width: 32px;\n",
              "    }\n",
              "\n",
              "    .colab-df-convert:hover {\n",
              "      background-color: #E2EBFA;\n",
              "      box-shadow: 0px 1px 2px rgba(60, 64, 67, 0.3), 0px 1px 3px 1px rgba(60, 64, 67, 0.15);\n",
              "      fill: #174EA6;\n",
              "    }\n",
              "\n",
              "    [theme=dark] .colab-df-convert {\n",
              "      background-color: #3B4455;\n",
              "      fill: #D2E3FC;\n",
              "    }\n",
              "\n",
              "    [theme=dark] .colab-df-convert:hover {\n",
              "      background-color: #434B5C;\n",
              "      box-shadow: 0px 1px 3px 1px rgba(0, 0, 0, 0.15);\n",
              "      filter: drop-shadow(0px 1px 2px rgba(0, 0, 0, 0.3));\n",
              "      fill: #FFFFFF;\n",
              "    }\n",
              "  </style>\n",
              "\n",
              "      <script>\n",
              "        const buttonEl =\n",
              "          document.querySelector('#df-2e65cb2d-0edc-4fab-848f-e173aef404d0 button.colab-df-convert');\n",
              "        buttonEl.style.display =\n",
              "          google.colab.kernel.accessAllowed ? 'block' : 'none';\n",
              "\n",
              "        async function convertToInteractive(key) {\n",
              "          const element = document.querySelector('#df-2e65cb2d-0edc-4fab-848f-e173aef404d0');\n",
              "          const dataTable =\n",
              "            await google.colab.kernel.invokeFunction('convertToInteractive',\n",
              "                                                     [key], {});\n",
              "          if (!dataTable) return;\n",
              "\n",
              "          const docLinkHtml = 'Like what you see? Visit the ' +\n",
              "            '<a target=\"_blank\" href=https://colab.research.google.com/notebooks/data_table.ipynb>data table notebook</a>'\n",
              "            + ' to learn more about interactive tables.';\n",
              "          element.innerHTML = '';\n",
              "          dataTable['output_type'] = 'display_data';\n",
              "          await google.colab.output.renderOutput(dataTable, element);\n",
              "          const docLink = document.createElement('div');\n",
              "          docLink.innerHTML = docLinkHtml;\n",
              "          element.appendChild(docLink);\n",
              "        }\n",
              "      </script>\n",
              "    </div>\n",
              "  </div>\n",
              "  "
            ]
          },
          "metadata": {},
          "execution_count": 41
        }
      ]
    },
    {
      "cell_type": "markdown",
      "source": [
        "# **Análise descritiva de dados**"
      ],
      "metadata": {
        "id": "WNZK_ZEVa-C_"
      }
    },
    {
      "cell_type": "code",
      "source": [
        "tabelas = [ocorrenciasAtendidasPorAno, ocorrenciasRegistradasPorAno, ocorrenciasPorBairro, ocorrenciasFlagrante,\n",
        "           ocorrenciasPorTipo, ocorrenciasPorDia, ocorrenciasPorDiaDaSemana, ocorrenciasPorRegional]"
      ],
      "metadata": {
        "id": "ji4OSzhLk-Ix"
      },
      "execution_count": null,
      "outputs": []
    },
    {
      "cell_type": "markdown",
      "source": [
        "### - Medidas de posição"
      ],
      "metadata": {
        "id": "IRo0_LXST_Jx"
      }
    },
    {
      "cell_type": "code",
      "source": [
        "#Média\n",
        "\n",
        "def calculaMedia(tabela):\n",
        "\n",
        "    media = tabela.mean()\n",
        "\n",
        "    media = pd.DataFrame({'metricas':media.index, 'media':media.values})\n",
        "    \n",
        "    return media"
      ],
      "metadata": {
        "id": "cmi4k_H4W0Lz"
      },
      "execution_count": null,
      "outputs": []
    },
    {
      "cell_type": "code",
      "source": [
        "medias = []\n",
        "for i in tabelas: \n",
        "  medias.append(calculaMedia(i))\n",
        "  \n",
        "dfMedia = pd.concat(medias)\n",
        "dfMedia"
      ],
      "metadata": {
        "colab": {
          "base_uri": "https://localhost:8080/",
          "height": 413
        },
        "id": "-4SNFzSrlB3D",
        "outputId": "c3264d5c-a82e-412e-8a9b-6a1a7cd6a422"
      },
      "execution_count": null,
      "outputs": [
        {
          "output_type": "stream",
          "name": "stderr",
          "text": [
            "/usr/local/lib/python3.7/dist-packages/ipykernel_launcher.py:5: FutureWarning: Dropping of nuisance columns in DataFrame reductions (with 'numeric_only=None') is deprecated; in a future version this will raise TypeError.  Select only valid columns before calling the reduction.\n",
            "  \"\"\"\n"
          ]
        },
        {
          "output_type": "execute_result",
          "data": {
            "text/plain": [
              "                                        metricas          media\n",
              "0                                ATENDIMENTO_ANO    2015.500000\n",
              "1       Quantidade_Ocorrencias_Atendidas_Por_Ano   29859.357143\n",
              "0                                 OCORRENCIA_ANO    2015.500000\n",
              "1     Quantidade_Ocorrencias_Registradas_Por_Ano   29860.857143\n",
              "0  Quantidade_Ocorrencias_Registradas_Por_Bairro    2211.148148\n",
              "0               Quantidade_Ocorrencias_Flagrante  209026.000000\n",
              "0                Quantidade_Ocorrencias_Por_Tipo    2235.572193\n",
              "0                 Quantidade_Ocorrencias_Por_Dia      83.376945\n",
              "0       Quantidade_Ocorrencias_Por_Dia_Da_Semana   59721.714286\n",
              "0            Quantidade_Ocorrencias_Por_Regional   29860.071429"
            ],
            "text/html": [
              "\n",
              "  <div id=\"df-30e1ef9a-43a5-4f6f-aca8-d6c6e00fd578\">\n",
              "    <div class=\"colab-df-container\">\n",
              "      <div>\n",
              "<style scoped>\n",
              "    .dataframe tbody tr th:only-of-type {\n",
              "        vertical-align: middle;\n",
              "    }\n",
              "\n",
              "    .dataframe tbody tr th {\n",
              "        vertical-align: top;\n",
              "    }\n",
              "\n",
              "    .dataframe thead th {\n",
              "        text-align: right;\n",
              "    }\n",
              "</style>\n",
              "<table border=\"1\" class=\"dataframe\">\n",
              "  <thead>\n",
              "    <tr style=\"text-align: right;\">\n",
              "      <th></th>\n",
              "      <th>metricas</th>\n",
              "      <th>media</th>\n",
              "    </tr>\n",
              "  </thead>\n",
              "  <tbody>\n",
              "    <tr>\n",
              "      <th>0</th>\n",
              "      <td>ATENDIMENTO_ANO</td>\n",
              "      <td>2015.500000</td>\n",
              "    </tr>\n",
              "    <tr>\n",
              "      <th>1</th>\n",
              "      <td>Quantidade_Ocorrencias_Atendidas_Por_Ano</td>\n",
              "      <td>29859.357143</td>\n",
              "    </tr>\n",
              "    <tr>\n",
              "      <th>0</th>\n",
              "      <td>OCORRENCIA_ANO</td>\n",
              "      <td>2015.500000</td>\n",
              "    </tr>\n",
              "    <tr>\n",
              "      <th>1</th>\n",
              "      <td>Quantidade_Ocorrencias_Registradas_Por_Ano</td>\n",
              "      <td>29860.857143</td>\n",
              "    </tr>\n",
              "    <tr>\n",
              "      <th>0</th>\n",
              "      <td>Quantidade_Ocorrencias_Registradas_Por_Bairro</td>\n",
              "      <td>2211.148148</td>\n",
              "    </tr>\n",
              "    <tr>\n",
              "      <th>0</th>\n",
              "      <td>Quantidade_Ocorrencias_Flagrante</td>\n",
              "      <td>209026.000000</td>\n",
              "    </tr>\n",
              "    <tr>\n",
              "      <th>0</th>\n",
              "      <td>Quantidade_Ocorrencias_Por_Tipo</td>\n",
              "      <td>2235.572193</td>\n",
              "    </tr>\n",
              "    <tr>\n",
              "      <th>0</th>\n",
              "      <td>Quantidade_Ocorrencias_Por_Dia</td>\n",
              "      <td>83.376945</td>\n",
              "    </tr>\n",
              "    <tr>\n",
              "      <th>0</th>\n",
              "      <td>Quantidade_Ocorrencias_Por_Dia_Da_Semana</td>\n",
              "      <td>59721.714286</td>\n",
              "    </tr>\n",
              "    <tr>\n",
              "      <th>0</th>\n",
              "      <td>Quantidade_Ocorrencias_Por_Regional</td>\n",
              "      <td>29860.071429</td>\n",
              "    </tr>\n",
              "  </tbody>\n",
              "</table>\n",
              "</div>\n",
              "      <button class=\"colab-df-convert\" onclick=\"convertToInteractive('df-30e1ef9a-43a5-4f6f-aca8-d6c6e00fd578')\"\n",
              "              title=\"Convert this dataframe to an interactive table.\"\n",
              "              style=\"display:none;\">\n",
              "        \n",
              "  <svg xmlns=\"http://www.w3.org/2000/svg\" height=\"24px\"viewBox=\"0 0 24 24\"\n",
              "       width=\"24px\">\n",
              "    <path d=\"M0 0h24v24H0V0z\" fill=\"none\"/>\n",
              "    <path d=\"M18.56 5.44l.94 2.06.94-2.06 2.06-.94-2.06-.94-.94-2.06-.94 2.06-2.06.94zm-11 1L8.5 8.5l.94-2.06 2.06-.94-2.06-.94L8.5 2.5l-.94 2.06-2.06.94zm10 10l.94 2.06.94-2.06 2.06-.94-2.06-.94-.94-2.06-.94 2.06-2.06.94z\"/><path d=\"M17.41 7.96l-1.37-1.37c-.4-.4-.92-.59-1.43-.59-.52 0-1.04.2-1.43.59L10.3 9.45l-7.72 7.72c-.78.78-.78 2.05 0 2.83L4 21.41c.39.39.9.59 1.41.59.51 0 1.02-.2 1.41-.59l7.78-7.78 2.81-2.81c.8-.78.8-2.07 0-2.86zM5.41 20L4 18.59l7.72-7.72 1.47 1.35L5.41 20z\"/>\n",
              "  </svg>\n",
              "      </button>\n",
              "      \n",
              "  <style>\n",
              "    .colab-df-container {\n",
              "      display:flex;\n",
              "      flex-wrap:wrap;\n",
              "      gap: 12px;\n",
              "    }\n",
              "\n",
              "    .colab-df-convert {\n",
              "      background-color: #E8F0FE;\n",
              "      border: none;\n",
              "      border-radius: 50%;\n",
              "      cursor: pointer;\n",
              "      display: none;\n",
              "      fill: #1967D2;\n",
              "      height: 32px;\n",
              "      padding: 0 0 0 0;\n",
              "      width: 32px;\n",
              "    }\n",
              "\n",
              "    .colab-df-convert:hover {\n",
              "      background-color: #E2EBFA;\n",
              "      box-shadow: 0px 1px 2px rgba(60, 64, 67, 0.3), 0px 1px 3px 1px rgba(60, 64, 67, 0.15);\n",
              "      fill: #174EA6;\n",
              "    }\n",
              "\n",
              "    [theme=dark] .colab-df-convert {\n",
              "      background-color: #3B4455;\n",
              "      fill: #D2E3FC;\n",
              "    }\n",
              "\n",
              "    [theme=dark] .colab-df-convert:hover {\n",
              "      background-color: #434B5C;\n",
              "      box-shadow: 0px 1px 3px 1px rgba(0, 0, 0, 0.15);\n",
              "      filter: drop-shadow(0px 1px 2px rgba(0, 0, 0, 0.3));\n",
              "      fill: #FFFFFF;\n",
              "    }\n",
              "  </style>\n",
              "\n",
              "      <script>\n",
              "        const buttonEl =\n",
              "          document.querySelector('#df-30e1ef9a-43a5-4f6f-aca8-d6c6e00fd578 button.colab-df-convert');\n",
              "        buttonEl.style.display =\n",
              "          google.colab.kernel.accessAllowed ? 'block' : 'none';\n",
              "\n",
              "        async function convertToInteractive(key) {\n",
              "          const element = document.querySelector('#df-30e1ef9a-43a5-4f6f-aca8-d6c6e00fd578');\n",
              "          const dataTable =\n",
              "            await google.colab.kernel.invokeFunction('convertToInteractive',\n",
              "                                                     [key], {});\n",
              "          if (!dataTable) return;\n",
              "\n",
              "          const docLinkHtml = 'Like what you see? Visit the ' +\n",
              "            '<a target=\"_blank\" href=https://colab.research.google.com/notebooks/data_table.ipynb>data table notebook</a>'\n",
              "            + ' to learn more about interactive tables.';\n",
              "          element.innerHTML = '';\n",
              "          dataTable['output_type'] = 'display_data';\n",
              "          await google.colab.output.renderOutput(dataTable, element);\n",
              "          const docLink = document.createElement('div');\n",
              "          docLink.innerHTML = docLinkHtml;\n",
              "          element.appendChild(docLink);\n",
              "        }\n",
              "      </script>\n",
              "    </div>\n",
              "  </div>\n",
              "  "
            ]
          },
          "metadata": {},
          "execution_count": 44
        }
      ]
    },
    {
      "cell_type": "code",
      "source": [
        "#Mediana\n",
        "\n",
        "def calculaMediana(tabela):\n",
        "\n",
        "    mediana = tabela.median()\n",
        "\n",
        "    mediana = pd.DataFrame({'metricas':mediana.index, 'mediana':mediana.values})\n",
        "    \n",
        "    return mediana"
      ],
      "metadata": {
        "id": "9zHi96tfW9lu"
      },
      "execution_count": null,
      "outputs": []
    },
    {
      "cell_type": "code",
      "source": [
        "medianas = []\n",
        "for i in tabelas: \n",
        "  medianas.append(calculaMediana(i))\n",
        "  \n",
        "dfMediana = pd.concat(medianas)\n",
        "dfMediana"
      ],
      "metadata": {
        "colab": {
          "base_uri": "https://localhost:8080/",
          "height": 583
        },
        "id": "_QEonfdKjMoi",
        "outputId": "34ab2909-e7b5-48d5-e0f2-620422388579"
      },
      "execution_count": null,
      "outputs": [
        {
          "output_type": "stream",
          "name": "stderr",
          "text": [
            "/usr/local/lib/python3.7/dist-packages/ipykernel_launcher.py:5: FutureWarning: Dropping of nuisance columns in DataFrame reductions (with 'numeric_only=None') is deprecated; in a future version this will raise TypeError.  Select only valid columns before calling the reduction.\n",
            "  \"\"\"\n",
            "/usr/local/lib/python3.7/dist-packages/ipykernel_launcher.py:5: FutureWarning: Dropping of nuisance columns in DataFrame reductions (with 'numeric_only=None') is deprecated; in a future version this will raise TypeError.  Select only valid columns before calling the reduction.\n",
            "  \"\"\"\n",
            "/usr/local/lib/python3.7/dist-packages/ipykernel_launcher.py:5: FutureWarning: Dropping of nuisance columns in DataFrame reductions (with 'numeric_only=None') is deprecated; in a future version this will raise TypeError.  Select only valid columns before calling the reduction.\n",
            "  \"\"\"\n",
            "/usr/local/lib/python3.7/dist-packages/ipykernel_launcher.py:5: FutureWarning: Dropping of nuisance columns in DataFrame reductions (with 'numeric_only=None') is deprecated; in a future version this will raise TypeError.  Select only valid columns before calling the reduction.\n",
            "  \"\"\"\n",
            "/usr/local/lib/python3.7/dist-packages/ipykernel_launcher.py:5: FutureWarning: Dropping of nuisance columns in DataFrame reductions (with 'numeric_only=None') is deprecated; in a future version this will raise TypeError.  Select only valid columns before calling the reduction.\n",
            "  \"\"\"\n",
            "/usr/local/lib/python3.7/dist-packages/ipykernel_launcher.py:5: FutureWarning: Dropping of nuisance columns in DataFrame reductions (with 'numeric_only=None') is deprecated; in a future version this will raise TypeError.  Select only valid columns before calling the reduction.\n",
            "  \"\"\"\n"
          ]
        },
        {
          "output_type": "execute_result",
          "data": {
            "text/plain": [
              "                                        metricas   mediana\n",
              "0                                ATENDIMENTO_ANO    2015.5\n",
              "1       Quantidade_Ocorrencias_Atendidas_Por_Ano   24685.5\n",
              "0                                 OCORRENCIA_ANO    2015.5\n",
              "1     Quantidade_Ocorrencias_Registradas_Por_Ano   24686.5\n",
              "0  Quantidade_Ocorrencias_Registradas_Por_Bairro       2.0\n",
              "0               Quantidade_Ocorrencias_Flagrante  209026.0\n",
              "0                Quantidade_Ocorrencias_Por_Tipo      69.0\n",
              "0                 Quantidade_Ocorrencias_Por_Dia      69.0\n",
              "0       Quantidade_Ocorrencias_Por_Dia_Da_Semana   59400.0\n",
              "0            Quantidade_Ocorrencias_Por_Regional   29834.5"
            ],
            "text/html": [
              "\n",
              "  <div id=\"df-842d644a-fb1f-48b7-8832-f10d7d1c76cc\">\n",
              "    <div class=\"colab-df-container\">\n",
              "      <div>\n",
              "<style scoped>\n",
              "    .dataframe tbody tr th:only-of-type {\n",
              "        vertical-align: middle;\n",
              "    }\n",
              "\n",
              "    .dataframe tbody tr th {\n",
              "        vertical-align: top;\n",
              "    }\n",
              "\n",
              "    .dataframe thead th {\n",
              "        text-align: right;\n",
              "    }\n",
              "</style>\n",
              "<table border=\"1\" class=\"dataframe\">\n",
              "  <thead>\n",
              "    <tr style=\"text-align: right;\">\n",
              "      <th></th>\n",
              "      <th>metricas</th>\n",
              "      <th>mediana</th>\n",
              "    </tr>\n",
              "  </thead>\n",
              "  <tbody>\n",
              "    <tr>\n",
              "      <th>0</th>\n",
              "      <td>ATENDIMENTO_ANO</td>\n",
              "      <td>2015.5</td>\n",
              "    </tr>\n",
              "    <tr>\n",
              "      <th>1</th>\n",
              "      <td>Quantidade_Ocorrencias_Atendidas_Por_Ano</td>\n",
              "      <td>24685.5</td>\n",
              "    </tr>\n",
              "    <tr>\n",
              "      <th>0</th>\n",
              "      <td>OCORRENCIA_ANO</td>\n",
              "      <td>2015.5</td>\n",
              "    </tr>\n",
              "    <tr>\n",
              "      <th>1</th>\n",
              "      <td>Quantidade_Ocorrencias_Registradas_Por_Ano</td>\n",
              "      <td>24686.5</td>\n",
              "    </tr>\n",
              "    <tr>\n",
              "      <th>0</th>\n",
              "      <td>Quantidade_Ocorrencias_Registradas_Por_Bairro</td>\n",
              "      <td>2.0</td>\n",
              "    </tr>\n",
              "    <tr>\n",
              "      <th>0</th>\n",
              "      <td>Quantidade_Ocorrencias_Flagrante</td>\n",
              "      <td>209026.0</td>\n",
              "    </tr>\n",
              "    <tr>\n",
              "      <th>0</th>\n",
              "      <td>Quantidade_Ocorrencias_Por_Tipo</td>\n",
              "      <td>69.0</td>\n",
              "    </tr>\n",
              "    <tr>\n",
              "      <th>0</th>\n",
              "      <td>Quantidade_Ocorrencias_Por_Dia</td>\n",
              "      <td>69.0</td>\n",
              "    </tr>\n",
              "    <tr>\n",
              "      <th>0</th>\n",
              "      <td>Quantidade_Ocorrencias_Por_Dia_Da_Semana</td>\n",
              "      <td>59400.0</td>\n",
              "    </tr>\n",
              "    <tr>\n",
              "      <th>0</th>\n",
              "      <td>Quantidade_Ocorrencias_Por_Regional</td>\n",
              "      <td>29834.5</td>\n",
              "    </tr>\n",
              "  </tbody>\n",
              "</table>\n",
              "</div>\n",
              "      <button class=\"colab-df-convert\" onclick=\"convertToInteractive('df-842d644a-fb1f-48b7-8832-f10d7d1c76cc')\"\n",
              "              title=\"Convert this dataframe to an interactive table.\"\n",
              "              style=\"display:none;\">\n",
              "        \n",
              "  <svg xmlns=\"http://www.w3.org/2000/svg\" height=\"24px\"viewBox=\"0 0 24 24\"\n",
              "       width=\"24px\">\n",
              "    <path d=\"M0 0h24v24H0V0z\" fill=\"none\"/>\n",
              "    <path d=\"M18.56 5.44l.94 2.06.94-2.06 2.06-.94-2.06-.94-.94-2.06-.94 2.06-2.06.94zm-11 1L8.5 8.5l.94-2.06 2.06-.94-2.06-.94L8.5 2.5l-.94 2.06-2.06.94zm10 10l.94 2.06.94-2.06 2.06-.94-2.06-.94-.94-2.06-.94 2.06-2.06.94z\"/><path d=\"M17.41 7.96l-1.37-1.37c-.4-.4-.92-.59-1.43-.59-.52 0-1.04.2-1.43.59L10.3 9.45l-7.72 7.72c-.78.78-.78 2.05 0 2.83L4 21.41c.39.39.9.59 1.41.59.51 0 1.02-.2 1.41-.59l7.78-7.78 2.81-2.81c.8-.78.8-2.07 0-2.86zM5.41 20L4 18.59l7.72-7.72 1.47 1.35L5.41 20z\"/>\n",
              "  </svg>\n",
              "      </button>\n",
              "      \n",
              "  <style>\n",
              "    .colab-df-container {\n",
              "      display:flex;\n",
              "      flex-wrap:wrap;\n",
              "      gap: 12px;\n",
              "    }\n",
              "\n",
              "    .colab-df-convert {\n",
              "      background-color: #E8F0FE;\n",
              "      border: none;\n",
              "      border-radius: 50%;\n",
              "      cursor: pointer;\n",
              "      display: none;\n",
              "      fill: #1967D2;\n",
              "      height: 32px;\n",
              "      padding: 0 0 0 0;\n",
              "      width: 32px;\n",
              "    }\n",
              "\n",
              "    .colab-df-convert:hover {\n",
              "      background-color: #E2EBFA;\n",
              "      box-shadow: 0px 1px 2px rgba(60, 64, 67, 0.3), 0px 1px 3px 1px rgba(60, 64, 67, 0.15);\n",
              "      fill: #174EA6;\n",
              "    }\n",
              "\n",
              "    [theme=dark] .colab-df-convert {\n",
              "      background-color: #3B4455;\n",
              "      fill: #D2E3FC;\n",
              "    }\n",
              "\n",
              "    [theme=dark] .colab-df-convert:hover {\n",
              "      background-color: #434B5C;\n",
              "      box-shadow: 0px 1px 3px 1px rgba(0, 0, 0, 0.15);\n",
              "      filter: drop-shadow(0px 1px 2px rgba(0, 0, 0, 0.3));\n",
              "      fill: #FFFFFF;\n",
              "    }\n",
              "  </style>\n",
              "\n",
              "      <script>\n",
              "        const buttonEl =\n",
              "          document.querySelector('#df-842d644a-fb1f-48b7-8832-f10d7d1c76cc button.colab-df-convert');\n",
              "        buttonEl.style.display =\n",
              "          google.colab.kernel.accessAllowed ? 'block' : 'none';\n",
              "\n",
              "        async function convertToInteractive(key) {\n",
              "          const element = document.querySelector('#df-842d644a-fb1f-48b7-8832-f10d7d1c76cc');\n",
              "          const dataTable =\n",
              "            await google.colab.kernel.invokeFunction('convertToInteractive',\n",
              "                                                     [key], {});\n",
              "          if (!dataTable) return;\n",
              "\n",
              "          const docLinkHtml = 'Like what you see? Visit the ' +\n",
              "            '<a target=\"_blank\" href=https://colab.research.google.com/notebooks/data_table.ipynb>data table notebook</a>'\n",
              "            + ' to learn more about interactive tables.';\n",
              "          element.innerHTML = '';\n",
              "          dataTable['output_type'] = 'display_data';\n",
              "          await google.colab.output.renderOutput(dataTable, element);\n",
              "          const docLink = document.createElement('div');\n",
              "          docLink.innerHTML = docLinkHtml;\n",
              "          element.appendChild(docLink);\n",
              "        }\n",
              "      </script>\n",
              "    </div>\n",
              "  </div>\n",
              "  "
            ]
          },
          "metadata": {},
          "execution_count": 46
        }
      ]
    },
    {
      "cell_type": "markdown",
      "source": [
        "### - Medidas de dispersão"
      ],
      "metadata": {
        "id": "Qf7fpQwuUO5q"
      }
    },
    {
      "cell_type": "code",
      "source": [
        "#Variancia (valores ao quadrado)\n",
        "#Distância dos termos com relação a média\n",
        "#Quanto menor, melhor e mais próximo a média\n",
        "\n",
        "def calculaVariancia(tabela):\n",
        "\n",
        "    var = tabela.var()\n",
        "\n",
        "    var = pd.DataFrame({'metricas':var.index, 'var':var.values})\n",
        "    \n",
        "    return var"
      ],
      "metadata": {
        "id": "lQ1qKY60XKxr"
      },
      "execution_count": null,
      "outputs": []
    },
    {
      "cell_type": "code",
      "source": [
        "variancias = []\n",
        "for i in tabelas: \n",
        "  variancias.append(calculaVariancia(i))\n",
        "  \n",
        "dfVariancia = pd.concat(variancias)\n",
        "dfVariancia"
      ],
      "metadata": {
        "colab": {
          "base_uri": "https://localhost:8080/",
          "height": 413
        },
        "id": "i8x6sIivwCcX",
        "outputId": "d36a7e0c-23f3-45a9-fb10-0aec9da64971"
      },
      "execution_count": null,
      "outputs": [
        {
          "output_type": "stream",
          "name": "stderr",
          "text": [
            "/usr/local/lib/python3.7/dist-packages/ipykernel_launcher.py:7: FutureWarning: Dropping of nuisance columns in DataFrame reductions (with 'numeric_only=None') is deprecated; in a future version this will raise TypeError.  Select only valid columns before calling the reduction.\n",
            "  import sys\n"
          ]
        },
        {
          "output_type": "execute_result",
          "data": {
            "text/plain": [
              "                                        metricas           var\n",
              "0                                ATENDIMENTO_ANO  1.750000e+01\n",
              "1       Quantidade_Ocorrencias_Atendidas_Por_Ano  1.640663e+08\n",
              "0                                 OCORRENCIA_ANO  1.750000e+01\n",
              "1     Quantidade_Ocorrencias_Registradas_Por_Ano  1.640614e+08\n",
              "0  Quantidade_Ocorrencias_Registradas_Por_Bairro  4.254875e+07\n",
              "0               Quantidade_Ocorrencias_Flagrante  7.235056e+10\n",
              "0                Quantidade_Ocorrencias_Por_Tipo  5.838042e+07\n",
              "0                 Quantidade_Ocorrencias_Por_Dia  1.987501e+03\n",
              "0       Quantidade_Ocorrencias_Por_Dia_Da_Semana  2.599704e+07\n",
              "0            Quantidade_Ocorrencias_Por_Regional  1.128722e+09"
            ],
            "text/html": [
              "\n",
              "  <div id=\"df-00fdfb6a-2688-4e9b-9a13-10ae43739506\">\n",
              "    <div class=\"colab-df-container\">\n",
              "      <div>\n",
              "<style scoped>\n",
              "    .dataframe tbody tr th:only-of-type {\n",
              "        vertical-align: middle;\n",
              "    }\n",
              "\n",
              "    .dataframe tbody tr th {\n",
              "        vertical-align: top;\n",
              "    }\n",
              "\n",
              "    .dataframe thead th {\n",
              "        text-align: right;\n",
              "    }\n",
              "</style>\n",
              "<table border=\"1\" class=\"dataframe\">\n",
              "  <thead>\n",
              "    <tr style=\"text-align: right;\">\n",
              "      <th></th>\n",
              "      <th>metricas</th>\n",
              "      <th>var</th>\n",
              "    </tr>\n",
              "  </thead>\n",
              "  <tbody>\n",
              "    <tr>\n",
              "      <th>0</th>\n",
              "      <td>ATENDIMENTO_ANO</td>\n",
              "      <td>1.750000e+01</td>\n",
              "    </tr>\n",
              "    <tr>\n",
              "      <th>1</th>\n",
              "      <td>Quantidade_Ocorrencias_Atendidas_Por_Ano</td>\n",
              "      <td>1.640663e+08</td>\n",
              "    </tr>\n",
              "    <tr>\n",
              "      <th>0</th>\n",
              "      <td>OCORRENCIA_ANO</td>\n",
              "      <td>1.750000e+01</td>\n",
              "    </tr>\n",
              "    <tr>\n",
              "      <th>1</th>\n",
              "      <td>Quantidade_Ocorrencias_Registradas_Por_Ano</td>\n",
              "      <td>1.640614e+08</td>\n",
              "    </tr>\n",
              "    <tr>\n",
              "      <th>0</th>\n",
              "      <td>Quantidade_Ocorrencias_Registradas_Por_Bairro</td>\n",
              "      <td>4.254875e+07</td>\n",
              "    </tr>\n",
              "    <tr>\n",
              "      <th>0</th>\n",
              "      <td>Quantidade_Ocorrencias_Flagrante</td>\n",
              "      <td>7.235056e+10</td>\n",
              "    </tr>\n",
              "    <tr>\n",
              "      <th>0</th>\n",
              "      <td>Quantidade_Ocorrencias_Por_Tipo</td>\n",
              "      <td>5.838042e+07</td>\n",
              "    </tr>\n",
              "    <tr>\n",
              "      <th>0</th>\n",
              "      <td>Quantidade_Ocorrencias_Por_Dia</td>\n",
              "      <td>1.987501e+03</td>\n",
              "    </tr>\n",
              "    <tr>\n",
              "      <th>0</th>\n",
              "      <td>Quantidade_Ocorrencias_Por_Dia_Da_Semana</td>\n",
              "      <td>2.599704e+07</td>\n",
              "    </tr>\n",
              "    <tr>\n",
              "      <th>0</th>\n",
              "      <td>Quantidade_Ocorrencias_Por_Regional</td>\n",
              "      <td>1.128722e+09</td>\n",
              "    </tr>\n",
              "  </tbody>\n",
              "</table>\n",
              "</div>\n",
              "      <button class=\"colab-df-convert\" onclick=\"convertToInteractive('df-00fdfb6a-2688-4e9b-9a13-10ae43739506')\"\n",
              "              title=\"Convert this dataframe to an interactive table.\"\n",
              "              style=\"display:none;\">\n",
              "        \n",
              "  <svg xmlns=\"http://www.w3.org/2000/svg\" height=\"24px\"viewBox=\"0 0 24 24\"\n",
              "       width=\"24px\">\n",
              "    <path d=\"M0 0h24v24H0V0z\" fill=\"none\"/>\n",
              "    <path d=\"M18.56 5.44l.94 2.06.94-2.06 2.06-.94-2.06-.94-.94-2.06-.94 2.06-2.06.94zm-11 1L8.5 8.5l.94-2.06 2.06-.94-2.06-.94L8.5 2.5l-.94 2.06-2.06.94zm10 10l.94 2.06.94-2.06 2.06-.94-2.06-.94-.94-2.06-.94 2.06-2.06.94z\"/><path d=\"M17.41 7.96l-1.37-1.37c-.4-.4-.92-.59-1.43-.59-.52 0-1.04.2-1.43.59L10.3 9.45l-7.72 7.72c-.78.78-.78 2.05 0 2.83L4 21.41c.39.39.9.59 1.41.59.51 0 1.02-.2 1.41-.59l7.78-7.78 2.81-2.81c.8-.78.8-2.07 0-2.86zM5.41 20L4 18.59l7.72-7.72 1.47 1.35L5.41 20z\"/>\n",
              "  </svg>\n",
              "      </button>\n",
              "      \n",
              "  <style>\n",
              "    .colab-df-container {\n",
              "      display:flex;\n",
              "      flex-wrap:wrap;\n",
              "      gap: 12px;\n",
              "    }\n",
              "\n",
              "    .colab-df-convert {\n",
              "      background-color: #E8F0FE;\n",
              "      border: none;\n",
              "      border-radius: 50%;\n",
              "      cursor: pointer;\n",
              "      display: none;\n",
              "      fill: #1967D2;\n",
              "      height: 32px;\n",
              "      padding: 0 0 0 0;\n",
              "      width: 32px;\n",
              "    }\n",
              "\n",
              "    .colab-df-convert:hover {\n",
              "      background-color: #E2EBFA;\n",
              "      box-shadow: 0px 1px 2px rgba(60, 64, 67, 0.3), 0px 1px 3px 1px rgba(60, 64, 67, 0.15);\n",
              "      fill: #174EA6;\n",
              "    }\n",
              "\n",
              "    [theme=dark] .colab-df-convert {\n",
              "      background-color: #3B4455;\n",
              "      fill: #D2E3FC;\n",
              "    }\n",
              "\n",
              "    [theme=dark] .colab-df-convert:hover {\n",
              "      background-color: #434B5C;\n",
              "      box-shadow: 0px 1px 3px 1px rgba(0, 0, 0, 0.15);\n",
              "      filter: drop-shadow(0px 1px 2px rgba(0, 0, 0, 0.3));\n",
              "      fill: #FFFFFF;\n",
              "    }\n",
              "  </style>\n",
              "\n",
              "      <script>\n",
              "        const buttonEl =\n",
              "          document.querySelector('#df-00fdfb6a-2688-4e9b-9a13-10ae43739506 button.colab-df-convert');\n",
              "        buttonEl.style.display =\n",
              "          google.colab.kernel.accessAllowed ? 'block' : 'none';\n",
              "\n",
              "        async function convertToInteractive(key) {\n",
              "          const element = document.querySelector('#df-00fdfb6a-2688-4e9b-9a13-10ae43739506');\n",
              "          const dataTable =\n",
              "            await google.colab.kernel.invokeFunction('convertToInteractive',\n",
              "                                                     [key], {});\n",
              "          if (!dataTable) return;\n",
              "\n",
              "          const docLinkHtml = 'Like what you see? Visit the ' +\n",
              "            '<a target=\"_blank\" href=https://colab.research.google.com/notebooks/data_table.ipynb>data table notebook</a>'\n",
              "            + ' to learn more about interactive tables.';\n",
              "          element.innerHTML = '';\n",
              "          dataTable['output_type'] = 'display_data';\n",
              "          await google.colab.output.renderOutput(dataTable, element);\n",
              "          const docLink = document.createElement('div');\n",
              "          docLink.innerHTML = docLinkHtml;\n",
              "          element.appendChild(docLink);\n",
              "        }\n",
              "      </script>\n",
              "    </div>\n",
              "  </div>\n",
              "  "
            ]
          },
          "metadata": {},
          "execution_count": 48
        }
      ]
    },
    {
      "cell_type": "code",
      "source": [
        "#Desvio Padrao (√ Variancia - mesma unidade media)\n",
        "#Distância dos termos com relação a média\n",
        "#Quanto menor, melhor e mais próximo a média\n",
        "\n",
        "def calculateDesvioPadrao(tabela):\n",
        "\n",
        "    desvioP = tabela.std()\n",
        "\n",
        "    desvioP = pd.DataFrame({'metricas':desvioP.index, 'desvioP':desvioP.values})\n",
        "\n",
        "    return desvioP "
      ],
      "metadata": {
        "id": "vZlfbqypXOMG"
      },
      "execution_count": null,
      "outputs": []
    },
    {
      "cell_type": "code",
      "source": [
        "desvios = []\n",
        "for i in tabelas: \n",
        "  desvios.append(calculateDesvioPadrao(i))\n",
        "  \n",
        "dfDesvio = pd.concat(desvios)\n",
        "dfDesvio"
      ],
      "metadata": {
        "colab": {
          "base_uri": "https://localhost:8080/",
          "height": 413
        },
        "id": "bk928z8kxAQp",
        "outputId": "d8918b99-8d63-461a-9a53-380f867050d7"
      },
      "execution_count": null,
      "outputs": [
        {
          "output_type": "stream",
          "name": "stderr",
          "text": [
            "/usr/local/lib/python3.7/dist-packages/ipykernel_launcher.py:7: FutureWarning: Dropping of nuisance columns in DataFrame reductions (with 'numeric_only=None') is deprecated; in a future version this will raise TypeError.  Select only valid columns before calling the reduction.\n",
            "  import sys\n"
          ]
        },
        {
          "output_type": "execute_result",
          "data": {
            "text/plain": [
              "                                        metricas        desvioP\n",
              "0                                ATENDIMENTO_ANO       4.183300\n",
              "1       Quantidade_Ocorrencias_Atendidas_Por_Ano   12808.834923\n",
              "0                                 OCORRENCIA_ANO       4.183300\n",
              "1     Quantidade_Ocorrencias_Registradas_Por_Ano   12808.647216\n",
              "0  Quantidade_Ocorrencias_Registradas_Por_Bairro    6522.940097\n",
              "0               Quantidade_Ocorrencias_Flagrante  268980.591136\n",
              "0                Quantidade_Ocorrencias_Por_Tipo    7640.708392\n",
              "0                 Quantidade_Ocorrencias_Por_Dia      44.581395\n",
              "0       Quantidade_Ocorrencias_Por_Dia_Da_Semana    5098.729604\n",
              "0            Quantidade_Ocorrencias_Por_Regional   33596.459716"
            ],
            "text/html": [
              "\n",
              "  <div id=\"df-41d83099-e3a6-4b85-a5ac-36f8a45fa0a1\">\n",
              "    <div class=\"colab-df-container\">\n",
              "      <div>\n",
              "<style scoped>\n",
              "    .dataframe tbody tr th:only-of-type {\n",
              "        vertical-align: middle;\n",
              "    }\n",
              "\n",
              "    .dataframe tbody tr th {\n",
              "        vertical-align: top;\n",
              "    }\n",
              "\n",
              "    .dataframe thead th {\n",
              "        text-align: right;\n",
              "    }\n",
              "</style>\n",
              "<table border=\"1\" class=\"dataframe\">\n",
              "  <thead>\n",
              "    <tr style=\"text-align: right;\">\n",
              "      <th></th>\n",
              "      <th>metricas</th>\n",
              "      <th>desvioP</th>\n",
              "    </tr>\n",
              "  </thead>\n",
              "  <tbody>\n",
              "    <tr>\n",
              "      <th>0</th>\n",
              "      <td>ATENDIMENTO_ANO</td>\n",
              "      <td>4.183300</td>\n",
              "    </tr>\n",
              "    <tr>\n",
              "      <th>1</th>\n",
              "      <td>Quantidade_Ocorrencias_Atendidas_Por_Ano</td>\n",
              "      <td>12808.834923</td>\n",
              "    </tr>\n",
              "    <tr>\n",
              "      <th>0</th>\n",
              "      <td>OCORRENCIA_ANO</td>\n",
              "      <td>4.183300</td>\n",
              "    </tr>\n",
              "    <tr>\n",
              "      <th>1</th>\n",
              "      <td>Quantidade_Ocorrencias_Registradas_Por_Ano</td>\n",
              "      <td>12808.647216</td>\n",
              "    </tr>\n",
              "    <tr>\n",
              "      <th>0</th>\n",
              "      <td>Quantidade_Ocorrencias_Registradas_Por_Bairro</td>\n",
              "      <td>6522.940097</td>\n",
              "    </tr>\n",
              "    <tr>\n",
              "      <th>0</th>\n",
              "      <td>Quantidade_Ocorrencias_Flagrante</td>\n",
              "      <td>268980.591136</td>\n",
              "    </tr>\n",
              "    <tr>\n",
              "      <th>0</th>\n",
              "      <td>Quantidade_Ocorrencias_Por_Tipo</td>\n",
              "      <td>7640.708392</td>\n",
              "    </tr>\n",
              "    <tr>\n",
              "      <th>0</th>\n",
              "      <td>Quantidade_Ocorrencias_Por_Dia</td>\n",
              "      <td>44.581395</td>\n",
              "    </tr>\n",
              "    <tr>\n",
              "      <th>0</th>\n",
              "      <td>Quantidade_Ocorrencias_Por_Dia_Da_Semana</td>\n",
              "      <td>5098.729604</td>\n",
              "    </tr>\n",
              "    <tr>\n",
              "      <th>0</th>\n",
              "      <td>Quantidade_Ocorrencias_Por_Regional</td>\n",
              "      <td>33596.459716</td>\n",
              "    </tr>\n",
              "  </tbody>\n",
              "</table>\n",
              "</div>\n",
              "      <button class=\"colab-df-convert\" onclick=\"convertToInteractive('df-41d83099-e3a6-4b85-a5ac-36f8a45fa0a1')\"\n",
              "              title=\"Convert this dataframe to an interactive table.\"\n",
              "              style=\"display:none;\">\n",
              "        \n",
              "  <svg xmlns=\"http://www.w3.org/2000/svg\" height=\"24px\"viewBox=\"0 0 24 24\"\n",
              "       width=\"24px\">\n",
              "    <path d=\"M0 0h24v24H0V0z\" fill=\"none\"/>\n",
              "    <path d=\"M18.56 5.44l.94 2.06.94-2.06 2.06-.94-2.06-.94-.94-2.06-.94 2.06-2.06.94zm-11 1L8.5 8.5l.94-2.06 2.06-.94-2.06-.94L8.5 2.5l-.94 2.06-2.06.94zm10 10l.94 2.06.94-2.06 2.06-.94-2.06-.94-.94-2.06-.94 2.06-2.06.94z\"/><path d=\"M17.41 7.96l-1.37-1.37c-.4-.4-.92-.59-1.43-.59-.52 0-1.04.2-1.43.59L10.3 9.45l-7.72 7.72c-.78.78-.78 2.05 0 2.83L4 21.41c.39.39.9.59 1.41.59.51 0 1.02-.2 1.41-.59l7.78-7.78 2.81-2.81c.8-.78.8-2.07 0-2.86zM5.41 20L4 18.59l7.72-7.72 1.47 1.35L5.41 20z\"/>\n",
              "  </svg>\n",
              "      </button>\n",
              "      \n",
              "  <style>\n",
              "    .colab-df-container {\n",
              "      display:flex;\n",
              "      flex-wrap:wrap;\n",
              "      gap: 12px;\n",
              "    }\n",
              "\n",
              "    .colab-df-convert {\n",
              "      background-color: #E8F0FE;\n",
              "      border: none;\n",
              "      border-radius: 50%;\n",
              "      cursor: pointer;\n",
              "      display: none;\n",
              "      fill: #1967D2;\n",
              "      height: 32px;\n",
              "      padding: 0 0 0 0;\n",
              "      width: 32px;\n",
              "    }\n",
              "\n",
              "    .colab-df-convert:hover {\n",
              "      background-color: #E2EBFA;\n",
              "      box-shadow: 0px 1px 2px rgba(60, 64, 67, 0.3), 0px 1px 3px 1px rgba(60, 64, 67, 0.15);\n",
              "      fill: #174EA6;\n",
              "    }\n",
              "\n",
              "    [theme=dark] .colab-df-convert {\n",
              "      background-color: #3B4455;\n",
              "      fill: #D2E3FC;\n",
              "    }\n",
              "\n",
              "    [theme=dark] .colab-df-convert:hover {\n",
              "      background-color: #434B5C;\n",
              "      box-shadow: 0px 1px 3px 1px rgba(0, 0, 0, 0.15);\n",
              "      filter: drop-shadow(0px 1px 2px rgba(0, 0, 0, 0.3));\n",
              "      fill: #FFFFFF;\n",
              "    }\n",
              "  </style>\n",
              "\n",
              "      <script>\n",
              "        const buttonEl =\n",
              "          document.querySelector('#df-41d83099-e3a6-4b85-a5ac-36f8a45fa0a1 button.colab-df-convert');\n",
              "        buttonEl.style.display =\n",
              "          google.colab.kernel.accessAllowed ? 'block' : 'none';\n",
              "\n",
              "        async function convertToInteractive(key) {\n",
              "          const element = document.querySelector('#df-41d83099-e3a6-4b85-a5ac-36f8a45fa0a1');\n",
              "          const dataTable =\n",
              "            await google.colab.kernel.invokeFunction('convertToInteractive',\n",
              "                                                     [key], {});\n",
              "          if (!dataTable) return;\n",
              "\n",
              "          const docLinkHtml = 'Like what you see? Visit the ' +\n",
              "            '<a target=\"_blank\" href=https://colab.research.google.com/notebooks/data_table.ipynb>data table notebook</a>'\n",
              "            + ' to learn more about interactive tables.';\n",
              "          element.innerHTML = '';\n",
              "          dataTable['output_type'] = 'display_data';\n",
              "          await google.colab.output.renderOutput(dataTable, element);\n",
              "          const docLink = document.createElement('div');\n",
              "          docLink.innerHTML = docLinkHtml;\n",
              "          element.appendChild(docLink);\n",
              "        }\n",
              "      </script>\n",
              "    </div>\n",
              "  </div>\n",
              "  "
            ]
          },
          "metadata": {},
          "execution_count": 50
        }
      ]
    },
    {
      "cell_type": "code",
      "source": [
        "#Quantis\n",
        "def calculaQuantil(tabela):\n",
        "\n",
        "    q1 = tabela.quantile(0.25)\n",
        "    q1Df = pd.DataFrame({'metricas':q1.index, 'q1':q1.values})\n",
        "\n",
        "    q2 = tabela.quantile(0.50)\n",
        "    q2Df = pd.DataFrame({'metricas':q2.index, 'q2':q1.values})\n",
        "\n",
        "    q3 = tabela.quantile(0.75)\n",
        "    q3Df = pd.DataFrame({'metricas':q3.index, 'q3':q3.values})\n",
        "\n",
        "    quantile = pd.concat([q1Df['metricas'], q1Df['q1'], q2Df['q2'], q3Df['q3']], axis=1, ignore_index=True)\n",
        "    quantile.columns = ['metricas', 'quantil1(25%)', 'quantil2(50%)', 'quantil3(75%)']\n",
        "    \n",
        "    return quantile"
      ],
      "metadata": {
        "id": "WWJrd6PmXO53"
      },
      "execution_count": null,
      "outputs": []
    },
    {
      "cell_type": "code",
      "source": [
        "quantis = []\n",
        "for i in tabelas: \n",
        "  quantis.append(calculaQuantil(i))\n",
        "  \n",
        "dfQuantis = pd.concat(quantis)\n",
        "dfQuantis"
      ],
      "metadata": {
        "colab": {
          "base_uri": "https://localhost:8080/",
          "height": 359
        },
        "id": "4Iu7K7ZD1SfD",
        "outputId": "7e5c975e-8f3c-434c-c0cd-3277347c459a"
      },
      "execution_count": null,
      "outputs": [
        {
          "output_type": "execute_result",
          "data": {
            "text/plain": [
              "                                        metricas  quantil1(25%)  \\\n",
              "0                                ATENDIMENTO_ANO        2012.25   \n",
              "1       Quantidade_Ocorrencias_Atendidas_Por_Ano       22232.50   \n",
              "0                                 OCORRENCIA_ANO        2012.25   \n",
              "1     Quantidade_Ocorrencias_Registradas_Por_Ano       22235.50   \n",
              "0  Quantidade_Ocorrencias_Registradas_Por_Bairro           1.00   \n",
              "0               Quantidade_Ocorrencias_Flagrante      113927.00   \n",
              "0                Quantidade_Ocorrencias_Por_Tipo          11.00   \n",
              "0                 Quantidade_Ocorrencias_Por_Dia          56.00   \n",
              "0       Quantidade_Ocorrencias_Por_Dia_Da_Semana       56020.50   \n",
              "0            Quantidade_Ocorrencias_Por_Regional        2747.75   \n",
              "\n",
              "   quantil2(50%)  quantil3(75%)  \n",
              "0        2012.25        2018.75  \n",
              "1       22232.50       31707.00  \n",
              "0        2012.25        2018.75  \n",
              "1       22235.50       31713.00  \n",
              "0           1.00        2043.00  \n",
              "0      113927.00      304125.00  \n",
              "0          11.00         553.50  \n",
              "0          56.00          95.00  \n",
              "0       56020.50       62865.00  \n",
              "0        2747.75       37546.75  "
            ],
            "text/html": [
              "\n",
              "  <div id=\"df-381799f4-6e61-4288-a15d-370f693755a4\">\n",
              "    <div class=\"colab-df-container\">\n",
              "      <div>\n",
              "<style scoped>\n",
              "    .dataframe tbody tr th:only-of-type {\n",
              "        vertical-align: middle;\n",
              "    }\n",
              "\n",
              "    .dataframe tbody tr th {\n",
              "        vertical-align: top;\n",
              "    }\n",
              "\n",
              "    .dataframe thead th {\n",
              "        text-align: right;\n",
              "    }\n",
              "</style>\n",
              "<table border=\"1\" class=\"dataframe\">\n",
              "  <thead>\n",
              "    <tr style=\"text-align: right;\">\n",
              "      <th></th>\n",
              "      <th>metricas</th>\n",
              "      <th>quantil1(25%)</th>\n",
              "      <th>quantil2(50%)</th>\n",
              "      <th>quantil3(75%)</th>\n",
              "    </tr>\n",
              "  </thead>\n",
              "  <tbody>\n",
              "    <tr>\n",
              "      <th>0</th>\n",
              "      <td>ATENDIMENTO_ANO</td>\n",
              "      <td>2012.25</td>\n",
              "      <td>2012.25</td>\n",
              "      <td>2018.75</td>\n",
              "    </tr>\n",
              "    <tr>\n",
              "      <th>1</th>\n",
              "      <td>Quantidade_Ocorrencias_Atendidas_Por_Ano</td>\n",
              "      <td>22232.50</td>\n",
              "      <td>22232.50</td>\n",
              "      <td>31707.00</td>\n",
              "    </tr>\n",
              "    <tr>\n",
              "      <th>0</th>\n",
              "      <td>OCORRENCIA_ANO</td>\n",
              "      <td>2012.25</td>\n",
              "      <td>2012.25</td>\n",
              "      <td>2018.75</td>\n",
              "    </tr>\n",
              "    <tr>\n",
              "      <th>1</th>\n",
              "      <td>Quantidade_Ocorrencias_Registradas_Por_Ano</td>\n",
              "      <td>22235.50</td>\n",
              "      <td>22235.50</td>\n",
              "      <td>31713.00</td>\n",
              "    </tr>\n",
              "    <tr>\n",
              "      <th>0</th>\n",
              "      <td>Quantidade_Ocorrencias_Registradas_Por_Bairro</td>\n",
              "      <td>1.00</td>\n",
              "      <td>1.00</td>\n",
              "      <td>2043.00</td>\n",
              "    </tr>\n",
              "    <tr>\n",
              "      <th>0</th>\n",
              "      <td>Quantidade_Ocorrencias_Flagrante</td>\n",
              "      <td>113927.00</td>\n",
              "      <td>113927.00</td>\n",
              "      <td>304125.00</td>\n",
              "    </tr>\n",
              "    <tr>\n",
              "      <th>0</th>\n",
              "      <td>Quantidade_Ocorrencias_Por_Tipo</td>\n",
              "      <td>11.00</td>\n",
              "      <td>11.00</td>\n",
              "      <td>553.50</td>\n",
              "    </tr>\n",
              "    <tr>\n",
              "      <th>0</th>\n",
              "      <td>Quantidade_Ocorrencias_Por_Dia</td>\n",
              "      <td>56.00</td>\n",
              "      <td>56.00</td>\n",
              "      <td>95.00</td>\n",
              "    </tr>\n",
              "    <tr>\n",
              "      <th>0</th>\n",
              "      <td>Quantidade_Ocorrencias_Por_Dia_Da_Semana</td>\n",
              "      <td>56020.50</td>\n",
              "      <td>56020.50</td>\n",
              "      <td>62865.00</td>\n",
              "    </tr>\n",
              "    <tr>\n",
              "      <th>0</th>\n",
              "      <td>Quantidade_Ocorrencias_Por_Regional</td>\n",
              "      <td>2747.75</td>\n",
              "      <td>2747.75</td>\n",
              "      <td>37546.75</td>\n",
              "    </tr>\n",
              "  </tbody>\n",
              "</table>\n",
              "</div>\n",
              "      <button class=\"colab-df-convert\" onclick=\"convertToInteractive('df-381799f4-6e61-4288-a15d-370f693755a4')\"\n",
              "              title=\"Convert this dataframe to an interactive table.\"\n",
              "              style=\"display:none;\">\n",
              "        \n",
              "  <svg xmlns=\"http://www.w3.org/2000/svg\" height=\"24px\"viewBox=\"0 0 24 24\"\n",
              "       width=\"24px\">\n",
              "    <path d=\"M0 0h24v24H0V0z\" fill=\"none\"/>\n",
              "    <path d=\"M18.56 5.44l.94 2.06.94-2.06 2.06-.94-2.06-.94-.94-2.06-.94 2.06-2.06.94zm-11 1L8.5 8.5l.94-2.06 2.06-.94-2.06-.94L8.5 2.5l-.94 2.06-2.06.94zm10 10l.94 2.06.94-2.06 2.06-.94-2.06-.94-.94-2.06-.94 2.06-2.06.94z\"/><path d=\"M17.41 7.96l-1.37-1.37c-.4-.4-.92-.59-1.43-.59-.52 0-1.04.2-1.43.59L10.3 9.45l-7.72 7.72c-.78.78-.78 2.05 0 2.83L4 21.41c.39.39.9.59 1.41.59.51 0 1.02-.2 1.41-.59l7.78-7.78 2.81-2.81c.8-.78.8-2.07 0-2.86zM5.41 20L4 18.59l7.72-7.72 1.47 1.35L5.41 20z\"/>\n",
              "  </svg>\n",
              "      </button>\n",
              "      \n",
              "  <style>\n",
              "    .colab-df-container {\n",
              "      display:flex;\n",
              "      flex-wrap:wrap;\n",
              "      gap: 12px;\n",
              "    }\n",
              "\n",
              "    .colab-df-convert {\n",
              "      background-color: #E8F0FE;\n",
              "      border: none;\n",
              "      border-radius: 50%;\n",
              "      cursor: pointer;\n",
              "      display: none;\n",
              "      fill: #1967D2;\n",
              "      height: 32px;\n",
              "      padding: 0 0 0 0;\n",
              "      width: 32px;\n",
              "    }\n",
              "\n",
              "    .colab-df-convert:hover {\n",
              "      background-color: #E2EBFA;\n",
              "      box-shadow: 0px 1px 2px rgba(60, 64, 67, 0.3), 0px 1px 3px 1px rgba(60, 64, 67, 0.15);\n",
              "      fill: #174EA6;\n",
              "    }\n",
              "\n",
              "    [theme=dark] .colab-df-convert {\n",
              "      background-color: #3B4455;\n",
              "      fill: #D2E3FC;\n",
              "    }\n",
              "\n",
              "    [theme=dark] .colab-df-convert:hover {\n",
              "      background-color: #434B5C;\n",
              "      box-shadow: 0px 1px 3px 1px rgba(0, 0, 0, 0.15);\n",
              "      filter: drop-shadow(0px 1px 2px rgba(0, 0, 0, 0.3));\n",
              "      fill: #FFFFFF;\n",
              "    }\n",
              "  </style>\n",
              "\n",
              "      <script>\n",
              "        const buttonEl =\n",
              "          document.querySelector('#df-381799f4-6e61-4288-a15d-370f693755a4 button.colab-df-convert');\n",
              "        buttonEl.style.display =\n",
              "          google.colab.kernel.accessAllowed ? 'block' : 'none';\n",
              "\n",
              "        async function convertToInteractive(key) {\n",
              "          const element = document.querySelector('#df-381799f4-6e61-4288-a15d-370f693755a4');\n",
              "          const dataTable =\n",
              "            await google.colab.kernel.invokeFunction('convertToInteractive',\n",
              "                                                     [key], {});\n",
              "          if (!dataTable) return;\n",
              "\n",
              "          const docLinkHtml = 'Like what you see? Visit the ' +\n",
              "            '<a target=\"_blank\" href=https://colab.research.google.com/notebooks/data_table.ipynb>data table notebook</a>'\n",
              "            + ' to learn more about interactive tables.';\n",
              "          element.innerHTML = '';\n",
              "          dataTable['output_type'] = 'display_data';\n",
              "          await google.colab.output.renderOutput(dataTable, element);\n",
              "          const docLink = document.createElement('div');\n",
              "          docLink.innerHTML = docLinkHtml;\n",
              "          element.appendChild(docLink);\n",
              "        }\n",
              "      </script>\n",
              "    </div>\n",
              "  </div>\n",
              "  "
            ]
          },
          "metadata": {},
          "execution_count": 52
        }
      ]
    },
    {
      "cell_type": "markdown",
      "source": [
        "# **Funções para os gráficos**"
      ],
      "metadata": {
        "id": "F8sAoBEfTn_H"
      }
    },
    {
      "cell_type": "code",
      "source": [
        "def criaHistogramaComBins(title, table, bins, color, collumn = None):\n",
        "\n",
        "    plt.figure(figsize=(10,5))\n",
        "\n",
        "    plt.title(title, fontsize =13)\n",
        "\n",
        "    if collumn is None: \n",
        "\n",
        "        plt.hist((table), bins = np.array(bins), alpha = 0.8, color = color)\n",
        "\n",
        "    else:\n",
        "\n",
        "        plt.hist((table[collumn]), bins = np.array(bins), alpha = 0.8, color = color)\n",
        "        \n",
        "    plt.show"
      ],
      "metadata": {
        "id": "UFS13gNyXir6"
      },
      "execution_count": null,
      "outputs": []
    },
    {
      "cell_type": "code",
      "source": [
        "def plotScatter(collumnX, collumnY, table, title, color):\n",
        "    \n",
        "    sns.set_style('white')\n",
        "\n",
        "    plt.figure(figsize= (10, 10))\n",
        "\n",
        "    plt.title(title, fontsize = 13)\n",
        "\n",
        "    sns.scatterplot(x=collumnX, y=collumnY, data= table, color = color)\n",
        "\n",
        "    plt.show()"
      ],
      "metadata": {
        "id": "ODBxb6nhXj3n"
      },
      "execution_count": null,
      "outputs": []
    },
    {
      "cell_type": "code",
      "source": [
        "def criaGraficoPizza(table, y, label, title):\n",
        "    mycolors = ['plum', 'bisque']\n",
        "\n",
        "    plt.figure(figsize=(15,10), dpi=80)\n",
        "\n",
        "    plt.pie(table[y], labels = table[label], autopct = '%1.1f%%', colors = mycolors, frame = False)\n",
        "\n",
        "    #plt.legend()\n",
        "\n",
        "    plt.title(title)\n",
        "\n",
        "    plt.rcParams['axes.facecolor'] = 'white'\n",
        "\n",
        "    plt.show()"
      ],
      "metadata": {
        "id": "ChTn8_y9XmXm"
      },
      "execution_count": null,
      "outputs": []
    },
    {
      "cell_type": "code",
      "source": [
        "def criaGraficoLinha(table, x, y, title, xLabel, yLabel):\n",
        "    plt.figure(figsize=(10,5))\n",
        "\n",
        "    plt.plot(table[x], table[y])\n",
        "\n",
        "    plt.title(title)\n",
        "\n",
        "    plt.xlabel(xLabel)\n",
        "\n",
        "    plt.ylabel(yLabel)\n",
        "    \n",
        "    plt.show()"
      ],
      "metadata": {
        "id": "BEFIUdfxS-JB"
      },
      "execution_count": null,
      "outputs": []
    },
    {
      "cell_type": "code",
      "source": [
        "def criaGraficoDistribuicao(table, coluna):\n",
        "    plt.figure(figsize=(10,5))\n",
        "    sns.distplot(table[coluna])"
      ],
      "metadata": {
        "id": "N-Ists6TUR29"
      },
      "execution_count": null,
      "outputs": []
    },
    {
      "cell_type": "code",
      "source": [
        "def criaGraficoBoxplot(table, x):\n",
        "    plt.figure(figsize=(10,5))\n",
        "    sns.boxplot(data=table, x=x)"
      ],
      "metadata": {
        "id": "_DRCzfedpYSr"
      },
      "execution_count": null,
      "outputs": []
    },
    {
      "cell_type": "markdown",
      "source": [
        "# **Visualizações dos dados**"
      ],
      "metadata": {
        "id": "_lLwyDLJtUMe"
      }
    },
    {
      "cell_type": "markdown",
      "source": [
        "####**Ocorrencias Atendidas Por Ano**"
      ],
      "metadata": {
        "id": "IX75pzrFjmQm"
      }
    },
    {
      "cell_type": "code",
      "source": [
        "criaGraficoLinha(ocorrenciasAtendidasPorAno, 'ATENDIMENTO_ANO', 'Quantidade_Ocorrencias_Atendidas_Por_Ano', 'Quantidade_Ocorrencias_Atendidas_Por_Ano', 'ATENDIMENTO_ANO', 'Quantidade Ocorrencias')"
      ],
      "metadata": {
        "colab": {
          "base_uri": "https://localhost:8080/",
          "height": 351
        },
        "id": "ytrjvRL2TiiW",
        "outputId": "07cee9b6-d37f-41e1-8dde-19284b2eb822"
      },
      "execution_count": null,
      "outputs": [
        {
          "output_type": "display_data",
          "data": {
            "text/plain": [
              "<Figure size 720x360 with 1 Axes>"
            ],
            "image/png": "[encoded data removed]"
          },
          "metadata": {
            "needs_background": "light"
          }
        }
      ]
    },
    {
      "cell_type": "code",
      "source": [
        "criaGraficoDistribuicao(ocorrenciasAtendidasPorAno, 'Quantidade_Ocorrencias_Atendidas_Por_Ano')"
      ],
      "metadata": {
        "colab": {
          "base_uri": "https://localhost:8080/",
          "height": 400
        },
        "id": "aMf3twifpnun",
        "outputId": "a35505d2-4d56-41e5-df50-17fc1e80c957"
      },
      "execution_count": null,
      "outputs": [
        {
          "output_type": "stream",
          "name": "stderr",
          "text": [
            "/usr/local/lib/python3.7/dist-packages/seaborn/distributions.py:2619: FutureWarning: `distplot` is a deprecated function and will be removed in a future version. Please adapt your code to use either `displot` (a figure-level function with similar flexibility) or `histplot` (an axes-level function for histograms).\n",
            "  warnings.warn(msg, FutureWarning)\n"
          ]
        },
        {
          "output_type": "display_data",
          "data": {
            "text/plain": [
              "<Figure size 720x360 with 1 Axes>"
            ],
            "image/png": "[encoded data removed]"
          },
          "metadata": {
            "needs_background": "light"
          }
        }
      ]
    },
    {
      "cell_type": "code",
      "source": [
        "criaGraficoBoxplot(ocorrenciasAtendidasPorAno, 'Quantidade_Ocorrencias_Atendidas_Por_Ano')"
      ],
      "metadata": {
        "colab": {
          "base_uri": "https://localhost:8080/",
          "height": 335
        },
        "id": "ScqIQJhYr5oD",
        "outputId": "464cb13d-36ab-4983-ee8f-70836cbd41be"
      },
      "execution_count": null,
      "outputs": [
        {
          "output_type": "display_data",
          "data": {
            "text/plain": [
              "<Figure size 720x360 with 1 Axes>"
            ],
            "image/png": "[encoded data removed]"
          },
          "metadata": {
            "needs_background": "light"
          }
        }
      ]
    },
    {
      "cell_type": "code",
      "source": [
        "bins = [500, 10000, 20000, 30000, 40000]\n",
        "\n",
        "criaHistogramaComBins('Quantidade_Ocorrencias_Atendidas_Por_Ano', ocorrenciasAtendidasPorAno, bins, 'mediumaquamarine', 'Quantidade_Ocorrencias_Atendidas_Por_Ano')"
      ],
      "metadata": {
        "colab": {
          "base_uri": "https://localhost:8080/",
          "height": 336
        },
        "id": "gJF6057dkMML",
        "outputId": "73a1ac9e-2f2f-4a80-a6a1-bd91e5bd5d4c"
      },
      "execution_count": null,
      "outputs": [
        {
          "output_type": "display_data",
          "data": {
            "text/plain": [
              "<Figure size 720x360 with 1 Axes>"
            ],
            "image/png": "[encoded data removed]"
          },
          "metadata": {
            "needs_background": "light"
          }
        }
      ]
    },
    {
      "cell_type": "code",
      "source": [
        "bins = [50000, 60000, 70000, 80000, 100000]\n",
        "\n",
        "criaHistogramaComBins('Quantidade_Ocorrencias_Atendidas_Por_Ano', ocorrenciasAtendidasPorAno, bins, 'mediumaquamarine', 'Quantidade_Ocorrencias_Atendidas_Por_Ano')"
      ],
      "metadata": {
        "colab": {
          "base_uri": "https://localhost:8080/",
          "height": 336
        },
        "id": "PX3aKcq4khUT",
        "outputId": "be52f9f6-179c-4f7b-846a-f83da901b495"
      },
      "execution_count": null,
      "outputs": [
        {
          "output_type": "display_data",
          "data": {
            "text/plain": [
              "<Figure size 720x360 with 1 Axes>"
            ],
            "image/png": "[encoded data removed]"
          },
          "metadata": {
            "needs_background": "light"
          }
        }
      ]
    },
    {
      "cell_type": "markdown",
      "source": [
        "####**Ocorrencias Registradas Por Ano**\n"
      ],
      "metadata": {
        "id": "sX1XDU_YnEF9"
      }
    },
    {
      "cell_type": "code",
      "source": [
        "criaGraficoLinha(ocorrenciasRegistradasPorAno, 'OCORRENCIA_ANO', 'Quantidade_Ocorrencias_Registradas_Por_Ano', 'Quantidade_Ocorrencias_Registradas_Por_Ano', 'OCORRENCIA_ANO', 'Quantidade Ocorrencias')"
      ],
      "metadata": {
        "colab": {
          "base_uri": "https://localhost:8080/",
          "height": 351
        },
        "id": "IcARFI1C6H85",
        "outputId": "0276a18a-9ce6-4248-8625-5978651120b3"
      },
      "execution_count": null,
      "outputs": [
        {
          "output_type": "display_data",
          "data": {
            "text/plain": [
              "<Figure size 720x360 with 1 Axes>"
            ],
            "image/png": "[encoded data removed]"
          },
          "metadata": {
            "needs_background": "light"
          }
        }
      ]
    },
    {
      "cell_type": "code",
      "source": [
        "criaGraficoDistribuicao(ocorrenciasRegistradasPorAno, 'Quantidade_Ocorrencias_Registradas_Por_Ano')"
      ],
      "metadata": {
        "colab": {
          "base_uri": "https://localhost:8080/",
          "height": 400
        },
        "id": "RVokKXbN9T0G",
        "outputId": "c97e739f-03f2-49c6-a93f-f8cd02e515be"
      },
      "execution_count": null,
      "outputs": [
        {
          "output_type": "stream",
          "name": "stderr",
          "text": [
            "/usr/local/lib/python3.7/dist-packages/seaborn/distributions.py:2619: FutureWarning: `distplot` is a deprecated function and will be removed in a future version. Please adapt your code to use either `displot` (a figure-level function with similar flexibility) or `histplot` (an axes-level function for histograms).\n",
            "  warnings.warn(msg, FutureWarning)\n"
          ]
        },
        {
          "output_type": "display_data",
          "data": {
            "text/plain": [
              "<Figure size 720x360 with 1 Axes>"
            ],
            "image/png": "[encoded data removed]"
          },
          "metadata": {
            "needs_background": "light"
          }
        }
      ]
    },
    {
      "cell_type": "code",
      "source": [
        "criaGraficoBoxplot(ocorrenciasRegistradasPorAno, 'Quantidade_Ocorrencias_Registradas_Por_Ano')"
      ],
      "metadata": {
        "colab": {
          "base_uri": "https://localhost:8080/",
          "height": 335
        },
        "id": "5A4q71XT9fsy",
        "outputId": "f3d5e89a-1fb9-4d85-87ba-f606a7b371f1"
      },
      "execution_count": null,
      "outputs": [
        {
          "output_type": "display_data",
          "data": {
            "text/plain": [
              "<Figure size 720x360 with 1 Axes>"
            ],
            "image/png": "[encoded data removed]"
          },
          "metadata": {
            "needs_background": "light"
          }
        }
      ]
    },
    {
      "cell_type": "code",
      "source": [
        "bins = [500, 10000, 20000, 30000, 40000]\n",
        "\n",
        "criaHistogramaComBins('Quantidade_Ocorrencias_Registradas_Por_Ano', ocorrenciasRegistradasPorAno, bins, 'mediumaquamarine', 'Quantidade_Ocorrencias_Registradas_Por_Ano')"
      ],
      "metadata": {
        "colab": {
          "base_uri": "https://localhost:8080/",
          "height": 336
        },
        "id": "egtleqGg-I9r",
        "outputId": "692ce6a6-8e0b-44b4-e5ba-5848d785eae5"
      },
      "execution_count": null,
      "outputs": [
        {
          "output_type": "display_data",
          "data": {
            "text/plain": [
              "<Figure size 720x360 with 1 Axes>"
            ],
            "image/png": "[encoded data removed]"
          },
          "metadata": {
            "needs_background": "light"
          }
        }
      ]
    },
    {
      "cell_type": "code",
      "source": [
        "bins = [50000, 60000, 70000, 80000, 100000]\n",
        "\n",
        "criaHistogramaComBins('Quantidade_Ocorrencias_Registradas_Por_Ano', ocorrenciasRegistradasPorAno, bins, 'mediumaquamarine', 'Quantidade_Ocorrencias_Registradas_Por_Ano')"
      ],
      "metadata": {
        "colab": {
          "base_uri": "https://localhost:8080/",
          "height": 336
        },
        "id": "9bE-8PvT-Sxs",
        "outputId": "097a8d72-1ad7-42ff-dcce-8c0b25ffbb0a"
      },
      "execution_count": null,
      "outputs": [
        {
          "output_type": "display_data",
          "data": {
            "text/plain": [
              "<Figure size 720x360 with 1 Axes>"
            ],
            "image/png": "[encoded data removed]"
          },
          "metadata": {
            "needs_background": "light"
          }
        }
      ]
    },
    {
      "cell_type": "markdown",
      "source": [
        "####**Ocorrencias Por Bairro**\n"
      ],
      "metadata": {
        "id": "MUtoKpTxnX60"
      }
    },
    {
      "cell_type": "code",
      "source": [
        "criaGraficoDistribuicao(ocorrenciasPorBairro, 'Quantidade_Ocorrencias_Registradas_Por_Bairro')"
      ],
      "metadata": {
        "colab": {
          "base_uri": "https://localhost:8080/",
          "height": 390
        },
        "id": "g4dr6Y5t_cN2",
        "outputId": "28003b78-b17c-48e1-c714-1f11765f2806"
      },
      "execution_count": null,
      "outputs": [
        {
          "output_type": "stream",
          "name": "stderr",
          "text": [
            "/usr/local/lib/python3.7/dist-packages/seaborn/distributions.py:2619: FutureWarning: `distplot` is a deprecated function and will be removed in a future version. Please adapt your code to use either `displot` (a figure-level function with similar flexibility) or `histplot` (an axes-level function for histograms).\n",
            "  warnings.warn(msg, FutureWarning)\n"
          ]
        },
        {
          "output_type": "display_data",
          "data": {
            "text/plain": [
              "<Figure size 720x360 with 1 Axes>"
            ],
            "image/png": "[encoded data removed]"
          },
          "metadata": {
            "needs_background": "light"
          }
        }
      ]
    },
    {
      "cell_type": "code",
      "source": [
        "criaGraficoBoxplot(ocorrenciasPorBairro, 'Quantidade_Ocorrencias_Registradas_Por_Bairro')"
      ],
      "metadata": {
        "colab": {
          "base_uri": "https://localhost:8080/",
          "height": 335
        },
        "id": "cujTw5wvniXr",
        "outputId": "46648307-888b-438b-d313-4f409e12f0ec"
      },
      "execution_count": null,
      "outputs": [
        {
          "output_type": "display_data",
          "data": {
            "text/plain": [
              "<Figure size 720x360 with 1 Axes>"
            ],
            "image/png": "[encoded data removed]"
          },
          "metadata": {
            "needs_background": "light"
          }
        }
      ]
    },
    {
      "cell_type": "code",
      "source": [
        "bins = [500, 10000, 20000, 30000, 40000]\n",
        "\n",
        "criaHistogramaComBins('Quantidade_Ocorrencias_Registradas_Por_Bairro', ocorrenciasPorBairro, bins, 'mediumaquamarine', 'Quantidade_Ocorrencias_Registradas_Por_Bairro')\n"
      ],
      "metadata": {
        "colab": {
          "base_uri": "https://localhost:8080/",
          "height": 336
        },
        "id": "-pqKZu7DBUp-",
        "outputId": "12593818-226e-456e-cee3-ad4ebcd2b0e4"
      },
      "execution_count": null,
      "outputs": [
        {
          "output_type": "display_data",
          "data": {
            "text/plain": [
              "<Figure size 720x360 with 1 Axes>"
            ],
            "image/png": "[encoded data removed]"
          },
          "metadata": {
            "needs_background": "light"
          }
        }
      ]
    },
    {
      "cell_type": "code",
      "source": [
        "bins = [50000, 60000, 70000, 80000, 100000]\n",
        "\n",
        "criaHistogramaComBins('Quantidade_Ocorrencias_Registradas_Por_Bairro', ocorrenciasPorBairro, bins, 'mediumaquamarine', 'Quantidade_Ocorrencias_Registradas_Por_Bairro')"
      ],
      "metadata": {
        "colab": {
          "base_uri": "https://localhost:8080/",
          "height": 336
        },
        "id": "nfv7_zvCAvOu",
        "outputId": "a168b387-f58d-45b0-cd86-8b936126ecb7"
      },
      "execution_count": null,
      "outputs": [
        {
          "output_type": "display_data",
          "data": {
            "text/plain": [
              "<Figure size 720x360 with 1 Axes>"
            ],
            "image/png": "[encoded data removed]"
          },
          "metadata": {
            "needs_background": "light"
          }
        }
      ]
    },
    {
      "cell_type": "markdown",
      "source": [
        "####**Ocorrencias Flagrante**"
      ],
      "metadata": {
        "id": "d7rCLyprnjcw"
      }
    },
    {
      "cell_type": "code",
      "source": [
        "quantidadeOcorrenciasFlagranteGraficoPizza = criaGraficoPizza(ocorrenciasFlagrante, 'Quantidade_Ocorrencias_Flagrante', 'FLAG_FLAGRANTE', 'Quantidade_Ocorrencias_Flagrante')"
      ],
      "metadata": {
        "colab": {
          "base_uri": "https://localhost:8080/",
          "height": 653
        },
        "id": "lx65ePiMCkUg",
        "outputId": "3f0b3810-2d80-41b3-9d1d-f7b69af84850"
      },
      "execution_count": null,
      "outputs": [
        {
          "output_type": "display_data",
          "data": {
            "text/plain": [
              "<Figure size 1200x800 with 1 Axes>"
            ],
            "image/png": "[encoded data removed]"
          },
          "metadata": {}
        }
      ]
    },
    {
      "cell_type": "markdown",
      "source": [
        "####**Ocorrencias Por Tipo**\n"
      ],
      "metadata": {
        "id": "tYoI33jp4DwP"
      }
    },
    {
      "cell_type": "code",
      "source": [
        "criaGraficoDistribuicao(ocorrenciasPorTipo, 'Quantidade_Ocorrencias_Por_Tipo')"
      ],
      "metadata": {
        "colab": {
          "base_uri": "https://localhost:8080/",
          "height": 389
        },
        "id": "jPuCyP0PHPWd",
        "outputId": "3d8866a1-20c8-46ba-91ae-550787baebc0"
      },
      "execution_count": null,
      "outputs": [
        {
          "output_type": "stream",
          "name": "stderr",
          "text": [
            "/usr/local/lib/python3.7/dist-packages/seaborn/distributions.py:2619: FutureWarning: `distplot` is a deprecated function and will be removed in a future version. Please adapt your code to use either `displot` (a figure-level function with similar flexibility) or `histplot` (an axes-level function for histograms).\n",
            "  warnings.warn(msg, FutureWarning)\n"
          ]
        },
        {
          "output_type": "display_data",
          "data": {
            "text/plain": [
              "<Figure size 720x360 with 1 Axes>"
            ],
            "image/png": "[encoded data removed]"
          },
          "metadata": {
            "needs_background": "light"
          }
        }
      ]
    },
    {
      "cell_type": "code",
      "source": [
        "criaGraficoBoxplot(ocorrenciasPorTipo, 'Quantidade_Ocorrencias_Por_Tipo')"
      ],
      "metadata": {
        "colab": {
          "base_uri": "https://localhost:8080/",
          "height": 335
        },
        "id": "VcxrRyWfHyz5",
        "outputId": "da853941-05f1-45db-f617-567f7576c50b"
      },
      "execution_count": null,
      "outputs": [
        {
          "output_type": "display_data",
          "data": {
            "text/plain": [
              "<Figure size 720x360 with 1 Axes>"
            ],
            "image/png": "[encoded data removed]"
          },
          "metadata": {
            "needs_background": "light"
          }
        }
      ]
    },
    {
      "cell_type": "markdown",
      "source": [
        "####**Ocorrencias Por Dia**\n"
      ],
      "metadata": {
        "id": "M7kQ2T335X7e"
      }
    },
    {
      "cell_type": "code",
      "source": [
        "criaGraficoDistribuicao(ocorrenciasPorDia, 'Quantidade_Ocorrencias_Por_Dia')"
      ],
      "metadata": {
        "colab": {
          "base_uri": "https://localhost:8080/",
          "height": 392
        },
        "id": "HuRmdFP9HS4O",
        "outputId": "c0030f96-6ad2-4221-b539-5f3a83c1210a"
      },
      "execution_count": null,
      "outputs": [
        {
          "output_type": "stream",
          "name": "stderr",
          "text": [
            "/usr/local/lib/python3.7/dist-packages/seaborn/distributions.py:2619: FutureWarning: `distplot` is a deprecated function and will be removed in a future version. Please adapt your code to use either `displot` (a figure-level function with similar flexibility) or `histplot` (an axes-level function for histograms).\n",
            "  warnings.warn(msg, FutureWarning)\n"
          ]
        },
        {
          "output_type": "display_data",
          "data": {
            "text/plain": [
              "<Figure size 720x360 with 1 Axes>"
            ],
            "image/png": "[encoded data removed]"
          },
          "metadata": {
            "needs_background": "light"
          }
        }
      ]
    },
    {
      "cell_type": "code",
      "source": [
        "criaGraficoBoxplot(ocorrenciasPorDia, 'Quantidade_Ocorrencias_Por_Dia')"
      ],
      "metadata": {
        "colab": {
          "base_uri": "https://localhost:8080/",
          "height": 335
        },
        "id": "-C0301nTH1J0",
        "outputId": "7266c3f8-1e70-4519-8219-07703eb318f2"
      },
      "execution_count": null,
      "outputs": [
        {
          "output_type": "display_data",
          "data": {
            "text/plain": [
              "<Figure size 720x360 with 1 Axes>"
            ],
            "image/png": "[encoded data removed]"
          },
          "metadata": {
            "needs_background": "light"
          }
        }
      ]
    },
    {
      "cell_type": "markdown",
      "source": [
        "####**Ocorrencias Por Dia Da Semana**\n"
      ],
      "metadata": {
        "id": "XQkkgRAi4my1"
      }
    },
    {
      "cell_type": "code",
      "source": [
        "criaGraficoLinha(ocorrenciasPorDiaDaSemana, 'OCORRENCIA_DIA_SEMANA', 'Quantidade_Ocorrencias_Por_Dia_Da_Semana', 'Quantidade_Ocorrencias_Por_Dia_Da_Semana', 'OCORRENCIA_DIA_SEMANA', 'Quantidade Ocorrencias')"
      ],
      "metadata": {
        "colab": {
          "base_uri": "https://localhost:8080/",
          "height": 351
        },
        "id": "Fs2N3GjTGw-k",
        "outputId": "88b582d4-d122-43a1-9072-e305da96fffd"
      },
      "execution_count": null,
      "outputs": [
        {
          "output_type": "display_data",
          "data": {
            "text/plain": [
              "<Figure size 720x360 with 1 Axes>"
            ],
            "image/png": "[encoded data removed]"
          },
          "metadata": {
            "needs_background": "light"
          }
        }
      ]
    },
    {
      "cell_type": "code",
      "source": [
        "criaGraficoDistribuicao(ocorrenciasPorDiaDaSemana, 'Quantidade_Ocorrencias_Por_Dia_Da_Semana')"
      ],
      "metadata": {
        "colab": {
          "base_uri": "https://localhost:8080/",
          "height": 400
        },
        "id": "sadIZm0tHUSN",
        "outputId": "98476464-35c8-4f04-f841-73f650bcff7d"
      },
      "execution_count": null,
      "outputs": [
        {
          "output_type": "stream",
          "name": "stderr",
          "text": [
            "/usr/local/lib/python3.7/dist-packages/seaborn/distributions.py:2619: FutureWarning: `distplot` is a deprecated function and will be removed in a future version. Please adapt your code to use either `displot` (a figure-level function with similar flexibility) or `histplot` (an axes-level function for histograms).\n",
            "  warnings.warn(msg, FutureWarning)\n"
          ]
        },
        {
          "output_type": "display_data",
          "data": {
            "text/plain": [
              "<Figure size 720x360 with 1 Axes>"
            ],
            "image/png": "[encoded data removed]"
          },
          "metadata": {
            "needs_background": "light"
          }
        }
      ]
    },
    {
      "cell_type": "code",
      "source": [
        "criaGraficoBoxplot(ocorrenciasPorDiaDaSemana, 'Quantidade_Ocorrencias_Por_Dia_Da_Semana')"
      ],
      "metadata": {
        "colab": {
          "base_uri": "https://localhost:8080/",
          "height": 335
        },
        "id": "eClkb2HKH3Wx",
        "outputId": "4e5d552f-37ce-4c58-d49f-829799a1011d"
      },
      "execution_count": null,
      "outputs": [
        {
          "output_type": "display_data",
          "data": {
            "text/plain": [
              "<Figure size 720x360 with 1 Axes>"
            ],
            "image/png": "[encoded data removed]"
          },
          "metadata": {
            "needs_background": "light"
          }
        }
      ]
    },
    {
      "cell_type": "markdown",
      "source": [
        "####**Ocorrencias Por Regional**"
      ],
      "metadata": {
        "id": "ZS0iJ3RZ4-y_"
      }
    },
    {
      "cell_type": "code",
      "source": [
        "criaGraficoDistribuicao(ocorrenciasPorRegional, 'Quantidade_Ocorrencias_Por_Regional')"
      ],
      "metadata": {
        "colab": {
          "base_uri": "https://localhost:8080/",
          "height": 400
        },
        "id": "8z-X5i36HWis",
        "outputId": "61aaac01-9582-4e8c-e7d5-d35b7039468f"
      },
      "execution_count": null,
      "outputs": [
        {
          "output_type": "stream",
          "name": "stderr",
          "text": [
            "/usr/local/lib/python3.7/dist-packages/seaborn/distributions.py:2619: FutureWarning: `distplot` is a deprecated function and will be removed in a future version. Please adapt your code to use either `displot` (a figure-level function with similar flexibility) or `histplot` (an axes-level function for histograms).\n",
            "  warnings.warn(msg, FutureWarning)\n"
          ]
        },
        {
          "output_type": "display_data",
          "data": {
            "text/plain": [
              "<Figure size 720x360 with 1 Axes>"
            ],
            "image/png": "[encoded data removed]"
          },
          "metadata": {
            "needs_background": "light"
          }
        }
      ]
    },
    {
      "cell_type": "code",
      "source": [
        "criaGraficoBoxplot(ocorrenciasPorRegional, 'Quantidade_Ocorrencias_Por_Regional')"
      ],
      "metadata": {
        "colab": {
          "base_uri": "https://localhost:8080/",
          "height": 335
        },
        "id": "o5RqzywyIN2e",
        "outputId": "682c521b-ddbd-4ef8-8f78-ef19aae70e1c"
      },
      "execution_count": null,
      "outputs": [
        {
          "output_type": "display_data",
          "data": {
            "text/plain": [
              "<Figure size 720x360 with 1 Axes>"
            ],
            "image/png": "[encoded data removed]"
          },
          "metadata": {
            "needs_background": "light"
          }
        }
      ]
    },
    {
      "cell_type": "code",
      "source": [],
      "metadata": {
        "id": "NN69lcfjTvna"
      },
      "execution_count": null,
      "outputs": []
    },
    {
      "cell_type": "code",
      "source": [],
      "metadata": {
        "id": "BSA_LU-zTwLV"
      },
      "execution_count": null,
      "outputs": []
    },
    {
      "cell_type": "code",
      "source": [],
      "metadata": {
        "id": "Eiqr0lTnTwCH"
      },
      "execution_count": null,
      "outputs": []
    },
    {
      "cell_type": "code",
      "source": [],
      "metadata": {
        "id": "5uPQzhCNTv3Y"
      },
      "execution_count": null,
      "outputs": []
    },
    {
      "cell_type": "markdown",
      "source": [
        "# **Análises com Spark**"
      ],
      "metadata": {
        "id": "_nJJDs5zTeRt"
      }
    },
    {
      "cell_type": "markdown",
      "source": [
        "### **Configurando o Spark**"
      ],
      "metadata": {
        "id": "k3IJHFgirrMF"
      }
    },
    {
      "cell_type": "code",
      "source": [
        "# install java\n",
        "!apt-get install openjdk-8-jdk-headless -qq > /dev/null\n",
        "\n",
        "# install spark (change the version number if needed)\n",
        "!wget -q https://archive.apache.org/dist/spark/spark-3.0.0/spark-3.0.0-bin-hadoop3.2.tgz\n",
        "\n",
        "# unzip the spark file to the current folder\n",
        "!tar xf spark-3.0.0-bin-hadoop3.2.tgz\n",
        "\n",
        "# set your spark folder to your system path environment. \n",
        "import os\n",
        "os.environ[\"JAVA_HOME\"] = \"/usr/lib/jvm/java-8-openjdk-amd64\"\n",
        "os.environ[\"SPARK_HOME\"] = \"/content/spark-3.0.0-bin-hadoop3.2\"\n",
        "\n",
        "\n",
        "# install findspark using pip\n",
        "!pip install -q findspark"
      ],
      "metadata": {
        "id": "3E3h3k0rbJkX"
      },
      "execution_count": null,
      "outputs": []
    },
    {
      "cell_type": "code",
      "source": [
        "import findspark\n",
        "findspark.init()\n",
        "\n",
        "import pyspark\n",
        "from pyspark.sql import SparkSession"
      ],
      "metadata": {
        "id": "XzVHS6oky1is"
      },
      "execution_count": null,
      "outputs": []
    },
    {
      "cell_type": "code",
      "source": [
        "spark = SparkSession.builder\\\n",
        "        .master(\"local\")\\\n",
        "        .appName(\"Colab\")\\\n",
        "        .config('spark.ui.port', '4050')\\\n",
        "        .getOrCreate()"
      ],
      "metadata": {
        "id": "pHuFS2--nDep"
      },
      "execution_count": null,
      "outputs": []
    },
    {
      "cell_type": "markdown",
      "source": [
        "### **Informação do dataset**"
      ],
      "metadata": {
        "id": "Y5SjtMfPh_z3"
      }
    },
    {
      "cell_type": "code",
      "source": [
        "sparkDF=spark.createDataFrame(df2) \n",
        "sparkDF.printSchema()\n",
        "sparkDF.show()"
      ],
      "metadata": {
        "colab": {
          "base_uri": "https://localhost:8080/"
        },
        "id": "4bN1t17jEdgd",
        "outputId": "0229c726-a412-4243-fc53-2c1ca187cf93"
      },
      "execution_count": null,
      "outputs": [
        {
          "output_type": "stream",
          "name": "stdout",
          "text": [
            "root\n",
            " |-- ATENDIMENTO_ANO: double (nullable = true)\n",
            " |-- OCORRENCIA_ANO: long (nullable = true)\n",
            " |-- ATENDIMENTO_BAIRRO_NOME: string (nullable = true)\n",
            " |-- FLAG_FLAGRANTE: string (nullable = true)\n",
            " |-- NATUREZA1_DESCRICAO: string (nullable = true)\n",
            " |-- OCORRENCIA_DATA: string (nullable = true)\n",
            " |-- OCORRENCIA_DIA_SEMANA: string (nullable = true)\n",
            " |-- REGIONAL_FATO_NOME: string (nullable = true)\n",
            " |-- QUANTIDADE_OCORRENCIA: long (nullable = true)\n",
            "\n",
            "+---------------+--------------+-----------------------+--------------+-------------------+---------------+---------------------+------------------+---------------------+\n",
            "|ATENDIMENTO_ANO|OCORRENCIA_ANO|ATENDIMENTO_BAIRRO_NOME|FLAG_FLAGRANTE|NATUREZA1_DESCRICAO|OCORRENCIA_DATA|OCORRENCIA_DIA_SEMANA|REGIONAL_FATO_NOME|QUANTIDADE_OCORRENCIA|\n",
            "+---------------+--------------+-----------------------+--------------+-------------------+---------------+---------------------+------------------+---------------------+\n",
            "|         2009.0|          2009|              ABRANCHES|           NÃO|               AIFU|     2009-05-17|              DOMINGO|         BOA VISTA|                    1|\n",
            "|         2009.0|          2009|              ABRANCHES|           NÃO|               AIFU|     2009-05-28|               QUINTA|         BOA VISTA|                    1|\n",
            "|         2009.0|          2009|              ABRANCHES|           NÃO|               AIFU|     2009-07-23|               QUINTA|         BOA VISTA|                    1|\n",
            "|         2009.0|          2009|              ABRANCHES|           NÃO|         Alagamento|     2009-11-16|              SEGUNDA|         BOA VISTA|                    1|\n",
            "|         2009.0|          2009|              ABRANCHES|           NÃO|            Alarmes|     2009-09-03|               QUINTA|         BOA VISTA|                    1|\n",
            "|         2009.0|          2009|              ABRANCHES|           NÃO|            Alarmes|     2009-09-27|              DOMINGO|         BOA VISTA|                    1|\n",
            "|         2009.0|          2009|              ABRANCHES|           NÃO|            Alarmes|     2009-11-07|               SÁBADO|         BOA VISTA|                    1|\n",
            "|         2009.0|          2009|              ABRANCHES|           NÃO|            Animais|     2009-01-04|              DOMINGO|         BOA VISTA|                    1|\n",
            "|         2009.0|          2009|              ABRANCHES|           NÃO|            Animais|     2009-01-07|               QUARTA|         BOA VISTA|                    4|\n",
            "|         2009.0|          2009|              ABRANCHES|           NÃO|            Animais|     2009-02-06|                SEXTA|         BOA VISTA|                    1|\n",
            "|         2009.0|          2009|              ABRANCHES|           NÃO|            Animais|     2009-02-16|              SEGUNDA|         BOA VISTA|                    1|\n",
            "|         2009.0|          2009|              ABRANCHES|           NÃO|            Animais|     2009-04-07|                TERÇA|         BOA VISTA|                    1|\n",
            "|         2009.0|          2009|              ABRANCHES|           NÃO|            Animais|     2009-04-23|               QUINTA|         BOA VISTA|                    1|\n",
            "|         2009.0|          2009|              ABRANCHES|           NÃO|            Animais|     2009-05-11|              SEGUNDA|         BOA VISTA|                    1|\n",
            "|         2009.0|          2009|              ABRANCHES|           NÃO|            Animais|     2009-06-27|               SÁBADO|         BOA VISTA|                    1|\n",
            "|         2009.0|          2009|              ABRANCHES|           NÃO|            Animais|     2009-07-03|                SEXTA|         BOA VISTA|                    1|\n",
            "|         2009.0|          2009|              ABRANCHES|           NÃO|            Animais|     2009-07-22|               QUARTA|         BOA VISTA|                    1|\n",
            "|         2009.0|          2009|              ABRANCHES|           NÃO|            Animais|     2009-08-04|                TERÇA|         BOA VISTA|                    1|\n",
            "|         2009.0|          2009|              ABRANCHES|           NÃO|            Animais|     2009-08-27|               QUINTA|         BOA VISTA|                    1|\n",
            "|         2009.0|          2009|              ABRANCHES|           NÃO|            Animais|     2009-09-20|              DOMINGO|         BOA VISTA|                    1|\n",
            "+---------------+--------------+-----------------------+--------------+-------------------+---------------+---------------------+------------------+---------------------+\n",
            "only showing top 20 rows\n",
            "\n"
          ]
        }
      ]
    },
    {
      "cell_type": "code",
      "source": [
        "sparkDF.head()"
      ],
      "metadata": {
        "colab": {
          "base_uri": "https://localhost:8080/"
        },
        "id": "7Isp2XD0Bzqp",
        "outputId": "8c11b022-ed4a-4323-9451-bbe1e5c31738"
      },
      "execution_count": null,
      "outputs": [
        {
          "output_type": "execute_result",
          "data": {
            "text/plain": [
              "Row(ATENDIMENTO_ANO=2009.0, OCORRENCIA_ANO=2009, ATENDIMENTO_BAIRRO_NOME='ABRANCHES', FLAG_FLAGRANTE='NÃO', NATUREZA1_DESCRICAO='AIFU', OCORRENCIA_DATA='2009-05-17', OCORRENCIA_DIA_SEMANA='DOMINGO', REGIONAL_FATO_NOME='BOA VISTA', QUANTIDADE_OCORRENCIA=1)"
            ]
          },
          "metadata": {},
          "execution_count": 87
        }
      ]
    },
    {
      "cell_type": "code",
      "source": [
        "sparkDF.describe().show()"
      ],
      "metadata": {
        "colab": {
          "base_uri": "https://localhost:8080/"
        },
        "id": "aeGEbShgogu5",
        "outputId": "bc794340-ac84-47ed-f96d-f0f4318c0839"
      },
      "execution_count": null,
      "outputs": [
        {
          "output_type": "stream",
          "name": "stdout",
          "text": [
            "+-------+------------------+------------------+-----------------------+--------------+-------------------+---------------+---------------------+------------------+---------------------+\n",
            "|summary|   ATENDIMENTO_ANO|    OCORRENCIA_ANO|ATENDIMENTO_BAIRRO_NOME|FLAG_FLAGRANTE|NATUREZA1_DESCRICAO|OCORRENCIA_DATA|OCORRENCIA_DIA_SEMANA|REGIONAL_FATO_NOME|QUANTIDADE_OCORRENCIA|\n",
            "+-------+------------------+------------------+-----------------------+--------------+-------------------+---------------+---------------------+------------------+---------------------+\n",
            "|  count|            323781|            323781|                 323781|        323781|             323781|         323781|               323781|            323781|               323781|\n",
            "|   mean|2016.2981706770934|2016.2980749333653|                   null|          null|               null|           null|                 null|              null|   1.2906439846686495|\n",
            "| stddev|  4.12142061320426| 4.121393441914671|                   null|          null|               null|           null|                 null|              null|   1.3256474808587768|\n",
            "|    min|            2009.0|              2009|          JARDIM OSASCO|           NÃO|               AIFU|     2009-01-01|              DOMINGO|       BAIRRO NOVO|                    1|\n",
            "|    max|            2022.0|              2022|            ÁGUAS BELAS|           SIM|   Órgãos acionados|     2022-09-23|                TERÇA|         TATUQUARA|                  172|\n",
            "+-------+------------------+------------------+-----------------------+--------------+-------------------+---------------+---------------------+------------------+---------------------+\n",
            "\n"
          ]
        }
      ]
    },
    {
      "cell_type": "code",
      "source": [
        "sparkDF.printSchema()"
      ],
      "metadata": {
        "colab": {
          "base_uri": "https://localhost:8080/"
        },
        "id": "yPpM26U4Y_qW",
        "outputId": "7b186b0d-c38b-4bdc-97cd-c2f604b8e7aa"
      },
      "execution_count": null,
      "outputs": [
        {
          "output_type": "stream",
          "name": "stdout",
          "text": [
            "root\n",
            " |-- ATENDIMENTO_ANO: double (nullable = true)\n",
            " |-- OCORRENCIA_ANO: long (nullable = true)\n",
            " |-- ATENDIMENTO_BAIRRO_NOME: string (nullable = true)\n",
            " |-- FLAG_FLAGRANTE: string (nullable = true)\n",
            " |-- NATUREZA1_DESCRICAO: string (nullable = true)\n",
            " |-- OCORRENCIA_DATA: string (nullable = true)\n",
            " |-- OCORRENCIA_DIA_SEMANA: string (nullable = true)\n",
            " |-- REGIONAL_FATO_NOME: string (nullable = true)\n",
            " |-- QUANTIDADE_OCORRENCIA: long (nullable = true)\n",
            "\n"
          ]
        }
      ]
    },
    {
      "cell_type": "markdown",
      "source": [
        "### **Tratamento de dados**"
      ],
      "metadata": {
        "id": "y3Q1_zppiLOE"
      }
    },
    {
      "cell_type": "markdown",
      "source": [
        "- Contagem de linhas duplicadas"
      ],
      "metadata": {
        "id": "dku9-tT-U7qL"
      }
    },
    {
      "cell_type": "code",
      "source": [
        "import pyspark.sql.functions as funcs\n",
        "sparkDF.groupby(sparkDF.columns).count().where(funcs.col('count') > 1).select(funcs.sum('count')).show()"
      ],
      "metadata": {
        "colab": {
          "base_uri": "https://localhost:8080/"
        },
        "id": "NRnrA8uDTqkd",
        "outputId": "e01932df-5e28-43fe-dd9d-da11e1258469"
      },
      "execution_count": null,
      "outputs": [
        {
          "output_type": "stream",
          "name": "stdout",
          "text": [
            "+----------+\n",
            "|sum(count)|\n",
            "+----------+\n",
            "|      null|\n",
            "+----------+\n",
            "\n"
          ]
        }
      ]
    },
    {
      "cell_type": "markdown",
      "source": [
        "- Achar colunas numericas e categoricas"
      ],
      "metadata": {
        "id": "T4mNh38eU-3N"
      }
    },
    {
      "cell_type": "code",
      "source": [
        "colunas_numericas = list()\n",
        "colunas_categoricas = list()\n",
        "for col_ in sparkDF.columns:\n",
        "    if sparkDF.select(col_).dtypes[0][1] != \"string\":\n",
        "        colunas_numericas.append(col_)\n",
        "    else:\n",
        "        colunas_categoricas.append(col_)\n",
        "        \n",
        "print(\"Colunas Numericas\",colunas_numericas)\n",
        "print(\"Colunas Categoricas\",colunas_categoricas)"
      ],
      "metadata": {
        "colab": {
          "base_uri": "https://localhost:8080/"
        },
        "id": "VgVFOiClT3tD",
        "outputId": "36125a88-2c03-4de4-87ae-ccd1b4d51f9d"
      },
      "execution_count": null,
      "outputs": [
        {
          "output_type": "stream",
          "name": "stdout",
          "text": [
            "Colunas Numericas ['ATENDIMENTO_ANO', 'OCORRENCIA_ANO', 'QUANTIDADE_OCORRENCIA']\n",
            "Colunas Categoricas ['ATENDIMENTO_BAIRRO_NOME', 'FLAG_FLAGRANTE', 'NATUREZA1_DESCRICAO', 'OCORRENCIA_DATA', 'OCORRENCIA_DIA_SEMANA', 'REGIONAL_FATO_NOME']\n"
          ]
        }
      ]
    },
    {
      "cell_type": "markdown",
      "source": [
        "- Contagem de valores nulos"
      ],
      "metadata": {
        "id": "3O-bpv4aVCeB"
      }
    },
    {
      "cell_type": "code",
      "source": [
        "from pyspark.sql.functions import *\n",
        "print(sparkDF.select([count(when(isnan(c) | col(c).isNull(), c)).alias(c) for c in sparkDF.columns]).show())"
      ],
      "metadata": {
        "colab": {
          "base_uri": "https://localhost:8080/"
        },
        "id": "KRHw0_OjT92R",
        "outputId": "939d5123-f1a4-4aec-f21c-c0460c564f40"
      },
      "execution_count": null,
      "outputs": [
        {
          "output_type": "stream",
          "name": "stdout",
          "text": [
            "+---------------+--------------+-----------------------+--------------+-------------------+---------------+---------------------+------------------+---------------------+\n",
            "|ATENDIMENTO_ANO|OCORRENCIA_ANO|ATENDIMENTO_BAIRRO_NOME|FLAG_FLAGRANTE|NATUREZA1_DESCRICAO|OCORRENCIA_DATA|OCORRENCIA_DIA_SEMANA|REGIONAL_FATO_NOME|QUANTIDADE_OCORRENCIA|\n",
            "+---------------+--------------+-----------------------+--------------+-------------------+---------------+---------------------+------------------+---------------------+\n",
            "|              0|             0|                      0|             0|                  0|              0|                    0|                 0|                    0|\n",
            "+---------------+--------------+-----------------------+--------------+-------------------+---------------+---------------------+------------------+---------------------+\n",
            "\n",
            "None\n"
          ]
        }
      ]
    },
    {
      "cell_type": "markdown",
      "source": [
        "### **Análise descritiva de dados**"
      ],
      "metadata": {
        "id": "YbuNHCGYiT4i"
      }
    },
    {
      "cell_type": "markdown",
      "source": [
        "Métricas"
      ],
      "metadata": {
        "id": "KBCdNvPeVJav"
      }
    },
    {
      "cell_type": "code",
      "source": [
        "sparkDF.summary().show()"
      ],
      "metadata": {
        "colab": {
          "base_uri": "https://localhost:8080/"
        },
        "id": "PYni6dJfKPq9",
        "outputId": "380f5b78-b102-460e-a10f-6aca4b5ad90a"
      },
      "execution_count": null,
      "outputs": [
        {
          "output_type": "stream",
          "name": "stdout",
          "text": [
            "+-------+------------------+------------------+-----------------------+--------------+-------------------+---------------+---------------------+------------------+---------------------+\n",
            "|summary|   ATENDIMENTO_ANO|    OCORRENCIA_ANO|ATENDIMENTO_BAIRRO_NOME|FLAG_FLAGRANTE|NATUREZA1_DESCRICAO|OCORRENCIA_DATA|OCORRENCIA_DIA_SEMANA|REGIONAL_FATO_NOME|QUANTIDADE_OCORRENCIA|\n",
            "+-------+------------------+------------------+-----------------------+--------------+-------------------+---------------+---------------------+------------------+---------------------+\n",
            "|  count|            323781|            323781|                 323781|        323781|             323781|         323781|               323781|            323781|               323781|\n",
            "|   mean|2016.2981706770934|2016.2980749333653|                   null|          null|               null|           null|                 null|              null|   1.2906439846686495|\n",
            "| stddev|  4.12142061320426| 4.121393441914671|                   null|          null|               null|           null|                 null|              null|   1.3256474808587768|\n",
            "|    min|            2009.0|              2009|          JARDIM OSASCO|           NÃO|               AIFU|     2009-01-01|              DOMINGO|       BAIRRO NOVO|                    1|\n",
            "|    25%|            2013.0|              2013|                   null|          null|               null|           null|                 null|              null|                    1|\n",
            "|    50%|            2017.0|              2017|                   null|          null|               null|           null|                 null|              null|                    1|\n",
            "|    75%|            2020.0|              2020|                   null|          null|               null|           null|                 null|              null|                    1|\n",
            "|    max|            2022.0|              2022|            ÁGUAS BELAS|           SIM|   Órgãos acionados|     2022-09-23|                TERÇA|         TATUQUARA|                  172|\n",
            "+-------+------------------+------------------+-----------------------+--------------+-------------------+---------------+---------------------+------------------+---------------------+\n",
            "\n"
          ]
        }
      ]
    }
  ]
}